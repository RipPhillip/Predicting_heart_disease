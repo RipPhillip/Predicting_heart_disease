{
 "cells": [
  {
   "cell_type": "markdown",
   "metadata": {},
   "source": [
    "# Predicting Cardiovascular Disease\n",
    "---\n",
    "\n",
    "By: Cassie Nutter"
   ]
  },
  {
   "cell_type": "markdown",
   "metadata": {},
   "source": [
    "The purpose of this notebook is to find the model that best predicts if a patient has cardiovascular disease.\n",
    "\n",
    "This notebook follows the data science process OSEMN (Obtain, Scrub, Explore, Model, iNterpret)"
   ]
  },
  {
   "cell_type": "markdown",
   "metadata": {},
   "source": [
    "### Import libraries that will be used:"
   ]
  },
  {
   "cell_type": "code",
   "execution_count": 1,
   "metadata": {
    "ExecuteTime": {
     "end_time": "2021-02-10T03:12:28.647297Z",
     "start_time": "2021-02-10T03:12:27.495092Z"
    }
   },
   "outputs": [],
   "source": [
    "import pandas as pd\n",
    "import numpy as np\n",
    "import matplotlib.pyplot as plt\n",
    "%matplotlib inline\n",
    "import seaborn as sns\n",
    "sns.set_style('whitegrid')\n",
    "from pywaffle import Waffle\n",
    "import plotly.express as px\n",
    "\n",
    "import warnings\n",
    "warnings.filterwarnings('ignore')\n",
    "\n",
    "from sklearn.model_selection import train_test_split, GridSearchCV, \\\n",
    "RandomizedSearchCV\n",
    "from sklearn.preprocessing import MinMaxScaler, StandardScaler, OneHotEncoder\n",
    "\n",
    "from sklearn.linear_model import LogisticRegression\n",
    "from sklearn.ensemble import RandomForestClassifier\n",
    "from sklearn.svm import SVC\n",
    "from sklearn.neighbors import KNeighborsClassifier\n",
    "from sklearn.tree import DecisionTreeClassifier, plot_tree\n",
    "from xgboost import XGBClassifier\n",
    "from sklearn.metrics import f1_score, accuracy_score, classification_report,\\\n",
    "confusion_matrix, roc_auc_score, plot_confusion_matrix, plot_roc_curve"
   ]
  },
  {
   "cell_type": "markdown",
   "metadata": {},
   "source": [
    "## Obtain data\n",
    "---\n",
    "The data was obtained from [Kaggle](https://www.kaggle.com/sulianova/cardiovascular-disease-dataset)."
   ]
  },
  {
   "cell_type": "code",
   "execution_count": 2,
   "metadata": {
    "ExecuteTime": {
     "end_time": "2021-02-10T03:12:28.702825Z",
     "start_time": "2021-02-10T03:12:28.649086Z"
    }
   },
   "outputs": [],
   "source": [
    "df = pd.read_csv('data/cardio_train.csv', sep= ';')"
   ]
  },
  {
   "cell_type": "code",
   "execution_count": 3,
   "metadata": {
    "ExecuteTime": {
     "end_time": "2021-02-10T03:12:28.718220Z",
     "start_time": "2021-02-10T03:12:28.705585Z"
    }
   },
   "outputs": [
    {
     "data": {
      "text/html": [
       "<div>\n",
       "<style scoped>\n",
       "    .dataframe tbody tr th:only-of-type {\n",
       "        vertical-align: middle;\n",
       "    }\n",
       "\n",
       "    .dataframe tbody tr th {\n",
       "        vertical-align: top;\n",
       "    }\n",
       "\n",
       "    .dataframe thead th {\n",
       "        text-align: right;\n",
       "    }\n",
       "</style>\n",
       "<table border=\"1\" class=\"dataframe\">\n",
       "  <thead>\n",
       "    <tr style=\"text-align: right;\">\n",
       "      <th></th>\n",
       "      <th>id</th>\n",
       "      <th>age</th>\n",
       "      <th>gender</th>\n",
       "      <th>height</th>\n",
       "      <th>weight</th>\n",
       "      <th>ap_hi</th>\n",
       "      <th>ap_lo</th>\n",
       "      <th>cholesterol</th>\n",
       "      <th>gluc</th>\n",
       "      <th>smoke</th>\n",
       "      <th>alco</th>\n",
       "      <th>active</th>\n",
       "      <th>cardio</th>\n",
       "    </tr>\n",
       "  </thead>\n",
       "  <tbody>\n",
       "    <tr>\n",
       "      <th>0</th>\n",
       "      <td>0</td>\n",
       "      <td>18393</td>\n",
       "      <td>2</td>\n",
       "      <td>168</td>\n",
       "      <td>62.0</td>\n",
       "      <td>110</td>\n",
       "      <td>80</td>\n",
       "      <td>1</td>\n",
       "      <td>1</td>\n",
       "      <td>0</td>\n",
       "      <td>0</td>\n",
       "      <td>1</td>\n",
       "      <td>0</td>\n",
       "    </tr>\n",
       "    <tr>\n",
       "      <th>1</th>\n",
       "      <td>1</td>\n",
       "      <td>20228</td>\n",
       "      <td>1</td>\n",
       "      <td>156</td>\n",
       "      <td>85.0</td>\n",
       "      <td>140</td>\n",
       "      <td>90</td>\n",
       "      <td>3</td>\n",
       "      <td>1</td>\n",
       "      <td>0</td>\n",
       "      <td>0</td>\n",
       "      <td>1</td>\n",
       "      <td>1</td>\n",
       "    </tr>\n",
       "    <tr>\n",
       "      <th>2</th>\n",
       "      <td>2</td>\n",
       "      <td>18857</td>\n",
       "      <td>1</td>\n",
       "      <td>165</td>\n",
       "      <td>64.0</td>\n",
       "      <td>130</td>\n",
       "      <td>70</td>\n",
       "      <td>3</td>\n",
       "      <td>1</td>\n",
       "      <td>0</td>\n",
       "      <td>0</td>\n",
       "      <td>0</td>\n",
       "      <td>1</td>\n",
       "    </tr>\n",
       "    <tr>\n",
       "      <th>3</th>\n",
       "      <td>3</td>\n",
       "      <td>17623</td>\n",
       "      <td>2</td>\n",
       "      <td>169</td>\n",
       "      <td>82.0</td>\n",
       "      <td>150</td>\n",
       "      <td>100</td>\n",
       "      <td>1</td>\n",
       "      <td>1</td>\n",
       "      <td>0</td>\n",
       "      <td>0</td>\n",
       "      <td>1</td>\n",
       "      <td>1</td>\n",
       "    </tr>\n",
       "    <tr>\n",
       "      <th>4</th>\n",
       "      <td>4</td>\n",
       "      <td>17474</td>\n",
       "      <td>1</td>\n",
       "      <td>156</td>\n",
       "      <td>56.0</td>\n",
       "      <td>100</td>\n",
       "      <td>60</td>\n",
       "      <td>1</td>\n",
       "      <td>1</td>\n",
       "      <td>0</td>\n",
       "      <td>0</td>\n",
       "      <td>0</td>\n",
       "      <td>0</td>\n",
       "    </tr>\n",
       "  </tbody>\n",
       "</table>\n",
       "</div>"
      ],
      "text/plain": [
       "   id    age  gender  height  weight  ap_hi  ap_lo  cholesterol  gluc  smoke  \\\n",
       "0   0  18393       2     168    62.0    110     80            1     1      0   \n",
       "1   1  20228       1     156    85.0    140     90            3     1      0   \n",
       "2   2  18857       1     165    64.0    130     70            3     1      0   \n",
       "3   3  17623       2     169    82.0    150    100            1     1      0   \n",
       "4   4  17474       1     156    56.0    100     60            1     1      0   \n",
       "\n",
       "   alco  active  cardio  \n",
       "0     0       1       0  \n",
       "1     0       1       1  \n",
       "2     0       0       1  \n",
       "3     0       1       1  \n",
       "4     0       0       0  "
      ]
     },
     "execution_count": 3,
     "metadata": {},
     "output_type": "execute_result"
    }
   ],
   "source": [
    "df.head()"
   ]
  },
  {
   "cell_type": "code",
   "execution_count": 4,
   "metadata": {
    "ExecuteTime": {
     "end_time": "2021-02-10T03:12:28.731330Z",
     "start_time": "2021-02-10T03:12:28.720074Z"
    }
   },
   "outputs": [
    {
     "name": "stdout",
     "output_type": "stream",
     "text": [
      "<class 'pandas.core.frame.DataFrame'>\n",
      "RangeIndex: 70000 entries, 0 to 69999\n",
      "Data columns (total 13 columns):\n",
      " #   Column       Non-Null Count  Dtype  \n",
      "---  ------       --------------  -----  \n",
      " 0   id           70000 non-null  int64  \n",
      " 1   age          70000 non-null  int64  \n",
      " 2   gender       70000 non-null  int64  \n",
      " 3   height       70000 non-null  int64  \n",
      " 4   weight       70000 non-null  float64\n",
      " 5   ap_hi        70000 non-null  int64  \n",
      " 6   ap_lo        70000 non-null  int64  \n",
      " 7   cholesterol  70000 non-null  int64  \n",
      " 8   gluc         70000 non-null  int64  \n",
      " 9   smoke        70000 non-null  int64  \n",
      " 10  alco         70000 non-null  int64  \n",
      " 11  active       70000 non-null  int64  \n",
      " 12  cardio       70000 non-null  int64  \n",
      "dtypes: float64(1), int64(12)\n",
      "memory usage: 6.9 MB\n"
     ]
    }
   ],
   "source": [
    "df.info()"
   ]
  },
  {
   "cell_type": "code",
   "execution_count": 5,
   "metadata": {
    "ExecuteTime": {
     "end_time": "2021-02-10T03:12:28.785540Z",
     "start_time": "2021-02-10T03:12:28.733083Z"
    }
   },
   "outputs": [
    {
     "data": {
      "text/html": [
       "<div>\n",
       "<style scoped>\n",
       "    .dataframe tbody tr th:only-of-type {\n",
       "        vertical-align: middle;\n",
       "    }\n",
       "\n",
       "    .dataframe tbody tr th {\n",
       "        vertical-align: top;\n",
       "    }\n",
       "\n",
       "    .dataframe thead th {\n",
       "        text-align: right;\n",
       "    }\n",
       "</style>\n",
       "<table border=\"1\" class=\"dataframe\">\n",
       "  <thead>\n",
       "    <tr style=\"text-align: right;\">\n",
       "      <th></th>\n",
       "      <th>count</th>\n",
       "      <th>mean</th>\n",
       "      <th>std</th>\n",
       "      <th>min</th>\n",
       "      <th>25%</th>\n",
       "      <th>50%</th>\n",
       "      <th>75%</th>\n",
       "      <th>max</th>\n",
       "    </tr>\n",
       "  </thead>\n",
       "  <tbody>\n",
       "    <tr>\n",
       "      <th>id</th>\n",
       "      <td>70000.0</td>\n",
       "      <td>49972.419900</td>\n",
       "      <td>28851.302323</td>\n",
       "      <td>0.0</td>\n",
       "      <td>25006.75</td>\n",
       "      <td>50001.5</td>\n",
       "      <td>74889.25</td>\n",
       "      <td>99999.0</td>\n",
       "    </tr>\n",
       "    <tr>\n",
       "      <th>age</th>\n",
       "      <td>70000.0</td>\n",
       "      <td>19468.865814</td>\n",
       "      <td>2467.251667</td>\n",
       "      <td>10798.0</td>\n",
       "      <td>17664.00</td>\n",
       "      <td>19703.0</td>\n",
       "      <td>21327.00</td>\n",
       "      <td>23713.0</td>\n",
       "    </tr>\n",
       "    <tr>\n",
       "      <th>gender</th>\n",
       "      <td>70000.0</td>\n",
       "      <td>1.349571</td>\n",
       "      <td>0.476838</td>\n",
       "      <td>1.0</td>\n",
       "      <td>1.00</td>\n",
       "      <td>1.0</td>\n",
       "      <td>2.00</td>\n",
       "      <td>2.0</td>\n",
       "    </tr>\n",
       "    <tr>\n",
       "      <th>height</th>\n",
       "      <td>70000.0</td>\n",
       "      <td>164.359229</td>\n",
       "      <td>8.210126</td>\n",
       "      <td>55.0</td>\n",
       "      <td>159.00</td>\n",
       "      <td>165.0</td>\n",
       "      <td>170.00</td>\n",
       "      <td>250.0</td>\n",
       "    </tr>\n",
       "    <tr>\n",
       "      <th>weight</th>\n",
       "      <td>70000.0</td>\n",
       "      <td>74.205690</td>\n",
       "      <td>14.395757</td>\n",
       "      <td>10.0</td>\n",
       "      <td>65.00</td>\n",
       "      <td>72.0</td>\n",
       "      <td>82.00</td>\n",
       "      <td>200.0</td>\n",
       "    </tr>\n",
       "    <tr>\n",
       "      <th>ap_hi</th>\n",
       "      <td>70000.0</td>\n",
       "      <td>128.817286</td>\n",
       "      <td>154.011419</td>\n",
       "      <td>-150.0</td>\n",
       "      <td>120.00</td>\n",
       "      <td>120.0</td>\n",
       "      <td>140.00</td>\n",
       "      <td>16020.0</td>\n",
       "    </tr>\n",
       "    <tr>\n",
       "      <th>ap_lo</th>\n",
       "      <td>70000.0</td>\n",
       "      <td>96.630414</td>\n",
       "      <td>188.472530</td>\n",
       "      <td>-70.0</td>\n",
       "      <td>80.00</td>\n",
       "      <td>80.0</td>\n",
       "      <td>90.00</td>\n",
       "      <td>11000.0</td>\n",
       "    </tr>\n",
       "    <tr>\n",
       "      <th>cholesterol</th>\n",
       "      <td>70000.0</td>\n",
       "      <td>1.366871</td>\n",
       "      <td>0.680250</td>\n",
       "      <td>1.0</td>\n",
       "      <td>1.00</td>\n",
       "      <td>1.0</td>\n",
       "      <td>2.00</td>\n",
       "      <td>3.0</td>\n",
       "    </tr>\n",
       "    <tr>\n",
       "      <th>gluc</th>\n",
       "      <td>70000.0</td>\n",
       "      <td>1.226457</td>\n",
       "      <td>0.572270</td>\n",
       "      <td>1.0</td>\n",
       "      <td>1.00</td>\n",
       "      <td>1.0</td>\n",
       "      <td>1.00</td>\n",
       "      <td>3.0</td>\n",
       "    </tr>\n",
       "    <tr>\n",
       "      <th>smoke</th>\n",
       "      <td>70000.0</td>\n",
       "      <td>0.088129</td>\n",
       "      <td>0.283484</td>\n",
       "      <td>0.0</td>\n",
       "      <td>0.00</td>\n",
       "      <td>0.0</td>\n",
       "      <td>0.00</td>\n",
       "      <td>1.0</td>\n",
       "    </tr>\n",
       "    <tr>\n",
       "      <th>alco</th>\n",
       "      <td>70000.0</td>\n",
       "      <td>0.053771</td>\n",
       "      <td>0.225568</td>\n",
       "      <td>0.0</td>\n",
       "      <td>0.00</td>\n",
       "      <td>0.0</td>\n",
       "      <td>0.00</td>\n",
       "      <td>1.0</td>\n",
       "    </tr>\n",
       "    <tr>\n",
       "      <th>active</th>\n",
       "      <td>70000.0</td>\n",
       "      <td>0.803729</td>\n",
       "      <td>0.397179</td>\n",
       "      <td>0.0</td>\n",
       "      <td>1.00</td>\n",
       "      <td>1.0</td>\n",
       "      <td>1.00</td>\n",
       "      <td>1.0</td>\n",
       "    </tr>\n",
       "    <tr>\n",
       "      <th>cardio</th>\n",
       "      <td>70000.0</td>\n",
       "      <td>0.499700</td>\n",
       "      <td>0.500003</td>\n",
       "      <td>0.0</td>\n",
       "      <td>0.00</td>\n",
       "      <td>0.0</td>\n",
       "      <td>1.00</td>\n",
       "      <td>1.0</td>\n",
       "    </tr>\n",
       "  </tbody>\n",
       "</table>\n",
       "</div>"
      ],
      "text/plain": [
       "               count          mean           std      min       25%      50%  \\\n",
       "id           70000.0  49972.419900  28851.302323      0.0  25006.75  50001.5   \n",
       "age          70000.0  19468.865814   2467.251667  10798.0  17664.00  19703.0   \n",
       "gender       70000.0      1.349571      0.476838      1.0      1.00      1.0   \n",
       "height       70000.0    164.359229      8.210126     55.0    159.00    165.0   \n",
       "weight       70000.0     74.205690     14.395757     10.0     65.00     72.0   \n",
       "ap_hi        70000.0    128.817286    154.011419   -150.0    120.00    120.0   \n",
       "ap_lo        70000.0     96.630414    188.472530    -70.0     80.00     80.0   \n",
       "cholesterol  70000.0      1.366871      0.680250      1.0      1.00      1.0   \n",
       "gluc         70000.0      1.226457      0.572270      1.0      1.00      1.0   \n",
       "smoke        70000.0      0.088129      0.283484      0.0      0.00      0.0   \n",
       "alco         70000.0      0.053771      0.225568      0.0      0.00      0.0   \n",
       "active       70000.0      0.803729      0.397179      0.0      1.00      1.0   \n",
       "cardio       70000.0      0.499700      0.500003      0.0      0.00      0.0   \n",
       "\n",
       "                  75%      max  \n",
       "id           74889.25  99999.0  \n",
       "age          21327.00  23713.0  \n",
       "gender           2.00      2.0  \n",
       "height         170.00    250.0  \n",
       "weight          82.00    200.0  \n",
       "ap_hi          140.00  16020.0  \n",
       "ap_lo           90.00  11000.0  \n",
       "cholesterol      2.00      3.0  \n",
       "gluc             1.00      3.0  \n",
       "smoke            0.00      1.0  \n",
       "alco             0.00      1.0  \n",
       "active           1.00      1.0  \n",
       "cardio           1.00      1.0  "
      ]
     },
     "execution_count": 5,
     "metadata": {},
     "output_type": "execute_result"
    }
   ],
   "source": [
    "df.describe().T"
   ]
  },
  {
   "cell_type": "code",
   "execution_count": 6,
   "metadata": {
    "ExecuteTime": {
     "end_time": "2021-02-10T03:12:28.793227Z",
     "start_time": "2021-02-10T03:12:28.787061Z"
    }
   },
   "outputs": [
    {
     "data": {
      "text/plain": [
       "0    0.5003\n",
       "1    0.4997\n",
       "Name: cardio, dtype: float64"
      ]
     },
     "execution_count": 6,
     "metadata": {},
     "output_type": "execute_result"
    }
   ],
   "source": [
    "df.cardio.value_counts(normalize= True)"
   ]
  },
  {
   "cell_type": "markdown",
   "metadata": {},
   "source": [
    "### Data contents:\n",
    "\n",
    "* 70,000 data points\n",
    "* Almost equal counts of patients with and without cardiovascular disease\n",
    "* Five continuous features, six categorical features"
   ]
  },
  {
   "cell_type": "markdown",
   "metadata": {},
   "source": [
    "### Data feature descriptions:\n",
    "1. Age | Objective Feature | age | int (days)\n",
    "2. Height | Objective Feature | height | int (cm) |\n",
    "3. Weight | Objective Feature | weight | float (kg) |\n",
    "4. Gender | Objective Feature | gender | categorical code |\n",
    "5. Systolic blood pressure | Examination Feature | ap_hi | int |\n",
    "6. Diastolic blood pressure | Examination Feature | ap_lo | int |\n",
    "7. Cholesterol | Examination Feature | cholesterol | 1: normal, 2: above normal, 3: well above normal |\n",
    "8. Glucose | Examination Feature | gluc | 1: normal, 2: above normal, 3: well above normal |\n",
    "9. Smoking | Subjective Feature | smoke | binary |\n",
    "10. Alcohol intake | Subjective Feature | alco | binary |\n",
    "11. Physical activity | Subjective Feature | active | binary |\n",
    "12. Presence or absence of cardiovascular disease | Target Variable | cardio | binary |"
   ]
  },
  {
   "cell_type": "markdown",
   "metadata": {},
   "source": [
    "## Scrub\n",
    "Data cleaning"
   ]
  },
  {
   "cell_type": "code",
   "execution_count": 7,
   "metadata": {
    "ExecuteTime": {
     "end_time": "2021-02-10T03:12:28.799812Z",
     "start_time": "2021-02-10T03:12:28.794518Z"
    }
   },
   "outputs": [
    {
     "data": {
      "text/plain": [
       "id             0\n",
       "age            0\n",
       "gender         0\n",
       "height         0\n",
       "weight         0\n",
       "ap_hi          0\n",
       "ap_lo          0\n",
       "cholesterol    0\n",
       "gluc           0\n",
       "smoke          0\n",
       "alco           0\n",
       "active         0\n",
       "cardio         0\n",
       "dtype: int64"
      ]
     },
     "execution_count": 7,
     "metadata": {},
     "output_type": "execute_result"
    }
   ],
   "source": [
    "# Check for missing values\n",
    "df.isna().sum()"
   ]
  },
  {
   "cell_type": "code",
   "execution_count": 8,
   "metadata": {
    "ExecuteTime": {
     "end_time": "2021-02-10T03:12:28.827577Z",
     "start_time": "2021-02-10T03:12:28.802582Z"
    }
   },
   "outputs": [
    {
     "data": {
      "text/plain": [
       "0"
      ]
     },
     "execution_count": 8,
     "metadata": {},
     "output_type": "execute_result"
    }
   ],
   "source": [
    "# check for duplicate values\n",
    "df.duplicated().sum()"
   ]
  },
  {
   "cell_type": "code",
   "execution_count": 9,
   "metadata": {
    "ExecuteTime": {
     "end_time": "2021-02-10T03:12:28.842949Z",
     "start_time": "2021-02-10T03:12:28.831147Z"
    }
   },
   "outputs": [],
   "source": [
    "# drop id column\n",
    "df.drop('id', axis= 1, inplace= True)\n",
    "\n",
    "# change gender from 1 or 2 to 0 or 1\n",
    "df['gender'].replace(2, 0, inplace= True)\n",
    "\n",
    "# change age from days to years\n",
    "df['age'] = round(df['age'] / 365, 1)"
   ]
  },
  {
   "cell_type": "code",
   "execution_count": 10,
   "metadata": {
    "ExecuteTime": {
     "end_time": "2021-02-10T03:12:28.850300Z",
     "start_time": "2021-02-10T03:12:28.844563Z"
    }
   },
   "outputs": [
    {
     "name": "stdout",
     "output_type": "stream",
     "text": [
      "29.6\n"
     ]
    },
    {
     "data": {
      "text/plain": [
       "65.0"
      ]
     },
     "execution_count": 10,
     "metadata": {},
     "output_type": "execute_result"
    }
   ],
   "source": [
    "print(df.age.min())\n",
    "df.age.max()"
   ]
  },
  {
   "cell_type": "markdown",
   "metadata": {},
   "source": [
    "Our data contains adults from ages 29 - 65 years old.\n",
    "\n",
    "Some of the heights seemed suspicious so we will check them out."
   ]
  },
  {
   "cell_type": "code",
   "execution_count": 11,
   "metadata": {
    "ExecuteTime": {
     "end_time": "2021-02-10T03:12:28.869927Z",
     "start_time": "2021-02-10T03:12:28.852059Z"
    },
    "scrolled": false
   },
   "outputs": [
    {
     "data": {
      "text/html": [
       "<div>\n",
       "<style scoped>\n",
       "    .dataframe tbody tr th:only-of-type {\n",
       "        vertical-align: middle;\n",
       "    }\n",
       "\n",
       "    .dataframe tbody tr th {\n",
       "        vertical-align: top;\n",
       "    }\n",
       "\n",
       "    .dataframe thead th {\n",
       "        text-align: right;\n",
       "    }\n",
       "</style>\n",
       "<table border=\"1\" class=\"dataframe\">\n",
       "  <thead>\n",
       "    <tr style=\"text-align: right;\">\n",
       "      <th></th>\n",
       "      <th>age</th>\n",
       "      <th>gender</th>\n",
       "      <th>height</th>\n",
       "      <th>weight</th>\n",
       "      <th>ap_hi</th>\n",
       "      <th>ap_lo</th>\n",
       "      <th>cholesterol</th>\n",
       "      <th>gluc</th>\n",
       "      <th>smoke</th>\n",
       "      <th>alco</th>\n",
       "      <th>active</th>\n",
       "      <th>cardio</th>\n",
       "    </tr>\n",
       "  </thead>\n",
       "  <tbody>\n",
       "    <tr>\n",
       "      <th>224</th>\n",
       "      <td>59.7</td>\n",
       "      <td>0</td>\n",
       "      <td>76</td>\n",
       "      <td>55.0</td>\n",
       "      <td>120</td>\n",
       "      <td>80</td>\n",
       "      <td>1</td>\n",
       "      <td>1</td>\n",
       "      <td>0</td>\n",
       "      <td>0</td>\n",
       "      <td>1</td>\n",
       "      <td>0</td>\n",
       "    </tr>\n",
       "    <tr>\n",
       "      <th>7598</th>\n",
       "      <td>40.2</td>\n",
       "      <td>0</td>\n",
       "      <td>70</td>\n",
       "      <td>72.0</td>\n",
       "      <td>120</td>\n",
       "      <td>8</td>\n",
       "      <td>1</td>\n",
       "      <td>1</td>\n",
       "      <td>0</td>\n",
       "      <td>0</td>\n",
       "      <td>1</td>\n",
       "      <td>0</td>\n",
       "    </tr>\n",
       "    <tr>\n",
       "      <th>8171</th>\n",
       "      <td>48.3</td>\n",
       "      <td>0</td>\n",
       "      <td>97</td>\n",
       "      <td>170.0</td>\n",
       "      <td>160</td>\n",
       "      <td>100</td>\n",
       "      <td>1</td>\n",
       "      <td>1</td>\n",
       "      <td>1</td>\n",
       "      <td>0</td>\n",
       "      <td>1</td>\n",
       "      <td>1</td>\n",
       "    </tr>\n",
       "    <tr>\n",
       "      <th>12770</th>\n",
       "      <td>53.7</td>\n",
       "      <td>1</td>\n",
       "      <td>75</td>\n",
       "      <td>168.0</td>\n",
       "      <td>120</td>\n",
       "      <td>80</td>\n",
       "      <td>1</td>\n",
       "      <td>1</td>\n",
       "      <td>1</td>\n",
       "      <td>0</td>\n",
       "      <td>1</td>\n",
       "      <td>1</td>\n",
       "    </tr>\n",
       "    <tr>\n",
       "      <th>13265</th>\n",
       "      <td>61.5</td>\n",
       "      <td>0</td>\n",
       "      <td>71</td>\n",
       "      <td>68.0</td>\n",
       "      <td>120</td>\n",
       "      <td>80</td>\n",
       "      <td>3</td>\n",
       "      <td>1</td>\n",
       "      <td>0</td>\n",
       "      <td>0</td>\n",
       "      <td>1</td>\n",
       "      <td>0</td>\n",
       "    </tr>\n",
       "    <tr>\n",
       "      <th>14323</th>\n",
       "      <td>60.3</td>\n",
       "      <td>1</td>\n",
       "      <td>67</td>\n",
       "      <td>57.0</td>\n",
       "      <td>120</td>\n",
       "      <td>90</td>\n",
       "      <td>1</td>\n",
       "      <td>1</td>\n",
       "      <td>0</td>\n",
       "      <td>0</td>\n",
       "      <td>1</td>\n",
       "      <td>1</td>\n",
       "    </tr>\n",
       "    <tr>\n",
       "      <th>15167</th>\n",
       "      <td>43.3</td>\n",
       "      <td>1</td>\n",
       "      <td>70</td>\n",
       "      <td>68.0</td>\n",
       "      <td>120</td>\n",
       "      <td>80</td>\n",
       "      <td>1</td>\n",
       "      <td>1</td>\n",
       "      <td>0</td>\n",
       "      <td>0</td>\n",
       "      <td>0</td>\n",
       "      <td>0</td>\n",
       "    </tr>\n",
       "    <tr>\n",
       "      <th>16699</th>\n",
       "      <td>53.9</td>\n",
       "      <td>0</td>\n",
       "      <td>74</td>\n",
       "      <td>98.0</td>\n",
       "      <td>140</td>\n",
       "      <td>90</td>\n",
       "      <td>1</td>\n",
       "      <td>1</td>\n",
       "      <td>0</td>\n",
       "      <td>0</td>\n",
       "      <td>1</td>\n",
       "      <td>1</td>\n",
       "    </tr>\n",
       "    <tr>\n",
       "      <th>17277</th>\n",
       "      <td>48.0</td>\n",
       "      <td>1</td>\n",
       "      <td>98</td>\n",
       "      <td>45.0</td>\n",
       "      <td>12</td>\n",
       "      <td>80</td>\n",
       "      <td>1</td>\n",
       "      <td>1</td>\n",
       "      <td>0</td>\n",
       "      <td>0</td>\n",
       "      <td>1</td>\n",
       "      <td>0</td>\n",
       "    </tr>\n",
       "    <tr>\n",
       "      <th>22542</th>\n",
       "      <td>39.8</td>\n",
       "      <td>1</td>\n",
       "      <td>68</td>\n",
       "      <td>65.0</td>\n",
       "      <td>100</td>\n",
       "      <td>60</td>\n",
       "      <td>1</td>\n",
       "      <td>1</td>\n",
       "      <td>0</td>\n",
       "      <td>0</td>\n",
       "      <td>0</td>\n",
       "      <td>0</td>\n",
       "    </tr>\n",
       "    <tr>\n",
       "      <th>22723</th>\n",
       "      <td>64.1</td>\n",
       "      <td>1</td>\n",
       "      <td>55</td>\n",
       "      <td>81.0</td>\n",
       "      <td>130</td>\n",
       "      <td>90</td>\n",
       "      <td>1</td>\n",
       "      <td>1</td>\n",
       "      <td>0</td>\n",
       "      <td>0</td>\n",
       "      <td>1</td>\n",
       "      <td>1</td>\n",
       "    </tr>\n",
       "    <tr>\n",
       "      <th>23913</th>\n",
       "      <td>52.3</td>\n",
       "      <td>1</td>\n",
       "      <td>81</td>\n",
       "      <td>156.0</td>\n",
       "      <td>140</td>\n",
       "      <td>90</td>\n",
       "      <td>1</td>\n",
       "      <td>1</td>\n",
       "      <td>0</td>\n",
       "      <td>0</td>\n",
       "      <td>1</td>\n",
       "      <td>0</td>\n",
       "    </tr>\n",
       "    <tr>\n",
       "      <th>27384</th>\n",
       "      <td>41.9</td>\n",
       "      <td>1</td>\n",
       "      <td>80</td>\n",
       "      <td>178.0</td>\n",
       "      <td>140</td>\n",
       "      <td>90</td>\n",
       "      <td>3</td>\n",
       "      <td>3</td>\n",
       "      <td>0</td>\n",
       "      <td>0</td>\n",
       "      <td>1</td>\n",
       "      <td>1</td>\n",
       "    </tr>\n",
       "    <tr>\n",
       "      <th>27603</th>\n",
       "      <td>57.5</td>\n",
       "      <td>1</td>\n",
       "      <td>64</td>\n",
       "      <td>61.0</td>\n",
       "      <td>130</td>\n",
       "      <td>70</td>\n",
       "      <td>1</td>\n",
       "      <td>1</td>\n",
       "      <td>0</td>\n",
       "      <td>0</td>\n",
       "      <td>1</td>\n",
       "      <td>0</td>\n",
       "    </tr>\n",
       "    <tr>\n",
       "      <th>28737</th>\n",
       "      <td>54.1</td>\n",
       "      <td>1</td>\n",
       "      <td>91</td>\n",
       "      <td>55.0</td>\n",
       "      <td>140</td>\n",
       "      <td>90</td>\n",
       "      <td>1</td>\n",
       "      <td>1</td>\n",
       "      <td>0</td>\n",
       "      <td>0</td>\n",
       "      <td>1</td>\n",
       "      <td>1</td>\n",
       "    </tr>\n",
       "    <tr>\n",
       "      <th>29157</th>\n",
       "      <td>52.3</td>\n",
       "      <td>1</td>\n",
       "      <td>60</td>\n",
       "      <td>69.0</td>\n",
       "      <td>110</td>\n",
       "      <td>70</td>\n",
       "      <td>1</td>\n",
       "      <td>1</td>\n",
       "      <td>0</td>\n",
       "      <td>0</td>\n",
       "      <td>0</td>\n",
       "      <td>0</td>\n",
       "    </tr>\n",
       "    <tr>\n",
       "      <th>32098</th>\n",
       "      <td>42.1</td>\n",
       "      <td>1</td>\n",
       "      <td>72</td>\n",
       "      <td>74.0</td>\n",
       "      <td>150</td>\n",
       "      <td>90</td>\n",
       "      <td>1</td>\n",
       "      <td>1</td>\n",
       "      <td>0</td>\n",
       "      <td>0</td>\n",
       "      <td>1</td>\n",
       "      <td>1</td>\n",
       "    </tr>\n",
       "    <tr>\n",
       "      <th>33607</th>\n",
       "      <td>54.0</td>\n",
       "      <td>0</td>\n",
       "      <td>65</td>\n",
       "      <td>72.0</td>\n",
       "      <td>130</td>\n",
       "      <td>80</td>\n",
       "      <td>1</td>\n",
       "      <td>1</td>\n",
       "      <td>0</td>\n",
       "      <td>0</td>\n",
       "      <td>0</td>\n",
       "      <td>0</td>\n",
       "    </tr>\n",
       "    <tr>\n",
       "      <th>44490</th>\n",
       "      <td>52.4</td>\n",
       "      <td>1</td>\n",
       "      <td>65</td>\n",
       "      <td>60.0</td>\n",
       "      <td>120</td>\n",
       "      <td>80</td>\n",
       "      <td>1</td>\n",
       "      <td>1</td>\n",
       "      <td>0</td>\n",
       "      <td>0</td>\n",
       "      <td>1</td>\n",
       "      <td>0</td>\n",
       "    </tr>\n",
       "    <tr>\n",
       "      <th>46319</th>\n",
       "      <td>57.6</td>\n",
       "      <td>0</td>\n",
       "      <td>68</td>\n",
       "      <td>71.0</td>\n",
       "      <td>120</td>\n",
       "      <td>80</td>\n",
       "      <td>1</td>\n",
       "      <td>1</td>\n",
       "      <td>0</td>\n",
       "      <td>0</td>\n",
       "      <td>1</td>\n",
       "      <td>0</td>\n",
       "    </tr>\n",
       "    <tr>\n",
       "      <th>47352</th>\n",
       "      <td>63.8</td>\n",
       "      <td>1</td>\n",
       "      <td>75</td>\n",
       "      <td>75.0</td>\n",
       "      <td>120</td>\n",
       "      <td>80</td>\n",
       "      <td>1</td>\n",
       "      <td>1</td>\n",
       "      <td>0</td>\n",
       "      <td>0</td>\n",
       "      <td>1</td>\n",
       "      <td>0</td>\n",
       "    </tr>\n",
       "    <tr>\n",
       "      <th>50789</th>\n",
       "      <td>39.7</td>\n",
       "      <td>0</td>\n",
       "      <td>67</td>\n",
       "      <td>60.0</td>\n",
       "      <td>110</td>\n",
       "      <td>80</td>\n",
       "      <td>1</td>\n",
       "      <td>1</td>\n",
       "      <td>1</td>\n",
       "      <td>1</td>\n",
       "      <td>1</td>\n",
       "      <td>0</td>\n",
       "    </tr>\n",
       "    <tr>\n",
       "      <th>51459</th>\n",
       "      <td>42.3</td>\n",
       "      <td>0</td>\n",
       "      <td>70</td>\n",
       "      <td>69.0</td>\n",
       "      <td>120</td>\n",
       "      <td>80</td>\n",
       "      <td>1</td>\n",
       "      <td>1</td>\n",
       "      <td>0</td>\n",
       "      <td>0</td>\n",
       "      <td>0</td>\n",
       "      <td>0</td>\n",
       "    </tr>\n",
       "    <tr>\n",
       "      <th>53344</th>\n",
       "      <td>56.3</td>\n",
       "      <td>0</td>\n",
       "      <td>67</td>\n",
       "      <td>80.0</td>\n",
       "      <td>120</td>\n",
       "      <td>80</td>\n",
       "      <td>1</td>\n",
       "      <td>1</td>\n",
       "      <td>0</td>\n",
       "      <td>0</td>\n",
       "      <td>0</td>\n",
       "      <td>1</td>\n",
       "    </tr>\n",
       "    <tr>\n",
       "      <th>56022</th>\n",
       "      <td>58.0</td>\n",
       "      <td>1</td>\n",
       "      <td>96</td>\n",
       "      <td>59.0</td>\n",
       "      <td>90</td>\n",
       "      <td>60</td>\n",
       "      <td>1</td>\n",
       "      <td>1</td>\n",
       "      <td>0</td>\n",
       "      <td>0</td>\n",
       "      <td>1</td>\n",
       "      <td>1</td>\n",
       "    </tr>\n",
       "    <tr>\n",
       "      <th>64115</th>\n",
       "      <td>50.5</td>\n",
       "      <td>1</td>\n",
       "      <td>59</td>\n",
       "      <td>57.6</td>\n",
       "      <td>125</td>\n",
       "      <td>67</td>\n",
       "      <td>1</td>\n",
       "      <td>1</td>\n",
       "      <td>0</td>\n",
       "      <td>0</td>\n",
       "      <td>0</td>\n",
       "      <td>0</td>\n",
       "    </tr>\n",
       "    <tr>\n",
       "      <th>64454</th>\n",
       "      <td>58.5</td>\n",
       "      <td>1</td>\n",
       "      <td>66</td>\n",
       "      <td>63.0</td>\n",
       "      <td>12</td>\n",
       "      <td>80</td>\n",
       "      <td>1</td>\n",
       "      <td>1</td>\n",
       "      <td>0</td>\n",
       "      <td>0</td>\n",
       "      <td>0</td>\n",
       "      <td>1</td>\n",
       "    </tr>\n",
       "    <tr>\n",
       "      <th>65302</th>\n",
       "      <td>50.6</td>\n",
       "      <td>1</td>\n",
       "      <td>99</td>\n",
       "      <td>60.0</td>\n",
       "      <td>90</td>\n",
       "      <td>60</td>\n",
       "      <td>1</td>\n",
       "      <td>1</td>\n",
       "      <td>0</td>\n",
       "      <td>0</td>\n",
       "      <td>1</td>\n",
       "      <td>0</td>\n",
       "    </tr>\n",
       "    <tr>\n",
       "      <th>66643</th>\n",
       "      <td>51.6</td>\n",
       "      <td>1</td>\n",
       "      <td>57</td>\n",
       "      <td>61.0</td>\n",
       "      <td>130</td>\n",
       "      <td>90</td>\n",
       "      <td>1</td>\n",
       "      <td>1</td>\n",
       "      <td>0</td>\n",
       "      <td>0</td>\n",
       "      <td>1</td>\n",
       "      <td>1</td>\n",
       "    </tr>\n",
       "  </tbody>\n",
       "</table>\n",
       "</div>"
      ],
      "text/plain": [
       "        age  gender  height  weight  ap_hi  ap_lo  cholesterol  gluc  smoke  \\\n",
       "224    59.7       0      76    55.0    120     80            1     1      0   \n",
       "7598   40.2       0      70    72.0    120      8            1     1      0   \n",
       "8171   48.3       0      97   170.0    160    100            1     1      1   \n",
       "12770  53.7       1      75   168.0    120     80            1     1      1   \n",
       "13265  61.5       0      71    68.0    120     80            3     1      0   \n",
       "14323  60.3       1      67    57.0    120     90            1     1      0   \n",
       "15167  43.3       1      70    68.0    120     80            1     1      0   \n",
       "16699  53.9       0      74    98.0    140     90            1     1      0   \n",
       "17277  48.0       1      98    45.0     12     80            1     1      0   \n",
       "22542  39.8       1      68    65.0    100     60            1     1      0   \n",
       "22723  64.1       1      55    81.0    130     90            1     1      0   \n",
       "23913  52.3       1      81   156.0    140     90            1     1      0   \n",
       "27384  41.9       1      80   178.0    140     90            3     3      0   \n",
       "27603  57.5       1      64    61.0    130     70            1     1      0   \n",
       "28737  54.1       1      91    55.0    140     90            1     1      0   \n",
       "29157  52.3       1      60    69.0    110     70            1     1      0   \n",
       "32098  42.1       1      72    74.0    150     90            1     1      0   \n",
       "33607  54.0       0      65    72.0    130     80            1     1      0   \n",
       "44490  52.4       1      65    60.0    120     80            1     1      0   \n",
       "46319  57.6       0      68    71.0    120     80            1     1      0   \n",
       "47352  63.8       1      75    75.0    120     80            1     1      0   \n",
       "50789  39.7       0      67    60.0    110     80            1     1      1   \n",
       "51459  42.3       0      70    69.0    120     80            1     1      0   \n",
       "53344  56.3       0      67    80.0    120     80            1     1      0   \n",
       "56022  58.0       1      96    59.0     90     60            1     1      0   \n",
       "64115  50.5       1      59    57.6    125     67            1     1      0   \n",
       "64454  58.5       1      66    63.0     12     80            1     1      0   \n",
       "65302  50.6       1      99    60.0     90     60            1     1      0   \n",
       "66643  51.6       1      57    61.0    130     90            1     1      0   \n",
       "\n",
       "       alco  active  cardio  \n",
       "224       0       1       0  \n",
       "7598      0       1       0  \n",
       "8171      0       1       1  \n",
       "12770     0       1       1  \n",
       "13265     0       1       0  \n",
       "14323     0       1       1  \n",
       "15167     0       0       0  \n",
       "16699     0       1       1  \n",
       "17277     0       1       0  \n",
       "22542     0       0       0  \n",
       "22723     0       1       1  \n",
       "23913     0       1       0  \n",
       "27384     0       1       1  \n",
       "27603     0       1       0  \n",
       "28737     0       1       1  \n",
       "29157     0       0       0  \n",
       "32098     0       1       1  \n",
       "33607     0       0       0  \n",
       "44490     0       1       0  \n",
       "46319     0       1       0  \n",
       "47352     0       1       0  \n",
       "50789     1       1       0  \n",
       "51459     0       0       0  \n",
       "53344     0       0       1  \n",
       "56022     0       1       1  \n",
       "64115     0       0       0  \n",
       "64454     0       0       1  \n",
       "65302     0       1       0  \n",
       "66643     0       1       1  "
      ]
     },
     "execution_count": 11,
     "metadata": {},
     "output_type": "execute_result"
    }
   ],
   "source": [
    "# check heights \n",
    "df[df['height'] < 100]"
   ]
  },
  {
   "cell_type": "code",
   "execution_count": 12,
   "metadata": {
    "ExecuteTime": {
     "end_time": "2021-02-10T03:12:28.876246Z",
     "start_time": "2021-02-10T03:12:28.871423Z"
    }
   },
   "outputs": [],
   "source": [
    "# 125cm (4') seems short for the weights that are associated with them\n",
    "# so we'll drop them\n",
    "df = df[df['height'] >= 125]"
   ]
  },
  {
   "cell_type": "code",
   "execution_count": 13,
   "metadata": {
    "ExecuteTime": {
     "end_time": "2021-02-10T03:12:28.885916Z",
     "start_time": "2021-02-10T03:12:28.877508Z"
    },
    "scrolled": true
   },
   "outputs": [
    {
     "data": {
      "text/html": [
       "<div>\n",
       "<style scoped>\n",
       "    .dataframe tbody tr th:only-of-type {\n",
       "        vertical-align: middle;\n",
       "    }\n",
       "\n",
       "    .dataframe tbody tr th {\n",
       "        vertical-align: top;\n",
       "    }\n",
       "\n",
       "    .dataframe thead th {\n",
       "        text-align: right;\n",
       "    }\n",
       "</style>\n",
       "<table border=\"1\" class=\"dataframe\">\n",
       "  <thead>\n",
       "    <tr style=\"text-align: right;\">\n",
       "      <th></th>\n",
       "      <th>age</th>\n",
       "      <th>gender</th>\n",
       "      <th>height</th>\n",
       "      <th>weight</th>\n",
       "      <th>ap_hi</th>\n",
       "      <th>ap_lo</th>\n",
       "      <th>cholesterol</th>\n",
       "      <th>gluc</th>\n",
       "      <th>smoke</th>\n",
       "      <th>alco</th>\n",
       "      <th>active</th>\n",
       "      <th>cardio</th>\n",
       "    </tr>\n",
       "  </thead>\n",
       "  <tbody>\n",
       "    <tr>\n",
       "      <th>6486</th>\n",
       "      <td>58.1</td>\n",
       "      <td>1</td>\n",
       "      <td>250</td>\n",
       "      <td>86.0</td>\n",
       "      <td>140</td>\n",
       "      <td>100</td>\n",
       "      <td>3</td>\n",
       "      <td>1</td>\n",
       "      <td>0</td>\n",
       "      <td>0</td>\n",
       "      <td>1</td>\n",
       "      <td>1</td>\n",
       "    </tr>\n",
       "    <tr>\n",
       "      <th>21628</th>\n",
       "      <td>52.2</td>\n",
       "      <td>0</td>\n",
       "      <td>207</td>\n",
       "      <td>78.0</td>\n",
       "      <td>100</td>\n",
       "      <td>70</td>\n",
       "      <td>1</td>\n",
       "      <td>1</td>\n",
       "      <td>0</td>\n",
       "      <td>1</td>\n",
       "      <td>1</td>\n",
       "      <td>0</td>\n",
       "    </tr>\n",
       "  </tbody>\n",
       "</table>\n",
       "</div>"
      ],
      "text/plain": [
       "        age  gender  height  weight  ap_hi  ap_lo  cholesterol  gluc  smoke  \\\n",
       "6486   58.1       1     250    86.0    140    100            3     1      0   \n",
       "21628  52.2       0     207    78.0    100     70            1     1      0   \n",
       "\n",
       "       alco  active  cardio  \n",
       "6486      0       1       1  \n",
       "21628     1       1       0  "
      ]
     },
     "execution_count": 13,
     "metadata": {},
     "output_type": "execute_result"
    }
   ],
   "source": [
    "df[df['height'] > 200]"
   ]
  },
  {
   "cell_type": "code",
   "execution_count": 14,
   "metadata": {
    "ExecuteTime": {
     "end_time": "2021-02-10T03:12:28.893718Z",
     "start_time": "2021-02-10T03:12:28.887594Z"
    }
   },
   "outputs": [],
   "source": [
    "# a height of 250cm (8'2\") and a weight of 86kg (190lbs) seems suspicious\n",
    "df.drop(index=6486, inplace= True)"
   ]
  },
  {
   "cell_type": "markdown",
   "metadata": {
    "ExecuteTime": {
     "end_time": "2021-02-06T20:48:54.719965Z",
     "start_time": "2021-02-06T20:48:54.709955Z"
    }
   },
   "source": [
    "Now we will check out the odd numbers on ap_hi and ap_lo\n",
    "\n",
    "A quick note about ap_hi and ap_lo:\n",
    "Systolic and diastolic are the readings on blood pressure. Here are the most recent guidelines established by the American Heart Association (as of Feb.2021)\n",
    "\n",
    "![AHA hypertension](images/BP_chart.jpg)"
   ]
  },
  {
   "cell_type": "code",
   "execution_count": 15,
   "metadata": {
    "ExecuteTime": {
     "end_time": "2021-02-10T03:12:28.899772Z",
     "start_time": "2021-02-10T03:12:28.895345Z"
    }
   },
   "outputs": [],
   "source": [
    "# find where ap_lo is higher than ap_hi\n",
    "df = df[df['ap_hi'] > df['ap_lo']]"
   ]
  },
  {
   "cell_type": "code",
   "execution_count": 16,
   "metadata": {
    "ExecuteTime": {
     "end_time": "2021-02-10T03:12:28.907231Z",
     "start_time": "2021-02-10T03:12:28.901389Z"
    }
   },
   "outputs": [],
   "source": [
    "# remove ap_hi and ap_lo with negative and extremely low numbers\n",
    "# anything with systolic < 80 and diastolic < 50 is considered abnormally low\n",
    "df = df[df['ap_hi'] > 80]\n",
    "df = df[df['ap_lo'] > 50]"
   ]
  },
  {
   "cell_type": "code",
   "execution_count": 17,
   "metadata": {
    "ExecuteTime": {
     "end_time": "2021-02-10T03:12:28.912789Z",
     "start_time": "2021-02-10T03:12:28.908734Z"
    }
   },
   "outputs": [],
   "source": [
    "# remove any ap_hi an ap_lo readings that are abnormally high\n",
    "df = df[df['ap_hi'] < 250]"
   ]
  },
  {
   "cell_type": "code",
   "execution_count": 18,
   "metadata": {
    "ExecuteTime": {
     "end_time": "2021-02-10T03:12:28.923668Z",
     "start_time": "2021-02-10T03:12:28.914248Z"
    }
   },
   "outputs": [
    {
     "data": {
      "text/html": [
       "<div>\n",
       "<style scoped>\n",
       "    .dataframe tbody tr th:only-of-type {\n",
       "        vertical-align: middle;\n",
       "    }\n",
       "\n",
       "    .dataframe tbody tr th {\n",
       "        vertical-align: top;\n",
       "    }\n",
       "\n",
       "    .dataframe thead th {\n",
       "        text-align: right;\n",
       "    }\n",
       "</style>\n",
       "<table border=\"1\" class=\"dataframe\">\n",
       "  <thead>\n",
       "    <tr style=\"text-align: right;\">\n",
       "      <th></th>\n",
       "      <th>age</th>\n",
       "      <th>gender</th>\n",
       "      <th>height</th>\n",
       "      <th>weight</th>\n",
       "      <th>ap_hi</th>\n",
       "      <th>ap_lo</th>\n",
       "      <th>cholesterol</th>\n",
       "      <th>gluc</th>\n",
       "      <th>smoke</th>\n",
       "      <th>alco</th>\n",
       "      <th>active</th>\n",
       "      <th>cardio</th>\n",
       "    </tr>\n",
       "  </thead>\n",
       "  <tbody>\n",
       "    <tr>\n",
       "      <th>4781</th>\n",
       "      <td>51.9</td>\n",
       "      <td>1</td>\n",
       "      <td>158</td>\n",
       "      <td>74.0</td>\n",
       "      <td>200</td>\n",
       "      <td>170</td>\n",
       "      <td>1</td>\n",
       "      <td>1</td>\n",
       "      <td>0</td>\n",
       "      <td>0</td>\n",
       "      <td>1</td>\n",
       "      <td>1</td>\n",
       "    </tr>\n",
       "    <tr>\n",
       "      <th>4981</th>\n",
       "      <td>62.3</td>\n",
       "      <td>0</td>\n",
       "      <td>173</td>\n",
       "      <td>74.0</td>\n",
       "      <td>220</td>\n",
       "      <td>160</td>\n",
       "      <td>2</td>\n",
       "      <td>2</td>\n",
       "      <td>0</td>\n",
       "      <td>0</td>\n",
       "      <td>1</td>\n",
       "      <td>1</td>\n",
       "    </tr>\n",
       "    <tr>\n",
       "      <th>38022</th>\n",
       "      <td>59.6</td>\n",
       "      <td>1</td>\n",
       "      <td>161</td>\n",
       "      <td>84.0</td>\n",
       "      <td>196</td>\n",
       "      <td>182</td>\n",
       "      <td>2</td>\n",
       "      <td>2</td>\n",
       "      <td>0</td>\n",
       "      <td>0</td>\n",
       "      <td>1</td>\n",
       "      <td>1</td>\n",
       "    </tr>\n",
       "    <tr>\n",
       "      <th>43998</th>\n",
       "      <td>62.1</td>\n",
       "      <td>0</td>\n",
       "      <td>163</td>\n",
       "      <td>70.0</td>\n",
       "      <td>200</td>\n",
       "      <td>180</td>\n",
       "      <td>1</td>\n",
       "      <td>1</td>\n",
       "      <td>0</td>\n",
       "      <td>0</td>\n",
       "      <td>0</td>\n",
       "      <td>1</td>\n",
       "    </tr>\n",
       "    <tr>\n",
       "      <th>54987</th>\n",
       "      <td>53.4</td>\n",
       "      <td>1</td>\n",
       "      <td>169</td>\n",
       "      <td>80.0</td>\n",
       "      <td>200</td>\n",
       "      <td>160</td>\n",
       "      <td>3</td>\n",
       "      <td>3</td>\n",
       "      <td>0</td>\n",
       "      <td>0</td>\n",
       "      <td>1</td>\n",
       "      <td>0</td>\n",
       "    </tr>\n",
       "  </tbody>\n",
       "</table>\n",
       "</div>"
      ],
      "text/plain": [
       "        age  gender  height  weight  ap_hi  ap_lo  cholesterol  gluc  smoke  \\\n",
       "4781   51.9       1     158    74.0    200    170            1     1      0   \n",
       "4981   62.3       0     173    74.0    220    160            2     2      0   \n",
       "38022  59.6       1     161    84.0    196    182            2     2      0   \n",
       "43998  62.1       0     163    70.0    200    180            1     1      0   \n",
       "54987  53.4       1     169    80.0    200    160            3     3      0   \n",
       "\n",
       "       alco  active  cardio  \n",
       "4781      0       1       1  \n",
       "4981      0       1       1  \n",
       "38022     0       1       1  \n",
       "43998     0       0       1  \n",
       "54987     0       1       0  "
      ]
     },
     "execution_count": 18,
     "metadata": {},
     "output_type": "execute_result"
    }
   ],
   "source": [
    "# while these diastolic readings are very high, \n",
    "# they are still lower than the systolic and match other features\n",
    "df[df['ap_lo'] > 150]"
   ]
  },
  {
   "cell_type": "markdown",
   "metadata": {},
   "source": [
    "Time to remove the incredibly low values for \"weight\""
   ]
  },
  {
   "cell_type": "code",
   "execution_count": 19,
   "metadata": {
    "ExecuteTime": {
     "end_time": "2021-02-10T03:12:28.933357Z",
     "start_time": "2021-02-10T03:12:28.926109Z"
    }
   },
   "outputs": [],
   "source": [
    "#40kg = 88lbs, this would indicate a underweight person, or a typo in the data\n",
    "df = df[df['weight'] >= 40]"
   ]
  },
  {
   "cell_type": "code",
   "execution_count": 20,
   "metadata": {
    "ExecuteTime": {
     "end_time": "2021-02-10T03:12:28.939032Z",
     "start_time": "2021-02-10T03:12:28.935969Z"
    }
   },
   "outputs": [],
   "source": [
    "# reset index\n",
    "df.reset_index(inplace= True, drop= True)"
   ]
  },
  {
   "cell_type": "code",
   "execution_count": 21,
   "metadata": {
    "ExecuteTime": {
     "end_time": "2021-02-10T03:12:28.943749Z",
     "start_time": "2021-02-10T03:12:28.940955Z"
    }
   },
   "outputs": [],
   "source": [
    "# change feature names\n",
    "new_names = {'ap_hi' : 'systolic', \n",
    "             'ap_lo' : 'diastolic', \n",
    "             'gluc' : 'glucose', \n",
    "             'alco': 'alcohol', \n",
    "             'cardio': 'disease'\n",
    "            }"
   ]
  },
  {
   "cell_type": "code",
   "execution_count": 22,
   "metadata": {
    "ExecuteTime": {
     "end_time": "2021-02-10T03:12:28.950244Z",
     "start_time": "2021-02-10T03:12:28.946100Z"
    }
   },
   "outputs": [],
   "source": [
    "df = df.rename(columns= new_names)"
   ]
  },
  {
   "cell_type": "code",
   "execution_count": 23,
   "metadata": {
    "ExecuteTime": {
     "end_time": "2021-02-10T03:12:28.961394Z",
     "start_time": "2021-02-10T03:12:28.958037Z"
    }
   },
   "outputs": [
    {
     "data": {
      "text/plain": [
       "(68413, 12)"
      ]
     },
     "execution_count": 23,
     "metadata": {},
     "output_type": "execute_result"
    }
   ],
   "source": [
    "df.shape"
   ]
  },
  {
   "cell_type": "code",
   "execution_count": 24,
   "metadata": {
    "ExecuteTime": {
     "end_time": "2021-02-10T03:12:28.973205Z",
     "start_time": "2021-02-10T03:12:28.967142Z"
    }
   },
   "outputs": [
    {
     "data": {
      "text/plain": [
       "0    0.504729\n",
       "1    0.495271\n",
       "Name: disease, dtype: float64"
      ]
     },
     "execution_count": 24,
     "metadata": {},
     "output_type": "execute_result"
    }
   ],
   "source": [
    "df.disease.value_counts(normalize= True)"
   ]
  },
  {
   "cell_type": "markdown",
   "metadata": {},
   "source": [
    "Data cleaning removed 1,488 data points from our original 70,000 and we still have an even number of patients with and without cardiovascular disease (CVD)."
   ]
  },
  {
   "cell_type": "markdown",
   "metadata": {},
   "source": [
    "## Explore"
   ]
  },
  {
   "cell_type": "markdown",
   "metadata": {},
   "source": [
    "### BMI analysis\n",
    "\n",
    "Body mass index (BMI) is a measure of body fat based on height and weight that applies to adult men and women. BMI is defined as the body mass divided by the square of the body height, and is universally expressed in units of kg/m², resulting from mass in kilograms and height in meters."
   ]
  },
  {
   "cell_type": "code",
   "execution_count": 25,
   "metadata": {
    "ExecuteTime": {
     "end_time": "2021-02-10T03:12:28.978637Z",
     "start_time": "2021-02-10T03:12:28.974950Z"
    }
   },
   "outputs": [],
   "source": [
    "df_eda = df.copy()"
   ]
  },
  {
   "cell_type": "code",
   "execution_count": 26,
   "metadata": {
    "ExecuteTime": {
     "end_time": "2021-02-10T03:12:30.364525Z",
     "start_time": "2021-02-10T03:12:28.980647Z"
    }
   },
   "outputs": [
    {
     "data": {
      "text/plain": [
       "<AxesSubplot:xlabel='height', ylabel='weight'>"
      ]
     },
     "execution_count": 26,
     "metadata": {},
     "output_type": "execute_result"
    },
    {
     "data": {
      "image/png": "[encoded data removed]",
      "text/plain": [
       "<Figure size 432x288 with 1 Axes>"
      ]
     },
     "metadata": {},
     "output_type": "display_data"
    }
   ],
   "source": [
    "sns.scatterplot(x= 'height', y= 'weight', hue= 'disease', data= df_eda)"
   ]
  },
  {
   "cell_type": "markdown",
   "metadata": {},
   "source": [
    "Looking at height and weight in this manner isn't very helpful."
   ]
  },
  {
   "cell_type": "code",
   "execution_count": 27,
   "metadata": {
    "ExecuteTime": {
     "end_time": "2021-02-10T03:12:31.349230Z",
     "start_time": "2021-02-10T03:12:30.366389Z"
    }
   },
   "outputs": [],
   "source": [
    "# create BMI feature\n",
    "def BMI (data):\n",
    "    return round(data['weight'] / (data['height'] / 100) **2, 2)\n",
    "\n",
    "df_eda['BMI'] = df_eda.apply(BMI, axis= 1)"
   ]
  },
  {
   "cell_type": "code",
   "execution_count": 28,
   "metadata": {
    "ExecuteTime": {
     "end_time": "2021-02-10T03:12:31.404029Z",
     "start_time": "2021-02-10T03:12:31.351014Z"
    }
   },
   "outputs": [
    {
     "data": {
      "text/html": [
       "<div>\n",
       "<style scoped>\n",
       "    .dataframe tbody tr th:only-of-type {\n",
       "        vertical-align: middle;\n",
       "    }\n",
       "\n",
       "    .dataframe tbody tr th {\n",
       "        vertical-align: top;\n",
       "    }\n",
       "\n",
       "    .dataframe thead th {\n",
       "        text-align: right;\n",
       "    }\n",
       "</style>\n",
       "<table border=\"1\" class=\"dataframe\">\n",
       "  <thead>\n",
       "    <tr style=\"text-align: right;\">\n",
       "      <th></th>\n",
       "      <th>count</th>\n",
       "      <th>mean</th>\n",
       "      <th>std</th>\n",
       "      <th>min</th>\n",
       "      <th>25%</th>\n",
       "      <th>50%</th>\n",
       "      <th>75%</th>\n",
       "      <th>max</th>\n",
       "    </tr>\n",
       "  </thead>\n",
       "  <tbody>\n",
       "    <tr>\n",
       "      <th>age</th>\n",
       "      <td>68413.0</td>\n",
       "      <td>53.333130</td>\n",
       "      <td>6.759749</td>\n",
       "      <td>29.60</td>\n",
       "      <td>48.40</td>\n",
       "      <td>54.00</td>\n",
       "      <td>58.40</td>\n",
       "      <td>65.00</td>\n",
       "    </tr>\n",
       "    <tr>\n",
       "      <th>gender</th>\n",
       "      <td>68413.0</td>\n",
       "      <td>0.650973</td>\n",
       "      <td>0.476666</td>\n",
       "      <td>0.00</td>\n",
       "      <td>0.00</td>\n",
       "      <td>1.00</td>\n",
       "      <td>1.00</td>\n",
       "      <td>1.00</td>\n",
       "    </tr>\n",
       "    <tr>\n",
       "      <th>height</th>\n",
       "      <td>68413.0</td>\n",
       "      <td>164.450835</td>\n",
       "      <td>7.842102</td>\n",
       "      <td>125.00</td>\n",
       "      <td>159.00</td>\n",
       "      <td>165.00</td>\n",
       "      <td>170.00</td>\n",
       "      <td>207.00</td>\n",
       "    </tr>\n",
       "    <tr>\n",
       "      <th>weight</th>\n",
       "      <td>68413.0</td>\n",
       "      <td>74.153387</td>\n",
       "      <td>14.259347</td>\n",
       "      <td>40.00</td>\n",
       "      <td>65.00</td>\n",
       "      <td>72.00</td>\n",
       "      <td>82.00</td>\n",
       "      <td>200.00</td>\n",
       "    </tr>\n",
       "    <tr>\n",
       "      <th>systolic</th>\n",
       "      <td>68413.0</td>\n",
       "      <td>126.744961</td>\n",
       "      <td>16.620734</td>\n",
       "      <td>85.00</td>\n",
       "      <td>120.00</td>\n",
       "      <td>120.00</td>\n",
       "      <td>140.00</td>\n",
       "      <td>240.00</td>\n",
       "    </tr>\n",
       "    <tr>\n",
       "      <th>diastolic</th>\n",
       "      <td>68413.0</td>\n",
       "      <td>81.366188</td>\n",
       "      <td>9.376343</td>\n",
       "      <td>52.00</td>\n",
       "      <td>80.00</td>\n",
       "      <td>80.00</td>\n",
       "      <td>90.00</td>\n",
       "      <td>182.00</td>\n",
       "    </tr>\n",
       "    <tr>\n",
       "      <th>cholesterol</th>\n",
       "      <td>68413.0</td>\n",
       "      <td>1.364931</td>\n",
       "      <td>0.679155</td>\n",
       "      <td>1.00</td>\n",
       "      <td>1.00</td>\n",
       "      <td>1.00</td>\n",
       "      <td>2.00</td>\n",
       "      <td>3.00</td>\n",
       "    </tr>\n",
       "    <tr>\n",
       "      <th>glucose</th>\n",
       "      <td>68413.0</td>\n",
       "      <td>1.225864</td>\n",
       "      <td>0.571804</td>\n",
       "      <td>1.00</td>\n",
       "      <td>1.00</td>\n",
       "      <td>1.00</td>\n",
       "      <td>1.00</td>\n",
       "      <td>3.00</td>\n",
       "    </tr>\n",
       "    <tr>\n",
       "      <th>smoke</th>\n",
       "      <td>68413.0</td>\n",
       "      <td>0.087966</td>\n",
       "      <td>0.283247</td>\n",
       "      <td>0.00</td>\n",
       "      <td>0.00</td>\n",
       "      <td>0.00</td>\n",
       "      <td>0.00</td>\n",
       "      <td>1.00</td>\n",
       "    </tr>\n",
       "    <tr>\n",
       "      <th>alcohol</th>\n",
       "      <td>68413.0</td>\n",
       "      <td>0.053396</td>\n",
       "      <td>0.224824</td>\n",
       "      <td>0.00</td>\n",
       "      <td>0.00</td>\n",
       "      <td>0.00</td>\n",
       "      <td>0.00</td>\n",
       "      <td>1.00</td>\n",
       "    </tr>\n",
       "    <tr>\n",
       "      <th>active</th>\n",
       "      <td>68413.0</td>\n",
       "      <td>0.803458</td>\n",
       "      <td>0.397386</td>\n",
       "      <td>0.00</td>\n",
       "      <td>1.00</td>\n",
       "      <td>1.00</td>\n",
       "      <td>1.00</td>\n",
       "      <td>1.00</td>\n",
       "    </tr>\n",
       "    <tr>\n",
       "      <th>disease</th>\n",
       "      <td>68413.0</td>\n",
       "      <td>0.495271</td>\n",
       "      <td>0.499981</td>\n",
       "      <td>0.00</td>\n",
       "      <td>0.00</td>\n",
       "      <td>0.00</td>\n",
       "      <td>1.00</td>\n",
       "      <td>1.00</td>\n",
       "    </tr>\n",
       "    <tr>\n",
       "      <th>BMI</th>\n",
       "      <td>68413.0</td>\n",
       "      <td>27.455421</td>\n",
       "      <td>5.207657</td>\n",
       "      <td>13.52</td>\n",
       "      <td>23.88</td>\n",
       "      <td>26.35</td>\n",
       "      <td>30.12</td>\n",
       "      <td>106.88</td>\n",
       "    </tr>\n",
       "  </tbody>\n",
       "</table>\n",
       "</div>"
      ],
      "text/plain": [
       "               count        mean        std     min     25%     50%     75%  \\\n",
       "age          68413.0   53.333130   6.759749   29.60   48.40   54.00   58.40   \n",
       "gender       68413.0    0.650973   0.476666    0.00    0.00    1.00    1.00   \n",
       "height       68413.0  164.450835   7.842102  125.00  159.00  165.00  170.00   \n",
       "weight       68413.0   74.153387  14.259347   40.00   65.00   72.00   82.00   \n",
       "systolic     68413.0  126.744961  16.620734   85.00  120.00  120.00  140.00   \n",
       "diastolic    68413.0   81.366188   9.376343   52.00   80.00   80.00   90.00   \n",
       "cholesterol  68413.0    1.364931   0.679155    1.00    1.00    1.00    2.00   \n",
       "glucose      68413.0    1.225864   0.571804    1.00    1.00    1.00    1.00   \n",
       "smoke        68413.0    0.087966   0.283247    0.00    0.00    0.00    0.00   \n",
       "alcohol      68413.0    0.053396   0.224824    0.00    0.00    0.00    0.00   \n",
       "active       68413.0    0.803458   0.397386    0.00    1.00    1.00    1.00   \n",
       "disease      68413.0    0.495271   0.499981    0.00    0.00    0.00    1.00   \n",
       "BMI          68413.0   27.455421   5.207657   13.52   23.88   26.35   30.12   \n",
       "\n",
       "                max  \n",
       "age           65.00  \n",
       "gender         1.00  \n",
       "height       207.00  \n",
       "weight       200.00  \n",
       "systolic     240.00  \n",
       "diastolic    182.00  \n",
       "cholesterol    3.00  \n",
       "glucose        3.00  \n",
       "smoke          1.00  \n",
       "alcohol        1.00  \n",
       "active         1.00  \n",
       "disease        1.00  \n",
       "BMI          106.88  "
      ]
     },
     "execution_count": 28,
     "metadata": {},
     "output_type": "execute_result"
    }
   ],
   "source": [
    "df_eda.describe().T"
   ]
  },
  {
   "cell_type": "markdown",
   "metadata": {},
   "source": [
    "![BMI chart](images/BMI.jpg)\n",
    "\n",
    "<center> We can see that there are some BMI readings that don't make sense."
   ]
  },
  {
   "cell_type": "code",
   "execution_count": 29,
   "metadata": {
    "ExecuteTime": {
     "end_time": "2021-02-10T03:12:31.520604Z",
     "start_time": "2021-02-10T03:12:31.405408Z"
    }
   },
   "outputs": [
    {
     "data": {
      "text/plain": [
       "Text(0, 0.5, 'BMI')"
      ]
     },
     "execution_count": 29,
     "metadata": {},
     "output_type": "execute_result"
    },
    {
     "data": {
      "image/png": "[encoded data removed]",
      "text/plain": [
       "<Figure size 720x1080 with 1 Axes>"
      ]
     },
     "metadata": {},
     "output_type": "display_data"
    }
   ],
   "source": [
    "pal = ['#008ae6' , '#ec1313']\n",
    "\n",
    "plt.figure(figsize= (10,15))\n",
    "sns.boxplot(x = 'disease', y= 'BMI', data= df_eda, palette= pal)\n",
    "plt.title('Body Mass Index and Cardiovascular Disease')\n",
    "plt.xlabel('Disease Presence')\n",
    "plt.ylabel('BMI')"
   ]
  },
  {
   "cell_type": "markdown",
   "metadata": {},
   "source": [
    "A quick boxplot shows that individuals with CVD have, on average, higher body mass indexes than those that do not have CVD."
   ]
  },
  {
   "cell_type": "markdown",
   "metadata": {},
   "source": [
    "### Blood Pressure Category analysis"
   ]
  },
  {
   "cell_type": "code",
   "execution_count": 30,
   "metadata": {
    "ExecuteTime": {
     "end_time": "2021-02-10T03:12:31.525297Z",
     "start_time": "2021-02-10T03:12:31.522338Z"
    }
   },
   "outputs": [],
   "source": [
    "#function to categorize blood pressure\n",
    "def bp_categories(systolic, diastolic):\n",
    "    if systolic > 180 or diastolic > 120:\n",
    "        return 'Crisis'\n",
    "    elif (140 <= systolic < 180) or (90 <= diastolic < 120):\n",
    "        return 'HBP_stage2'\n",
    "    elif (130 <= systolic < 140) or (80 <= diastolic < 90) :\n",
    "        return 'HBP_stage1'\n",
    "    elif (120 <= systolic < 130) and diastolic < 80:\n",
    "        return 'Elevated'\n",
    "    else:\n",
    "        return 'Normal'"
   ]
  },
  {
   "cell_type": "code",
   "execution_count": 31,
   "metadata": {
    "ExecuteTime": {
     "end_time": "2021-02-10T03:12:31.902267Z",
     "start_time": "2021-02-10T03:12:31.526850Z"
    }
   },
   "outputs": [],
   "source": [
    "# HTN is abbreviation for hypertension\n",
    "df_eda['HTN_stage'] = df_eda[['systolic', 'diastolic']].apply\\\n",
    "(lambda x: bp_categories(*x), axis= 1)"
   ]
  },
  {
   "cell_type": "code",
   "execution_count": 32,
   "metadata": {
    "ExecuteTime": {
     "end_time": "2021-02-10T03:12:31.911600Z",
     "start_time": "2021-02-10T03:12:31.903793Z"
    },
    "scrolled": false
   },
   "outputs": [
    {
     "data": {
      "text/plain": [
       "HBP_stage1    32429\n",
       "HBP_stage2    23120\n",
       "Normal         9471\n",
       "Elevated       3097\n",
       "Crisis          296\n",
       "Name: HTN_stage, dtype: int64"
      ]
     },
     "execution_count": 32,
     "metadata": {},
     "output_type": "execute_result"
    }
   ],
   "source": [
    "df_eda.HTN_stage.value_counts()"
   ]
  },
  {
   "cell_type": "code",
   "execution_count": 33,
   "metadata": {
    "ExecuteTime": {
     "end_time": "2021-02-10T03:12:32.120015Z",
     "start_time": "2021-02-10T03:12:31.913244Z"
    },
    "scrolled": false
   },
   "outputs": [
    {
     "data": {
      "text/plain": [
       "<matplotlib.legend.Legend at 0x7faa12da0640>"
      ]
     },
     "execution_count": 33,
     "metadata": {},
     "output_type": "execute_result"
    },
    {
     "data": {
      "image/png": "[encoded data removed]",
      "text/plain": [
       "<Figure size 1080x1080 with 1 Axes>"
      ]
     },
     "metadata": {},
     "output_type": "display_data"
    }
   ],
   "source": [
    "pal = ['#008ae6' , '#ec1313']\n",
    "\n",
    "plt.figure(figsize= (15,15))\n",
    "sns.countplot(x= 'HTN_stage', hue= 'disease', data= df_eda, palette= pal)\n",
    "plt.title('Blood Pressure Categories and Presence of Cardiovascular Disease', \n",
    "          fontweight= 'bold', fontsize= 20)\n",
    "plt.xlabel('Blood Pressure Category')\n",
    "plt.legend( ['No disease', 'Disease present'])"
   ]
  },
  {
   "cell_type": "markdown",
   "metadata": {},
   "source": [
    "Groups that have a higher prevalence of cardiovascular disease have blood pressure that could be classified as Hypertension Stage 2 or Hypertensive Crisis.\n",
    "\n",
    "The other categories, Normal, Elevated, and Hypertension Stage 1 have a higher prevalence of patients without cardiovascular disease, though it is still present."
   ]
  },
  {
   "cell_type": "markdown",
   "metadata": {},
   "source": [
    "### Age analysis"
   ]
  },
  {
   "cell_type": "code",
   "execution_count": 34,
   "metadata": {
    "ExecuteTime": {
     "end_time": "2021-02-10T03:12:32.132946Z",
     "start_time": "2021-02-10T03:12:32.121542Z"
    },
    "scrolled": true
   },
   "outputs": [
    {
     "name": "stdout",
     "output_type": "stream",
     "text": [
      "29.6\n",
      "65.0\n"
     ]
    },
    {
     "data": {
      "text/html": [
       "<div>\n",
       "<style scoped>\n",
       "    .dataframe tbody tr th:only-of-type {\n",
       "        vertical-align: middle;\n",
       "    }\n",
       "\n",
       "    .dataframe tbody tr th {\n",
       "        vertical-align: top;\n",
       "    }\n",
       "\n",
       "    .dataframe thead th {\n",
       "        text-align: right;\n",
       "    }\n",
       "</style>\n",
       "<table border=\"1\" class=\"dataframe\">\n",
       "  <thead>\n",
       "    <tr style=\"text-align: right;\">\n",
       "      <th></th>\n",
       "      <th>age</th>\n",
       "      <th>gender</th>\n",
       "      <th>height</th>\n",
       "      <th>weight</th>\n",
       "      <th>systolic</th>\n",
       "      <th>diastolic</th>\n",
       "      <th>cholesterol</th>\n",
       "      <th>glucose</th>\n",
       "      <th>smoke</th>\n",
       "      <th>alcohol</th>\n",
       "      <th>active</th>\n",
       "      <th>disease</th>\n",
       "      <th>BMI</th>\n",
       "      <th>HTN_stage</th>\n",
       "    </tr>\n",
       "  </thead>\n",
       "  <tbody>\n",
       "    <tr>\n",
       "      <th>6072</th>\n",
       "      <td>29.8</td>\n",
       "      <td>1</td>\n",
       "      <td>175</td>\n",
       "      <td>59.0</td>\n",
       "      <td>120</td>\n",
       "      <td>80</td>\n",
       "      <td>1</td>\n",
       "      <td>1</td>\n",
       "      <td>0</td>\n",
       "      <td>0</td>\n",
       "      <td>1</td>\n",
       "      <td>0</td>\n",
       "      <td>19.27</td>\n",
       "      <td>HBP_stage1</td>\n",
       "    </tr>\n",
       "    <tr>\n",
       "      <th>21837</th>\n",
       "      <td>29.6</td>\n",
       "      <td>0</td>\n",
       "      <td>175</td>\n",
       "      <td>92.0</td>\n",
       "      <td>100</td>\n",
       "      <td>60</td>\n",
       "      <td>1</td>\n",
       "      <td>1</td>\n",
       "      <td>0</td>\n",
       "      <td>0</td>\n",
       "      <td>1</td>\n",
       "      <td>0</td>\n",
       "      <td>30.04</td>\n",
       "      <td>Normal</td>\n",
       "    </tr>\n",
       "    <tr>\n",
       "      <th>29970</th>\n",
       "      <td>29.8</td>\n",
       "      <td>1</td>\n",
       "      <td>159</td>\n",
       "      <td>59.0</td>\n",
       "      <td>120</td>\n",
       "      <td>80</td>\n",
       "      <td>1</td>\n",
       "      <td>1</td>\n",
       "      <td>0</td>\n",
       "      <td>0</td>\n",
       "      <td>1</td>\n",
       "      <td>0</td>\n",
       "      <td>23.34</td>\n",
       "      <td>HBP_stage1</td>\n",
       "    </tr>\n",
       "  </tbody>\n",
       "</table>\n",
       "</div>"
      ],
      "text/plain": [
       "        age  gender  height  weight  systolic  diastolic  cholesterol  \\\n",
       "6072   29.8       1     175    59.0       120         80            1   \n",
       "21837  29.6       0     175    92.0       100         60            1   \n",
       "29970  29.8       1     159    59.0       120         80            1   \n",
       "\n",
       "       glucose  smoke  alcohol  active  disease    BMI   HTN_stage  \n",
       "6072         1      0        0       1        0  19.27  HBP_stage1  \n",
       "21837        1      0        0       1        0  30.04      Normal  \n",
       "29970        1      0        0       1        0  23.34  HBP_stage1  "
      ]
     },
     "execution_count": 34,
     "metadata": {},
     "output_type": "execute_result"
    }
   ],
   "source": [
    "print(df_eda.age.min())\n",
    "print(df_eda.age.max())\n",
    "df_eda[df_eda['age'] < 30]"
   ]
  },
  {
   "cell_type": "code",
   "execution_count": 35,
   "metadata": {
    "ExecuteTime": {
     "end_time": "2021-02-10T03:12:32.144294Z",
     "start_time": "2021-02-10T03:12:32.134828Z"
    }
   },
   "outputs": [],
   "source": [
    "# bin ages into categories\n",
    "df_eda.loc[(df_eda['age'] < 40), 'age_range'] = 30\n",
    "df_eda.loc[(df_eda['age'] >= 40) & (df_eda['age'] < 50), 'age_range'] = 40\n",
    "df_eda.loc[(df_eda['age'] >= 50) & (df_eda['age'] < 60), 'age_range'] = 50\n",
    "df_eda.loc[(df_eda['age'] >= 60) & (df_eda['age'] < 70), 'age_range'] = 60\n"
   ]
  },
  {
   "cell_type": "code",
   "execution_count": 36,
   "metadata": {
    "ExecuteTime": {
     "end_time": "2021-02-10T03:12:32.151153Z",
     "start_time": "2021-02-10T03:12:32.145950Z"
    }
   },
   "outputs": [
    {
     "data": {
      "text/plain": [
       "50.0    0.507082\n",
       "40.0    0.278427\n",
       "60.0    0.191528\n",
       "30.0    0.022963\n",
       "Name: age_range, dtype: float64"
      ]
     },
     "execution_count": 36,
     "metadata": {},
     "output_type": "execute_result"
    }
   ],
   "source": [
    "df_eda.age_range.value_counts(normalize= True)"
   ]
  },
  {
   "cell_type": "code",
   "execution_count": 37,
   "metadata": {
    "ExecuteTime": {
     "end_time": "2021-02-10T03:12:32.279962Z",
     "start_time": "2021-02-10T03:12:32.152782Z"
    }
   },
   "outputs": [
    {
     "data": {
      "text/plain": [
       "<matplotlib.legend.Legend at 0x7faa12daaaf0>"
      ]
     },
     "execution_count": 37,
     "metadata": {},
     "output_type": "execute_result"
    },
    {
     "data": {
      "image/png": "[encoded data removed]",
      "text/plain": [
       "<Figure size 432x288 with 1 Axes>"
      ]
     },
     "metadata": {},
     "output_type": "display_data"
    }
   ],
   "source": [
    "sns.countplot(x= 'age_range', hue= 'disease', data= df_eda)\n",
    "plt.title('Age Ranges and Cardiovascular Disease')\n",
    "plt.xlabel('Age Range')\n",
    "plt.legend( ['No disease', 'Disease present'])"
   ]
  },
  {
   "cell_type": "code",
   "execution_count": 38,
   "metadata": {
    "ExecuteTime": {
     "end_time": "2021-02-10T03:12:33.612362Z",
     "start_time": "2021-02-10T03:12:32.282223Z"
    }
   },
   "outputs": [
    {
     "data": {
      "text/plain": [
       "<matplotlib.legend.Legend at 0x7faa13ebab50>"
      ]
     },
     "execution_count": 38,
     "metadata": {},
     "output_type": "execute_result"
    },
    {
     "data": {
      "image/png": "[encoded data removed]",
      "text/plain": [
       "<Figure size 720x720 with 1 Axes>"
      ]
     },
     "metadata": {},
     "output_type": "display_data"
    }
   ],
   "source": [
    "plt.figure(figsize= (10,10))\n",
    "pal = ['#1ac6ff', '#e65c00']\n",
    "\n",
    "sns.scatterplot(x= 'age_range', y= 'weight', hue= 'disease', data= df_eda, palette= pal)\n",
    "plt.title('Age Ranges, Weights, and Presence of Cardiovascular Disease', \n",
    "          fontweight= 'bold', fontsize= 15)\n",
    "plt.xlabel('Age Range')\n",
    "plt.ylabel('Weight')\n",
    "plt.legend()"
   ]
  },
  {
   "cell_type": "markdown",
   "metadata": {},
   "source": [
    "Here we can see that as a person gets older, their chances of being diagnosed with cardiovascular disease increase. We can also see that weight doesn't really have an impact as much as age does. "
   ]
  },
  {
   "cell_type": "markdown",
   "metadata": {},
   "source": [
    "### Gender analysis"
   ]
  },
  {
   "cell_type": "code",
   "execution_count": 39,
   "metadata": {
    "ExecuteTime": {
     "end_time": "2021-02-10T03:12:33.619924Z",
     "start_time": "2021-02-10T03:12:33.614358Z"
    }
   },
   "outputs": [
    {
     "data": {
      "text/plain": [
       "gender\n",
       "0    170.030279\n",
       "1    161.459347\n",
       "Name: height, dtype: float64"
      ]
     },
     "execution_count": 39,
     "metadata": {},
     "output_type": "execute_result"
    }
   ],
   "source": [
    "# determine which is male/female\n",
    "df_eda.groupby('gender')['height'].mean()"
   ]
  },
  {
   "cell_type": "code",
   "execution_count": 40,
   "metadata": {
    "ExecuteTime": {
     "end_time": "2021-02-10T03:12:33.625746Z",
     "start_time": "2021-02-10T03:12:33.621326Z"
    },
    "scrolled": false
   },
   "outputs": [
    {
     "data": {
      "text/plain": [
       "gender\n",
       "0    77.191369\n",
       "1    72.524535\n",
       "Name: weight, dtype: float64"
      ]
     },
     "execution_count": 40,
     "metadata": {},
     "output_type": "execute_result"
    }
   ],
   "source": [
    "df_eda.groupby('gender')['weight'].mean()"
   ]
  },
  {
   "cell_type": "code",
   "execution_count": 41,
   "metadata": {
    "ExecuteTime": {
     "end_time": "2021-02-10T03:12:33.631475Z",
     "start_time": "2021-02-10T03:12:33.626894Z"
    }
   },
   "outputs": [
    {
     "data": {
      "text/plain": [
       "1    0.650973\n",
       "0    0.349027\n",
       "Name: gender, dtype: float64"
      ]
     },
     "execution_count": 41,
     "metadata": {},
     "output_type": "execute_result"
    }
   ],
   "source": [
    "df_eda.gender.value_counts(normalize= True)"
   ]
  },
  {
   "cell_type": "markdown",
   "metadata": {},
   "source": [
    "\"0\" in both analyses have the higher number. Historically, men are taller and weigh more than women. We can assume that the \"0\" refers to male and \"1\" refers to females. However, it is improtant to note that the data is imbalanced (almost $1/3$ to $2/3$)."
   ]
  },
  {
   "cell_type": "code",
   "execution_count": 42,
   "metadata": {
    "ExecuteTime": {
     "end_time": "2021-02-10T03:12:33.757659Z",
     "start_time": "2021-02-10T03:12:33.632617Z"
    },
    "scrolled": false
   },
   "outputs": [
    {
     "data": {
      "text/plain": [
       "<matplotlib.legend.Legend at 0x7faa12dbb070>"
      ]
     },
     "execution_count": 42,
     "metadata": {},
     "output_type": "execute_result"
    },
    {
     "data": {
      "image/png": "[encoded data removed]",
      "text/plain": [
       "<Figure size 720x576 with 1 Axes>"
      ]
     },
     "metadata": {},
     "output_type": "display_data"
    }
   ],
   "source": [
    "legend_labels = ['male', 'female']\n",
    "\n",
    "plt.figure(figsize= (10, 8))\n",
    "plt.title('Counts of Males and Females With & Without CV Disease', fontsize= 20)\n",
    "sns.countplot(x= 'gender', hue= 'disease', data= df_eda, palette= 'cubehelix')\n",
    "plt.xlabel('Absence/Presence of Cardiovascular Disease')\n",
    "plt.legend(legend_labels)"
   ]
  },
  {
   "cell_type": "code",
   "execution_count": 43,
   "metadata": {
    "ExecuteTime": {
     "end_time": "2021-02-10T03:12:33.769055Z",
     "start_time": "2021-02-10T03:12:33.759502Z"
    },
    "scrolled": true
   },
   "outputs": [
    {
     "data": {
      "text/plain": [
       "gender\n",
       "0    0.499832\n",
       "1    0.492826\n",
       "Name: disease, dtype: float64"
      ]
     },
     "execution_count": 43,
     "metadata": {},
     "output_type": "execute_result"
    }
   ],
   "source": [
    "df_eda.groupby('gender')['disease'].mean()"
   ]
  },
  {
   "cell_type": "markdown",
   "metadata": {},
   "source": [
    "Even though there is almost double the amount of women in the data, there are even amounts of disease present within each gender."
   ]
  },
  {
   "cell_type": "markdown",
   "metadata": {},
   "source": [
    "### Other quick checks"
   ]
  },
  {
   "cell_type": "code",
   "execution_count": 44,
   "metadata": {
    "ExecuteTime": {
     "end_time": "2021-02-10T03:12:33.777516Z",
     "start_time": "2021-02-10T03:12:33.771179Z"
    }
   },
   "outputs": [
    {
     "data": {
      "text/plain": [
       "1    0.749814\n",
       "2    0.135442\n",
       "3    0.114744\n",
       "Name: cholesterol, dtype: float64"
      ]
     },
     "execution_count": 44,
     "metadata": {},
     "output_type": "execute_result"
    }
   ],
   "source": [
    "#cholesterol?\n",
    "df_eda.cholesterol.value_counts(normalize= True)"
   ]
  },
  {
   "cell_type": "code",
   "execution_count": 45,
   "metadata": {
    "ExecuteTime": {
     "end_time": "2021-02-10T03:12:33.913530Z",
     "start_time": "2021-02-10T03:12:33.779464Z"
    }
   },
   "outputs": [
    {
     "data": {
      "text/plain": [
       "<matplotlib.legend.Legend at 0x7faa12a7f9d0>"
      ]
     },
     "execution_count": 45,
     "metadata": {},
     "output_type": "execute_result"
    },
    {
     "data": {
      "image/png": "[encoded data removed]",
      "text/plain": [
       "<Figure size 576x432 with 1 Axes>"
      ]
     },
     "metadata": {},
     "output_type": "display_data"
    }
   ],
   "source": [
    "plt.figure(figsize= (8,6))\n",
    "sns.countplot(x= 'cholesterol', hue= 'disease', data= df_eda)\n",
    "plt.legend( ['No disease', 'Disease present'])"
   ]
  },
  {
   "cell_type": "code",
   "execution_count": 46,
   "metadata": {
    "ExecuteTime": {
     "end_time": "2021-02-10T03:12:34.491765Z",
     "start_time": "2021-02-10T03:12:33.915461Z"
    },
    "scrolled": false
   },
   "outputs": [
    {
     "data": {
      "text/plain": [
       "<seaborn.axisgrid.FacetGrid at 0x7faa12db45e0>"
      ]
     },
     "execution_count": 46,
     "metadata": {},
     "output_type": "execute_result"
    },
    {
     "data": {
      "image/png": "[encoded data removed]",
      "text/plain": [
       "<Figure size 360x360 with 1 Axes>"
      ]
     },
     "metadata": {},
     "output_type": "display_data"
    }
   ],
   "source": [
    "pal = ['#1a75ff', '#cc6699', '#ff9900']\n",
    "sns.catplot(x= 'cholesterol', y= 'disease', data= df_eda, kind= 'bar', \n",
    "            palette= pal)"
   ]
  },
  {
   "cell_type": "code",
   "execution_count": 47,
   "metadata": {
    "ExecuteTime": {
     "end_time": "2021-02-10T03:12:34.499983Z",
     "start_time": "2021-02-10T03:12:34.493586Z"
    }
   },
   "outputs": [
    {
     "data": {
      "text/plain": [
       "cholesterol\n",
       "1    0.435971\n",
       "2    0.597237\n",
       "3    0.762420\n",
       "Name: disease, dtype: float64"
      ]
     },
     "execution_count": 47,
     "metadata": {},
     "output_type": "execute_result"
    }
   ],
   "source": [
    "df_eda.groupby('cholesterol')['disease'].mean()"
   ]
  },
  {
   "cell_type": "markdown",
   "metadata": {},
   "source": [
    "Having cholesterol levels \"above normal\" and \"well above normal\" increase an individuals chances of being diagnosed with cardiovascular disease. However, having \"normal\" cholesterol levels does not decrease your chances. There are many individuals with normal cholesterol levels and CVD.\n",
    "\n",
    "76% of patients with cholesterol \"well above normal\" also have cardiovascular disease."
   ]
  },
  {
   "cell_type": "code",
   "execution_count": 48,
   "metadata": {
    "ExecuteTime": {
     "end_time": "2021-02-10T03:12:34.507102Z",
     "start_time": "2021-02-10T03:12:34.501944Z"
    }
   },
   "outputs": [
    {
     "data": {
      "text/plain": [
       "1    0.803458\n",
       "0    0.196542\n",
       "Name: active, dtype: float64"
      ]
     },
     "execution_count": 48,
     "metadata": {},
     "output_type": "execute_result"
    }
   ],
   "source": [
    "# active?\n",
    "df_eda.active.value_counts(normalize= True)"
   ]
  },
  {
   "cell_type": "code",
   "execution_count": 49,
   "metadata": {
    "ExecuteTime": {
     "end_time": "2021-02-10T03:12:34.815100Z",
     "start_time": "2021-02-10T03:12:34.508411Z"
    }
   },
   "outputs": [
    {
     "data": {
      "text/plain": [
       "<seaborn.axisgrid.FacetGrid at 0x7faa14bf3be0>"
      ]
     },
     "execution_count": 49,
     "metadata": {},
     "output_type": "execute_result"
    },
    {
     "data": {
      "image/png": "[encoded data removed]",
      "text/plain": [
       "<Figure size 720x360 with 2 Axes>"
      ]
     },
     "metadata": {},
     "output_type": "display_data"
    }
   ],
   "source": [
    "sns.catplot(x='active', y='BMI', col='disease', data=df_eda, kind='boxen', \n",
    "            palette='Set1')"
   ]
  },
  {
   "cell_type": "code",
   "execution_count": 50,
   "metadata": {
    "ExecuteTime": {
     "end_time": "2021-02-10T03:12:34.826042Z",
     "start_time": "2021-02-10T03:12:34.817257Z"
    },
    "scrolled": false
   },
   "outputs": [
    {
     "data": {
      "text/plain": [
       "disease  active\n",
       "0        0         26.521442\n",
       "         1         26.460297\n",
       "1        0         28.540764\n",
       "         1         28.436058\n",
       "Name: BMI, dtype: float64"
      ]
     },
     "execution_count": 50,
     "metadata": {},
     "output_type": "execute_result"
    }
   ],
   "source": [
    "df_eda.groupby(['disease', 'active'])['BMI'].mean()"
   ]
  },
  {
   "cell_type": "markdown",
   "metadata": {},
   "source": [
    "This visualization shows that patients without cardiovascular disease have similar body mass indexes, regardless of whether they classify themselves as active or not.\n",
    "\n",
    "There is a slightly higher BMI for individuals that do have cardiovascular disease, but again, does not really differ if the patient is / is not active."
   ]
  },
  {
   "cell_type": "code",
   "execution_count": 51,
   "metadata": {
    "ExecuteTime": {
     "end_time": "2021-02-10T03:12:35.020351Z",
     "start_time": "2021-02-10T03:12:34.827655Z"
    }
   },
   "outputs": [
    {
     "data": {
      "text/plain": [
       "<matplotlib.legend.Legend at 0x7faa12dea370>"
      ]
     },
     "execution_count": 51,
     "metadata": {},
     "output_type": "execute_result"
    },
    {
     "data": {
      "image/png": "[encoded data removed]",
      "text/plain": [
       "<Figure size 432x288 with 1 Axes>"
      ]
     },
     "metadata": {},
     "output_type": "display_data"
    }
   ],
   "source": [
    "# Glucose?\n",
    "pal = ['#008ae6' , '#ec1313']\n",
    "sns.countplot(x= 'glucose', hue= 'disease', data= df_eda, palette= pal)\n",
    "plt.legend( ['No disease', 'Disease present'])"
   ]
  },
  {
   "cell_type": "code",
   "execution_count": 52,
   "metadata": {
    "ExecuteTime": {
     "end_time": "2021-02-10T03:12:35.027163Z",
     "start_time": "2021-02-10T03:12:35.021915Z"
    }
   },
   "outputs": [
    {
     "data": {
      "text/plain": [
       "glucose\n",
       "1    0.476171\n",
       "2    0.589378\n",
       "3    0.617528\n",
       "Name: disease, dtype: float64"
      ]
     },
     "execution_count": 52,
     "metadata": {},
     "output_type": "execute_result"
    }
   ],
   "source": [
    "df_eda.groupby('glucose')['disease'].mean()"
   ]
  },
  {
   "cell_type": "markdown",
   "metadata": {},
   "source": [
    "Glucose levels that are \"normal\" do not seem to have any relationship to having the disease or not. In fact, a patient has almost a 50% chance of having cardiovascular disease even with a normal glucose measurement. The risk of being diagnosed with cardiovascular disease increases with increasing levels of glucose."
   ]
  },
  {
   "cell_type": "code",
   "execution_count": 53,
   "metadata": {
    "ExecuteTime": {
     "end_time": "2021-02-10T03:12:35.056957Z",
     "start_time": "2021-02-10T03:12:35.028572Z"
    },
    "scrolled": false
   },
   "outputs": [
    {
     "data": {
      "text/plain": [
       "alcohol  smoke\n",
       "0        0        0.497266\n",
       "         1        0.481851\n",
       "1        0        0.514054\n",
       "         1        0.440377\n",
       "Name: disease, dtype: float64"
      ]
     },
     "execution_count": 53,
     "metadata": {},
     "output_type": "execute_result"
    }
   ],
   "source": [
    "# smoke and drink alcohol?\n",
    "df_eda.groupby(['alcohol', 'smoke'])['disease'].mean()"
   ]
  },
  {
   "cell_type": "code",
   "execution_count": 54,
   "metadata": {
    "ExecuteTime": {
     "end_time": "2021-02-10T03:12:35.065861Z",
     "start_time": "2021-02-10T03:12:35.058664Z"
    }
   },
   "outputs": [
    {
     "data": {
      "text/plain": [
       "alcohol  smoke\n",
       "0        0        60545\n",
       "         1         4215\n",
       "1        0         1850\n",
       "         1         1803\n",
       "Name: disease, dtype: int64"
      ]
     },
     "execution_count": 54,
     "metadata": {},
     "output_type": "execute_result"
    }
   ],
   "source": [
    "df_eda.groupby(['alcohol', 'smoke'])['disease'].count()"
   ]
  },
  {
   "cell_type": "code",
   "execution_count": 55,
   "metadata": {
    "ExecuteTime": {
     "end_time": "2021-02-10T03:12:35.185957Z",
     "start_time": "2021-02-10T03:12:35.067746Z"
    }
   },
   "outputs": [
    {
     "data": {
      "text/plain": [
       "<AxesSubplot:xlabel='alcohol,smoke'>"
      ]
     },
     "execution_count": 55,
     "metadata": {},
     "output_type": "execute_result"
    },
    {
     "data": {
      "image/png": "[encoded data removed]",
      "text/plain": [
       "<Figure size 432x288 with 1 Axes>"
      ]
     },
     "metadata": {},
     "output_type": "display_data"
    }
   ],
   "source": [
    "df_eda.groupby(['alcohol', 'smoke'])['disease'].mean().plot()"
   ]
  },
  {
   "cell_type": "markdown",
   "metadata": {},
   "source": [
    "This graph shows that an individual that claims to drink alcohol and smoke has the lowest risk of being diagnosed with cardiovascular disease. However, because these features are subjective and vague (drink how much, smoke what?), it is unwise to definitively say that drinking and smoking is better for your heart.\n",
    "\n",
    "It is also interesting that risk of having cardiovascular disease decreases when looking at drinking OR smoking. Again, this should lead one to consider subjective information to be potentially less accurate."
   ]
  },
  {
   "cell_type": "markdown",
   "metadata": {},
   "source": [
    "### Heatmap"
   ]
  },
  {
   "cell_type": "code",
   "execution_count": 56,
   "metadata": {
    "ExecuteTime": {
     "end_time": "2021-02-10T03:12:35.683243Z",
     "start_time": "2021-02-10T03:12:35.187660Z"
    }
   },
   "outputs": [
    {
     "data": {
      "image/png": "[encoded data removed]",
      "text/plain": [
       "<Figure size 720x576 with 2 Axes>"
      ]
     },
     "metadata": {},
     "output_type": "display_data"
    }
   ],
   "source": [
    "corr = df.corr()\n",
    "\n",
    "plt.figure(figsize= (10,8))\n",
    "mask = np.triu(np.ones_like(corr, dtype=np.bool))\n",
    "sns.heatmap(df.corr(), cmap= 'coolwarm', mask= mask, linewidths= 1, annot= True)\n",
    "plt.title('Correlation between Features', fontsize= 15)\n",
    "plt.show()"
   ]
  },
  {
   "cell_type": "markdown",
   "metadata": {},
   "source": [
    "The highest correlation (positive or negative) is between systolic and diastolic. The second highest is between height and gender.\n",
    "\n",
    "The features with the highest correlation on disease are systolic, diastolic, age, and cholesterol."
   ]
  },
  {
   "cell_type": "markdown",
   "metadata": {},
   "source": [
    "## Models"
   ]
  },
  {
   "cell_type": "markdown",
   "metadata": {},
   "source": [
    "### One hot encode, Split, and Standardize"
   ]
  },
  {
   "cell_type": "code",
   "execution_count": 57,
   "metadata": {
    "ExecuteTime": {
     "end_time": "2021-02-10T03:12:35.691121Z",
     "start_time": "2021-02-10T03:12:35.685038Z"
    }
   },
   "outputs": [],
   "source": [
    "df['cholesterol'] = df['cholesterol'].astype('category')\n",
    "df['glucose'] = df['glucose'].astype('category')"
   ]
  },
  {
   "cell_type": "code",
   "execution_count": 58,
   "metadata": {
    "ExecuteTime": {
     "end_time": "2021-02-10T03:12:35.703880Z",
     "start_time": "2021-02-10T03:12:35.692822Z"
    }
   },
   "outputs": [],
   "source": [
    "df = pd.get_dummies(df, prefix=['chol', 'gluc'], drop_first=True)"
   ]
  },
  {
   "cell_type": "code",
   "execution_count": 59,
   "metadata": {
    "ExecuteTime": {
     "end_time": "2021-02-10T03:12:35.710854Z",
     "start_time": "2021-02-10T03:12:35.705657Z"
    }
   },
   "outputs": [],
   "source": [
    "y = df['disease']\n",
    "X = df.drop('disease', axis= 1)"
   ]
  },
  {
   "cell_type": "code",
   "execution_count": 60,
   "metadata": {
    "ExecuteTime": {
     "end_time": "2021-02-10T03:12:35.720829Z",
     "start_time": "2021-02-10T03:12:35.712127Z"
    }
   },
   "outputs": [],
   "source": [
    "X_train, X_test, y_train, y_test = train_test_split(X, y, random_state= 42)"
   ]
  },
  {
   "cell_type": "code",
   "execution_count": 61,
   "metadata": {
    "ExecuteTime": {
     "end_time": "2021-02-10T03:12:35.724323Z",
     "start_time": "2021-02-10T03:12:35.722450Z"
    }
   },
   "outputs": [],
   "source": [
    "scaler = StandardScaler()"
   ]
  },
  {
   "cell_type": "code",
   "execution_count": 62,
   "metadata": {
    "ExecuteTime": {
     "end_time": "2021-02-10T03:12:35.743361Z",
     "start_time": "2021-02-10T03:12:35.725813Z"
    }
   },
   "outputs": [],
   "source": [
    "X_train = scaler.fit_transform(X_train)\n",
    "X_test = scaler.transform(X_test)"
   ]
  },
  {
   "cell_type": "markdown",
   "metadata": {},
   "source": [
    "### Building Models"
   ]
  },
  {
   "cell_type": "code",
   "execution_count": 63,
   "metadata": {
    "ExecuteTime": {
     "end_time": "2021-02-10T03:12:35.747060Z",
     "start_time": "2021-02-10T03:12:35.744632Z"
    }
   },
   "outputs": [],
   "source": [
    "classifiers = {\n",
    "    'Logistic Regression' : LogisticRegression(), \n",
    "    'Random Forest' : RandomForestClassifier(), \n",
    "    'Support Vector Machine' : SVC(), \n",
    "    'K-Nearest Neighbors' : KNeighborsClassifier(), \n",
    "    'Decision Tree' : DecisionTreeClassifier(), \n",
    "    'XGBoost' : XGBClassifier()\n",
    "}"
   ]
  },
  {
   "cell_type": "code",
   "execution_count": 64,
   "metadata": {
    "ExecuteTime": {
     "end_time": "2021-02-10T03:14:33.296858Z",
     "start_time": "2021-02-10T03:12:35.748293Z"
    }
   },
   "outputs": [],
   "source": [
    "results = pd.DataFrame(columns= ['Train_accuracy', 'Test_accuracy', 'F1_score'])\n",
    "\n",
    "for key, value in classifiers.items():\n",
    "    value.fit(X_train, y_train)\n",
    "    train_pred = value.predict(X_train)\n",
    "    y_pred = value.predict(X_test)\n",
    "    \n",
    "    train_acc = accuracy_score(y_train, train_pred) * 100\n",
    "    test_acc = accuracy_score(y_test, y_pred) * 100\n",
    "    f1 = f1_score(y_test, y_pred)\n",
    "    results.loc[key] = [round(train_acc, 2), round(test_acc, 2), round(f1, 2)]"
   ]
  },
  {
   "cell_type": "code",
   "execution_count": 65,
   "metadata": {
    "ExecuteTime": {
     "end_time": "2021-02-10T03:14:33.307399Z",
     "start_time": "2021-02-10T03:14:33.298508Z"
    }
   },
   "outputs": [
    {
     "data": {
      "text/html": [
       "<div>\n",
       "<style scoped>\n",
       "    .dataframe tbody tr th:only-of-type {\n",
       "        vertical-align: middle;\n",
       "    }\n",
       "\n",
       "    .dataframe tbody tr th {\n",
       "        vertical-align: top;\n",
       "    }\n",
       "\n",
       "    .dataframe thead th {\n",
       "        text-align: right;\n",
       "    }\n",
       "</style>\n",
       "<table border=\"1\" class=\"dataframe\">\n",
       "  <thead>\n",
       "    <tr style=\"text-align: right;\">\n",
       "      <th></th>\n",
       "      <th>Train_accuracy</th>\n",
       "      <th>Test_accuracy</th>\n",
       "      <th>F1_score</th>\n",
       "    </tr>\n",
       "  </thead>\n",
       "  <tbody>\n",
       "    <tr>\n",
       "      <th>Support Vector Machine</th>\n",
       "      <td>73.78</td>\n",
       "      <td>73.22</td>\n",
       "      <td>0.71</td>\n",
       "    </tr>\n",
       "    <tr>\n",
       "      <th>XGBoost</th>\n",
       "      <td>76.40</td>\n",
       "      <td>72.99</td>\n",
       "      <td>0.72</td>\n",
       "    </tr>\n",
       "    <tr>\n",
       "      <th>Logistic Regression</th>\n",
       "      <td>72.84</td>\n",
       "      <td>72.81</td>\n",
       "      <td>0.71</td>\n",
       "    </tr>\n",
       "    <tr>\n",
       "      <th>Random Forest</th>\n",
       "      <td>99.55</td>\n",
       "      <td>71.35</td>\n",
       "      <td>0.71</td>\n",
       "    </tr>\n",
       "    <tr>\n",
       "      <th>K-Nearest Neighbors</th>\n",
       "      <td>78.39</td>\n",
       "      <td>69.07</td>\n",
       "      <td>0.69</td>\n",
       "    </tr>\n",
       "    <tr>\n",
       "      <th>Decision Tree</th>\n",
       "      <td>99.55</td>\n",
       "      <td>63.28</td>\n",
       "      <td>0.63</td>\n",
       "    </tr>\n",
       "  </tbody>\n",
       "</table>\n",
       "</div>"
      ],
      "text/plain": [
       "                        Train_accuracy  Test_accuracy  F1_score\n",
       "Support Vector Machine           73.78          73.22      0.71\n",
       "XGBoost                          76.40          72.99      0.72\n",
       "Logistic Regression              72.84          72.81      0.71\n",
       "Random Forest                    99.55          71.35      0.71\n",
       "K-Nearest Neighbors              78.39          69.07      0.69\n",
       "Decision Tree                    99.55          63.28      0.63"
      ]
     },
     "execution_count": 65,
     "metadata": {},
     "output_type": "execute_result"
    }
   ],
   "source": [
    "# results = results.sort_values(by= ['Test_accuracy', 'Train_accuracy'], \n",
    "#                               ascending= False)\n",
    "# results\n",
    "results.sort_values(by= ['Test_accuracy', 'Train_accuracy'], ascending= False)"
   ]
  },
  {
   "cell_type": "markdown",
   "metadata": {
    "ExecuteTime": {
     "end_time": "2021-02-09T19:30:29.336932Z",
     "start_time": "2021-02-09T19:30:29.329395Z"
    }
   },
   "source": [
    "We got decent results without any hyperparameter tuning. We can do that next to see if we can improve the accuracy and decrease the overfitting."
   ]
  },
  {
   "cell_type": "markdown",
   "metadata": {},
   "source": [
    "### Hyperparameter Tuning"
   ]
  },
  {
   "cell_type": "code",
   "execution_count": 66,
   "metadata": {
    "ExecuteTime": {
     "end_time": "2021-02-10T03:14:33.314224Z",
     "start_time": "2021-02-10T03:14:33.309633Z"
    }
   },
   "outputs": [],
   "source": [
    "# function to get results after each model\n",
    "\n",
    "def get_results(model, model_name):\n",
    "    train_pred = model.predict(X_train)\n",
    "    y_pred = model.predict(X_test)\n",
    "    \n",
    "    # get classification report\n",
    "    print('{} Classification Report'.format(model_name))\n",
    "    print(classification_report(y_test, y_pred))\n",
    "    \n",
    "    # get confusion matrix\n",
    "    plot_confusion_matrix(model, X_test, y_test, cmap= \"Blues\", values_format= '.5g')\n",
    "    plt.grid(False)\n",
    "    plt.show()\n",
    "    \n",
    "    # get accuracy and F1 scores\n",
    "    train_acc = accuracy_score(y_train, train_pred) * 100\n",
    "    test_acc = accuracy_score(y_test, y_pred) * 100\n",
    "    f1 = f1_score(y_test, y_pred)\n",
    "    \n",
    "    # save scores into results df\n",
    "    results.loc[model_name] = [round(train_acc, 2), round(test_acc, 2), round(f1, 2)]"
   ]
  },
  {
   "cell_type": "markdown",
   "metadata": {},
   "source": [
    "#### XGBoost "
   ]
  },
  {
   "cell_type": "code",
   "execution_count": 67,
   "metadata": {
    "ExecuteTime": {
     "end_time": "2021-02-10T03:14:33.318849Z",
     "start_time": "2021-02-10T03:14:33.316207Z"
    }
   },
   "outputs": [],
   "source": [
    "# Instantiate classifier\n",
    "xgb = XGBClassifier()"
   ]
  },
  {
   "cell_type": "code",
   "execution_count": 68,
   "metadata": {
    "ExecuteTime": {
     "end_time": "2021-02-10T03:14:33.342460Z",
     "start_time": "2021-02-10T03:14:33.338469Z"
    }
   },
   "outputs": [],
   "source": [
    "# create hyperparameter grid\n",
    "param_grid_xgb = {\n",
    "    'learning_rate': [0.01, 0.05, 0.08],\n",
    "    'max_depth': [4, 5, 6],\n",
    "    'min_child_weight': [3, 4],\n",
    "    'subsample': [0.5, 0.6],\n",
    "    'n_estimators': [100, 150],\n",
    "}\n",
    "\n",
    "# Instantiate Randomized Search\n",
    "# n_jobs : Number of jobs to run in parallel. -1 means using all processors.\n",
    "RS_xgb = RandomizedSearchCV(xgb, param_grid_xgb, n_jobs= 3, scoring= 'recall')"
   ]
  },
  {
   "cell_type": "code",
   "execution_count": 69,
   "metadata": {
    "ExecuteTime": {
     "end_time": "2021-02-10T03:15:42.765851Z",
     "start_time": "2021-02-10T03:14:33.353526Z"
    }
   },
   "outputs": [
    {
     "data": {
      "text/plain": [
       "RandomizedSearchCV(estimator=XGBClassifier(base_score=None, booster=None,\n",
       "                                           colsample_bylevel=None,\n",
       "                                           colsample_bynode=None,\n",
       "                                           colsample_bytree=None, gamma=None,\n",
       "                                           gpu_id=None, importance_type='gain',\n",
       "                                           interaction_constraints=None,\n",
       "                                           learning_rate=None,\n",
       "                                           max_delta_step=None, max_depth=None,\n",
       "                                           min_child_weight=None, missing=nan,\n",
       "                                           monotone_constraints=None,\n",
       "                                           n_estimators=100, n_jobs=None,\n",
       "                                           num_parallel_tree=None,\n",
       "                                           random_state=None, reg_alpha=None,\n",
       "                                           reg_lambda=None,\n",
       "                                           scale_pos_weight=None,\n",
       "                                           subsample=None, tree_method=None,\n",
       "                                           validate_parameters=None,\n",
       "                                           verbosity=None),\n",
       "                   n_jobs=3,\n",
       "                   param_distributions={'learning_rate': [0.01, 0.05, 0.08],\n",
       "                                        'max_depth': [4, 5, 6],\n",
       "                                        'min_child_weight': [3, 4],\n",
       "                                        'n_estimators': [100, 150],\n",
       "                                        'subsample': [0.5, 0.6]},\n",
       "                   scoring='recall')"
      ]
     },
     "execution_count": 69,
     "metadata": {},
     "output_type": "execute_result"
    }
   ],
   "source": [
    "# fit model\n",
    "RS_xgb.fit(X_train, y_train)"
   ]
  },
  {
   "cell_type": "code",
   "execution_count": 70,
   "metadata": {
    "ExecuteTime": {
     "end_time": "2021-02-10T03:15:42.771840Z",
     "start_time": "2021-02-10T03:15:42.767981Z"
    },
    "scrolled": true
   },
   "outputs": [
    {
     "data": {
      "text/plain": [
       "{'subsample': 0.5,\n",
       " 'n_estimators': 150,\n",
       " 'min_child_weight': 4,\n",
       " 'max_depth': 4,\n",
       " 'learning_rate': 0.08}"
      ]
     },
     "execution_count": 70,
     "metadata": {},
     "output_type": "execute_result"
    }
   ],
   "source": [
    "RS_xgb.best_params_"
   ]
  },
  {
   "cell_type": "code",
   "execution_count": 71,
   "metadata": {
    "ExecuteTime": {
     "end_time": "2021-02-10T03:15:43.132821Z",
     "start_time": "2021-02-10T03:15:42.773710Z"
    }
   },
   "outputs": [
    {
     "name": "stdout",
     "output_type": "stream",
     "text": [
      "RS XGBoost Classification Report\n",
      "              precision    recall  f1-score   support\n",
      "\n",
      "           0       0.72      0.78      0.75      8642\n",
      "           1       0.75      0.69      0.72      8462\n",
      "\n",
      "    accuracy                           0.74     17104\n",
      "   macro avg       0.74      0.74      0.74     17104\n",
      "weighted avg       0.74      0.74      0.74     17104\n",
      "\n"
     ]
    },
    {
     "data": {
      "image/png": "[encoded data removed]",
      "text/plain": [
       "<Figure size 432x288 with 2 Axes>"
      ]
     },
     "metadata": {},
     "output_type": "display_data"
    }
   ],
   "source": [
    "# see model results and add to results df\n",
    "get_results(RS_xgb, 'RS XGBoost')"
   ]
  },
  {
   "cell_type": "markdown",
   "metadata": {},
   "source": [
    "#### Random Forest"
   ]
  },
  {
   "cell_type": "code",
   "execution_count": 73,
   "metadata": {
    "ExecuteTime": {
     "end_time": "2021-02-10T03:15:43.143011Z",
     "start_time": "2021-02-10T03:15:43.140367Z"
    }
   },
   "outputs": [],
   "source": [
    "# Instantiate classifier\n",
    "RF = RandomForestClassifier()"
   ]
  },
  {
   "cell_type": "code",
   "execution_count": 74,
   "metadata": {
    "ExecuteTime": {
     "end_time": "2021-02-10T03:15:43.149653Z",
     "start_time": "2021-02-10T03:15:43.145284Z"
    }
   },
   "outputs": [],
   "source": [
    "param_grid_RF = {\n",
    "    'n_estimators' : [150, 200],\n",
    "    'max_depth' : [90, 100], \n",
    "    'min_samples_split' : [5, 8], \n",
    "    'min_samples_leaf' : [3, 4],\n",
    "    'max_features' : [2, 3, 4]\n",
    "}\n",
    "\n",
    "# Instantiate Randomized Search\n",
    "RS_RF = RandomizedSearchCV(RF, param_grid_RF, n_iter= 20, scoring= 'recall')"
   ]
  },
  {
   "cell_type": "code",
   "execution_count": 75,
   "metadata": {
    "ExecuteTime": {
     "end_time": "2021-02-10T03:22:29.128644Z",
     "start_time": "2021-02-10T03:15:43.151824Z"
    }
   },
   "outputs": [
    {
     "data": {
      "text/plain": [
       "RandomizedSearchCV(estimator=RandomForestClassifier(), n_iter=20,\n",
       "                   param_distributions={'max_depth': [90, 100],\n",
       "                                        'max_features': [2, 3, 4],\n",
       "                                        'min_samples_leaf': [3, 4],\n",
       "                                        'min_samples_split': [5, 8],\n",
       "                                        'n_estimators': [150, 200]})"
      ]
     },
     "execution_count": 75,
     "metadata": {},
     "output_type": "execute_result"
    }
   ],
   "source": [
    "# fit model\n",
    "RS_RF.fit(X_train, y_train)"
   ]
  },
  {
   "cell_type": "code",
   "execution_count": 76,
   "metadata": {
    "ExecuteTime": {
     "end_time": "2021-02-10T03:22:29.133940Z",
     "start_time": "2021-02-10T03:22:29.130494Z"
    }
   },
   "outputs": [
    {
     "data": {
      "text/plain": [
       "{'n_estimators': 150,\n",
       " 'min_samples_split': 8,\n",
       " 'min_samples_leaf': 4,\n",
       " 'max_features': 2,\n",
       " 'max_depth': 100}"
      ]
     },
     "execution_count": 76,
     "metadata": {},
     "output_type": "execute_result"
    }
   ],
   "source": [
    "RS_RF.best_params_"
   ]
  },
  {
   "cell_type": "code",
   "execution_count": 77,
   "metadata": {
    "ExecuteTime": {
     "end_time": "2021-02-10T03:22:31.025620Z",
     "start_time": "2021-02-10T03:22:29.135597Z"
    },
    "scrolled": false
   },
   "outputs": [
    {
     "name": "stdout",
     "output_type": "stream",
     "text": [
      "RS Random Forest Classification Report\n",
      "              precision    recall  f1-score   support\n",
      "\n",
      "           0       0.72      0.77      0.75      8642\n",
      "           1       0.75      0.70      0.72      8462\n",
      "\n",
      "    accuracy                           0.74     17104\n",
      "   macro avg       0.74      0.73      0.73     17104\n",
      "weighted avg       0.74      0.74      0.73     17104\n",
      "\n"
     ]
    },
    {
     "data": {
      "image/png": "[encoded data removed]",
      "text/plain": [
       "<Figure size 432x288 with 2 Axes>"
      ]
     },
     "metadata": {},
     "output_type": "display_data"
    }
   ],
   "source": [
    "# see model results and add to results df\n",
    "get_results(RS_RF, 'RS Random Forest')"
   ]
  },
  {
   "cell_type": "markdown",
   "metadata": {},
   "source": [
    "#### K-Nearest Neighbor"
   ]
  },
  {
   "cell_type": "code",
   "execution_count": 78,
   "metadata": {
    "ExecuteTime": {
     "end_time": "2021-02-10T03:22:31.029614Z",
     "start_time": "2021-02-10T03:22:31.027339Z"
    }
   },
   "outputs": [],
   "source": [
    "# Instantiate classifier\n",
    "KNN = KNeighborsClassifier()"
   ]
  },
  {
   "cell_type": "code",
   "execution_count": null,
   "metadata": {
    "ExecuteTime": {
     "end_time": "2021-02-10T03:26:22.216454Z",
     "start_time": "2021-02-10T03:17:07.959Z"
    }
   },
   "outputs": [],
   "source": [
    "# set parameter guidelines\n",
    "param_grid_KNN = {\n",
    "    'n_neighbors' : [25, 27, 29]\n",
    "}\n",
    "\n",
    "# Instantiate Grid Search\n",
    "GS_KNN = GridSearchCV(KNN, param_grid_KNN, n_jobs= 3, scoring= 'recall')"
   ]
  },
  {
   "cell_type": "code",
   "execution_count": 80,
   "metadata": {
    "ExecuteTime": {
     "end_time": "2021-02-10T03:22:55.077168Z",
     "start_time": "2021-02-10T03:22:31.035171Z"
    }
   },
   "outputs": [
    {
     "data": {
      "text/plain": [
       "GridSearchCV(estimator=KNeighborsClassifier(), n_jobs=3,\n",
       "             param_grid={'n_neighbors': [25, 27, 29]})"
      ]
     },
     "execution_count": 80,
     "metadata": {},
     "output_type": "execute_result"
    }
   ],
   "source": [
    "# fit model\n",
    "GS_KNN.fit(X_train, y_train)"
   ]
  },
  {
   "cell_type": "code",
   "execution_count": 81,
   "metadata": {
    "ExecuteTime": {
     "end_time": "2021-02-10T03:22:55.082894Z",
     "start_time": "2021-02-10T03:22:55.079552Z"
    }
   },
   "outputs": [
    {
     "data": {
      "text/plain": [
       "{'n_neighbors': 29}"
      ]
     },
     "execution_count": 81,
     "metadata": {},
     "output_type": "execute_result"
    }
   ],
   "source": [
    "GS_KNN.best_params_"
   ]
  },
  {
   "cell_type": "code",
   "execution_count": 82,
   "metadata": {
    "ExecuteTime": {
     "end_time": "2021-02-10T03:23:16.942463Z",
     "start_time": "2021-02-10T03:22:55.084528Z"
    },
    "scrolled": false
   },
   "outputs": [
    {
     "name": "stdout",
     "output_type": "stream",
     "text": [
      "GS KNN Classification Report\n",
      "              precision    recall  f1-score   support\n",
      "\n",
      "           0       0.71      0.76      0.74      8642\n",
      "           1       0.74      0.68      0.71      8462\n",
      "\n",
      "    accuracy                           0.72     17104\n",
      "   macro avg       0.73      0.72      0.72     17104\n",
      "weighted avg       0.72      0.72      0.72     17104\n",
      "\n"
     ]
    },
    {
     "data": {
      "image/png": "[encoded data removed]",
      "text/plain": [
       "<Figure size 432x288 with 2 Axes>"
      ]
     },
     "metadata": {},
     "output_type": "display_data"
    }
   ],
   "source": [
    "# see model results and add to results df\n",
    "get_results(GS_KNN, 'GS KNN')"
   ]
  },
  {
   "cell_type": "markdown",
   "metadata": {},
   "source": [
    "#### Support Vector Machines"
   ]
  },
  {
   "cell_type": "code",
   "execution_count": 83,
   "metadata": {
    "ExecuteTime": {
     "end_time": "2021-02-10T03:23:16.946385Z",
     "start_time": "2021-02-10T03:23:16.944214Z"
    }
   },
   "outputs": [],
   "source": [
    "# Instantiate classifier\n",
    "svc = SVC(kernel= 'poly', C= 5)"
   ]
  },
  {
   "cell_type": "code",
   "execution_count": 84,
   "metadata": {
    "ExecuteTime": {
     "end_time": "2021-02-10T03:23:16.950064Z",
     "start_time": "2021-02-10T03:23:16.948182Z"
    }
   },
   "outputs": [],
   "source": [
    "# set parameter guidelines\n",
    "# param_grid_svc = {\n",
    "#     'C' : [1, 5]\n",
    "# }\n",
    "\n",
    "# #  Instantiate Randomized Search\n",
    "# RS_SVC = RandomizedSearchCV(svc, param_grid_svc, n_jobs= 3)"
   ]
  },
  {
   "cell_type": "code",
   "execution_count": 85,
   "metadata": {
    "ExecuteTime": {
     "end_time": "2021-02-10T03:25:47.803225Z",
     "start_time": "2021-02-10T03:23:16.951517Z"
    }
   },
   "outputs": [
    {
     "data": {
      "text/plain": [
       "SVC(C=5, kernel='poly')"
      ]
     },
     "execution_count": 85,
     "metadata": {},
     "output_type": "execute_result"
    }
   ],
   "source": [
    "# fit model\n",
    "svc.fit(X_train, y_train)"
   ]
  },
  {
   "cell_type": "code",
   "execution_count": 86,
   "metadata": {
    "ExecuteTime": {
     "end_time": "2021-02-10T03:25:47.806587Z",
     "start_time": "2021-02-10T03:25:47.804843Z"
    }
   },
   "outputs": [],
   "source": [
    "# RS_SVC.best_params_"
   ]
  },
  {
   "cell_type": "code",
   "execution_count": 87,
   "metadata": {
    "ExecuteTime": {
     "end_time": "2021-02-10T03:26:19.470245Z",
     "start_time": "2021-02-10T03:25:47.808519Z"
    }
   },
   "outputs": [
    {
     "name": "stdout",
     "output_type": "stream",
     "text": [
      "SVM Classification Report\n",
      "              precision    recall  f1-score   support\n",
      "\n",
      "           0       0.70      0.80      0.75      8642\n",
      "           1       0.76      0.65      0.70      8462\n",
      "\n",
      "    accuracy                           0.73     17104\n",
      "   macro avg       0.73      0.72      0.72     17104\n",
      "weighted avg       0.73      0.73      0.72     17104\n",
      "\n"
     ]
    },
    {
     "data": {
      "image/png": "[encoded data removed]",
      "text/plain": [
       "<Figure size 432x288 with 2 Axes>"
      ]
     },
     "metadata": {},
     "output_type": "display_data"
    }
   ],
   "source": [
    "# see model results and add to results df\n",
    "get_results(svc, 'SVM')"
   ]
  },
  {
   "cell_type": "markdown",
   "metadata": {},
   "source": [
    "#### Logistic Regression"
   ]
  },
  {
   "cell_type": "code",
   "execution_count": 88,
   "metadata": {
    "ExecuteTime": {
     "end_time": "2021-02-10T03:26:19.473939Z",
     "start_time": "2021-02-10T03:26:19.472017Z"
    }
   },
   "outputs": [],
   "source": [
    "# Instantiate classifier\n",
    "LG = LogisticRegression()"
   ]
  },
  {
   "cell_type": "code",
   "execution_count": 89,
   "metadata": {
    "ExecuteTime": {
     "end_time": "2021-02-10T03:26:19.478784Z",
     "start_time": "2021-02-10T03:26:19.475851Z"
    }
   },
   "outputs": [],
   "source": [
    "# set parameter criteria\n",
    "param_grid_LG = {\n",
    "    'penalty': ['l1', 'l2'],\n",
    "    'C':[1, 5, 10]\n",
    "}\n",
    "\n",
    "# Instantiate Grid Search\n",
    "GS_LG = GridSearchCV(LG, param_grid_LG, scoring= 'recall')"
   ]
  },
  {
   "cell_type": "code",
   "execution_count": 90,
   "metadata": {
    "ExecuteTime": {
     "end_time": "2021-02-10T03:26:19.482821Z",
     "start_time": "2021-02-10T03:26:19.480792Z"
    }
   },
   "outputs": [],
   "source": [
    "# GS_LG.fit(X_train, y_train)"
   ]
  },
  {
   "cell_type": "code",
   "execution_count": 92,
   "metadata": {
    "ExecuteTime": {
     "end_time": "2021-02-10T03:27:46.150349Z",
     "start_time": "2021-02-10T03:27:45.529586Z"
    }
   },
   "outputs": [
    {
     "data": {
      "text/plain": [
       "GridSearchCV(estimator=LogisticRegression(),\n",
       "             param_grid={'C': [1, 5, 10], 'penalty': ['l1', 'l2']},\n",
       "             scoring='recall')"
      ]
     },
     "execution_count": 92,
     "metadata": {},
     "output_type": "execute_result"
    }
   ],
   "source": [
    "# fit model\n",
    "GS_LG.fit(X_train, y_train)"
   ]
  },
  {
   "cell_type": "code",
   "execution_count": 93,
   "metadata": {
    "ExecuteTime": {
     "end_time": "2021-02-10T03:27:48.672919Z",
     "start_time": "2021-02-10T03:27:48.669294Z"
    }
   },
   "outputs": [
    {
     "data": {
      "text/plain": [
       "{'C': 1, 'penalty': 'l2'}"
      ]
     },
     "execution_count": 93,
     "metadata": {},
     "output_type": "execute_result"
    }
   ],
   "source": [
    "GS_LG.best_params_"
   ]
  },
  {
   "cell_type": "code",
   "execution_count": 94,
   "metadata": {
    "ExecuteTime": {
     "end_time": "2021-02-10T03:27:49.782492Z",
     "start_time": "2021-02-10T03:27:49.597249Z"
    }
   },
   "outputs": [
    {
     "name": "stdout",
     "output_type": "stream",
     "text": [
      "GS Logistic Regression Classification Report\n",
      "              precision    recall  f1-score   support\n",
      "\n",
      "           0       0.71      0.79      0.75      8642\n",
      "           1       0.76      0.67      0.71      8462\n",
      "\n",
      "    accuracy                           0.73     17104\n",
      "   macro avg       0.73      0.73      0.73     17104\n",
      "weighted avg       0.73      0.73      0.73     17104\n",
      "\n"
     ]
    },
    {
     "data": {
      "image/png": "[encoded data removed]",
      "text/plain": [
       "<Figure size 432x288 with 2 Axes>"
      ]
     },
     "metadata": {},
     "output_type": "display_data"
    }
   ],
   "source": [
    "# see model results and add to results df\n",
    "get_results(GS_LG, 'GS Logistic Regression')"
   ]
  },
  {
   "cell_type": "markdown",
   "metadata": {},
   "source": [
    "#### Decision Tree"
   ]
  },
  {
   "cell_type": "code",
   "execution_count": 95,
   "metadata": {
    "ExecuteTime": {
     "end_time": "2021-02-10T03:27:59.133623Z",
     "start_time": "2021-02-10T03:27:59.131397Z"
    }
   },
   "outputs": [],
   "source": [
    "# Instantiate classifier\n",
    "DT = DecisionTreeClassifier()"
   ]
  },
  {
   "cell_type": "code",
   "execution_count": 96,
   "metadata": {
    "ExecuteTime": {
     "end_time": "2021-02-10T03:28:00.050034Z",
     "start_time": "2021-02-10T03:28:00.047248Z"
    }
   },
   "outputs": [],
   "source": [
    "# set parameter criteria\n",
    "param_grid_DT = {\n",
    "    'max_depth' : [3, 4, 5], \n",
    "    'min_samples_split' : [0.01, 0.05, 0.1], \n",
    "    'min_samples_leaf' : [5, 7, 9]\n",
    "}\n",
    "\n",
    "# Instantiate Randomized Search\n",
    "RS_DT = RandomizedSearchCV(DT, param_grid_DT, n_jobs= 3)"
   ]
  },
  {
   "cell_type": "code",
   "execution_count": 97,
   "metadata": {
    "ExecuteTime": {
     "end_time": "2021-02-10T03:28:02.660142Z",
     "start_time": "2021-02-10T03:28:00.922501Z"
    }
   },
   "outputs": [
    {
     "data": {
      "text/plain": [
       "RandomizedSearchCV(estimator=DecisionTreeClassifier(), n_jobs=3,\n",
       "                   param_distributions={'max_depth': [3, 4, 5],\n",
       "                                        'min_samples_leaf': [5, 7, 9],\n",
       "                                        'min_samples_split': [0.01, 0.05, 0.1]})"
      ]
     },
     "execution_count": 97,
     "metadata": {},
     "output_type": "execute_result"
    }
   ],
   "source": [
    "RS_DT.fit(X_train, y_train)"
   ]
  },
  {
   "cell_type": "code",
   "execution_count": 98,
   "metadata": {
    "ExecuteTime": {
     "end_time": "2021-02-10T03:28:03.525552Z",
     "start_time": "2021-02-10T03:28:03.522200Z"
    }
   },
   "outputs": [
    {
     "data": {
      "text/plain": [
       "{'min_samples_split': 0.01, 'min_samples_leaf': 7, 'max_depth': 5}"
      ]
     },
     "execution_count": 98,
     "metadata": {},
     "output_type": "execute_result"
    }
   ],
   "source": [
    "RS_DT.best_params_"
   ]
  },
  {
   "cell_type": "code",
   "execution_count": null,
   "metadata": {
    "ExecuteTime": {
     "end_time": "2021-02-10T03:26:19.908824Z",
     "start_time": "2021-02-10T03:12:27.902Z"
    }
   },
   "outputs": [],
   "source": [
    "# features= [X.columns]\n",
    "# plt.figure(figsize= (16,12))\n",
    "# # or \n",
    "# # fig, axes = plt.subplots(nrows = 1, figsize = (4,4), dpi= 300)\n",
    "# plot_tree(DT_hyp, filled= True, feature_names = features, rounded= True, \n",
    "#                class_names = np.unique(y).astype('str'))"
   ]
  },
  {
   "cell_type": "code",
   "execution_count": null,
   "metadata": {
    "ExecuteTime": {
     "end_time": "2021-02-10T03:26:19.910138Z",
     "start_time": "2021-02-10T03:12:27.906Z"
    }
   },
   "outputs": [],
   "source": [
    "# import graphviz\n",
    "# features= [X.columns]\n",
    "\n",
    "\n",
    "# dot_data = export_graphviz(DT_hyp, out_file= None, feature_names = features, \n",
    "#                                 class_names = df.target_names)"
   ]
  },
  {
   "cell_type": "code",
   "execution_count": 99,
   "metadata": {
    "ExecuteTime": {
     "end_time": "2021-02-10T03:28:07.080551Z",
     "start_time": "2021-02-10T03:28:06.892719Z"
    }
   },
   "outputs": [
    {
     "name": "stdout",
     "output_type": "stream",
     "text": [
      "RS Decision Tree Classification Report\n",
      "              precision    recall  f1-score   support\n",
      "\n",
      "           0       0.71      0.80      0.75      8642\n",
      "           1       0.76      0.67      0.71      8462\n",
      "\n",
      "    accuracy                           0.73     17104\n",
      "   macro avg       0.74      0.73      0.73     17104\n",
      "weighted avg       0.74      0.73      0.73     17104\n",
      "\n"
     ]
    },
    {
     "data": {
      "image/png": "[encoded data removed]",
      "text/plain": [
       "<Figure size 432x288 with 2 Axes>"
      ]
     },
     "metadata": {},
     "output_type": "display_data"
    }
   ],
   "source": [
    "get_results(RS_DT, 'RS Decision Tree')"
   ]
  },
  {
   "cell_type": "markdown",
   "metadata": {},
   "source": [
    "## Interpret"
   ]
  },
  {
   "cell_type": "markdown",
   "metadata": {},
   "source": [
    "Now, let's take the time to look in depth at some of the best results we achieved."
   ]
  },
  {
   "cell_type": "code",
   "execution_count": null,
   "metadata": {
    "ExecuteTime": {
     "end_time": "2021-02-10T03:26:19.912115Z",
     "start_time": "2021-02-10T03:12:27.916Z"
    }
   },
   "outputs": [],
   "source": [
    "# view all results\n",
    "results = results.sort_values(by= ['Test_accuracy', 'Train_accuracy'], \n",
    "                              ascending= False)\n",
    "results"
   ]
  },
  {
   "cell_type": "code",
   "execution_count": null,
   "metadata": {
    "ExecuteTime": {
     "end_time": "2021-02-10T03:26:19.913281Z",
     "start_time": "2021-02-10T03:12:27.920Z"
    }
   },
   "outputs": [],
   "source": [
    "# see results in bar graph\n",
    "plt.figure(figsize=(10,5))\n",
    "sns.barplot(x= results['Test_accuracy'], y= results.index, palette = 'icefire')\n",
    "plt.title('Test Accuracy of all Models')\n",
    "plt.xlabel('Model')\n",
    "plt.ylabel('Accuracy in %')\n",
    "# plt.xticks(rotation=45)"
   ]
  },
  {
   "cell_type": "code",
   "execution_count": null,
   "metadata": {
    "ExecuteTime": {
     "end_time": "2021-02-10T03:26:19.914679Z",
     "start_time": "2021-02-10T03:12:27.925Z"
    }
   },
   "outputs": [],
   "source": [
    "#ROC curve of best 6 models\n",
    "fig = plot_roc_curve(RS_xgb, X_test, y_test)\n",
    "plot_roc_curve(RS_RF,X_test, y_test, ax = fig.ax_)\n",
    "# plot_roc_curve(SVC,X_test, y_test, ax = fig.ax_)\n",
    "plot_roc_curve(GS_LG,X_test, y_test, ax = fig.ax_)\n",
    "plot_roc_curve(GS_KNN,X_test, y_test, ax = fig.ax_)\n",
    "plot_roc_curve(RS_DT,X_test, y_test, ax = fig.ax_)\n",
    "\n",
    "# fig.figure.suptitle('ROC Curve Comparison')\n",
    "plt.xlabel('False Positive Rate')\n",
    "plt.ylabel('True Positive Rate')"
   ]
  },
  {
   "cell_type": "code",
   "execution_count": null,
   "metadata": {
    "ExecuteTime": {
     "end_time": "2021-02-10T03:26:19.925943Z",
     "start_time": "2021-02-10T03:12:27.965Z"
    }
   },
   "outputs": [],
   "source": [
    "# ROC AUC score\n",
    "# y_pred = GS_KNN.predict(X_test)\n",
    "\n",
    "# roc_auc_score(y_test, y_pred)"
   ]
  },
  {
   "cell_type": "code",
   "execution_count": null,
   "metadata": {
    "ExecuteTime": {
     "end_time": "2021-02-10T03:26:19.916986Z",
     "start_time": "2021-02-10T03:12:27.944Z"
    }
   },
   "outputs": [],
   "source": [
    "#feature importance\n",
    "\n"
   ]
  },
  {
   "cell_type": "code",
   "execution_count": null,
   "metadata": {
    "ExecuteTime": {
     "end_time": "2021-02-10T03:26:19.918288Z",
     "start_time": "2021-02-10T03:12:27.948Z"
    }
   },
   "outputs": [],
   "source": [
    "# true_positive = conf_mat[0][0]\n",
    "# false_positive = conf_mat[0][1]\n",
    "# false_negative = conf_mat[1][0]\n",
    "# true_negative = conf_mat[1][1]"
   ]
  },
  {
   "cell_type": "code",
   "execution_count": null,
   "metadata": {
    "ExecuteTime": {
     "end_time": "2021-02-10T03:26:19.919369Z",
     "start_time": "2021-02-10T03:12:27.951Z"
    }
   },
   "outputs": [],
   "source": [
    "# len (df_eda[df_eda['gender'] == 0] & df_eda[df_eda['disease'] == 1])\n",
    "# df_male = df.loc[(df['gender'] == 0) & (df['disease'] == 1)]\n",
    "# # Separate areas into quadrants by latitude and longitude\n",
    "# df.loc[(df['lat'] >= 47.5) & (df['long'] >= -122.2), 'quadrant' ] = 'NW'\n",
    "# df.loc[(df['lat'] > 47.5) & (df['long'] < -122.2), 'quadrant' ] = 'NE'\n",
    "# df.loc[(df['lat'] <= 47.5) & (df['long'] <= -122.2), 'quadrant' ] = 'SW'\n",
    "# df.loc[(df['lat'] < 47.5) & (df['long'] > -122.2), 'quadrant' ] = 'SE'\n",
    "\n",
    "# # A house shouldn't have 0 bathrooms. Let's change the zeros to ones.\n",
    "# df1['bathrooms'] = df1['bathrooms'].map(lambda x: 1 if x == 0 else x)\n",
    "\n",
    "# df['age_range'] = df['age'].apply(lambda x: 'young' if (x >=30 and x <= 40) \\\n",
    "#                                   else ('middle_age' if (x>40 and x<=45) else 'Elderly'))"
   ]
  },
  {
   "cell_type": "code",
   "execution_count": null,
   "metadata": {
    "ExecuteTime": {
     "end_time": "2021-02-10T03:26:19.920410Z",
     "start_time": "2021-02-10T03:12:27.954Z"
    }
   },
   "outputs": [],
   "source": [
    "\n",
    "# waffle chart\n",
    "# data = {'Male': 49.98, 'Female': 49.28}\n",
    "\n",
    "# fig = plt.figure( \n",
    "#     FigureClass = Waffle, \n",
    "#     rows = 10, \n",
    "#     values = data, \n",
    "#     labels = ['{0} ({1}%)'.format(k, v) for k, v in data.items()],\n",
    "#     legend={'loc': 'lower left', 'bbox_to_anchor': (0, -0.4), 'ncol': len(data), 'framealpha': 0}\n",
    "    \n",
    "# ) "
   ]
  },
  {
   "cell_type": "code",
   "execution_count": null,
   "metadata": {
    "ExecuteTime": {
     "end_time": "2021-02-10T03:26:19.923168Z",
     "start_time": "2021-02-10T03:12:27.959Z"
    }
   },
   "outputs": [],
   "source": [
    "# plt.figure(figsize= (6,6))\n",
    "# fig1 = df_eda.groupby('gender')['disease'].mean().plot(kind= 'barh')\n",
    "# plt.xlim(0, 1)\n",
    "# plt.title('Proportion of Those With and Without Cardiovascular Disease')\n",
    "# plt.ylabel('Gender')\n",
    "# plt.xlabel('Proportion')"
   ]
  },
  {
   "cell_type": "code",
   "execution_count": null,
   "metadata": {
    "ExecuteTime": {
     "end_time": "2021-02-10T03:26:19.924574Z",
     "start_time": "2021-02-10T03:12:27.962Z"
    }
   },
   "outputs": [],
   "source": [
    "# legend_labels = ['male', 'female']\n",
    "\n",
    "# plt.figure(figsize= (8,8))\n",
    "# sns.catplot(x='gender', y='disease', kind='bar', data=df, palette= 'cubehelix')\n",
    "# plt.ylim(0, 1)\n",
    "# plt.title('Proportion of Disease per Gender')\n",
    "# plt.xlabel('Gender')\n",
    "# plt.ylabel('Proportion')\n",
    "# plt.legend(legend_labels)"
   ]
  },
  {
   "cell_type": "code",
   "execution_count": null,
   "metadata": {
    "ExecuteTime": {
     "end_time": "2021-02-10T03:26:19.925943Z",
     "start_time": "2021-02-10T03:12:27.965Z"
    }
   },
   "outputs": [],
   "source": [
    "# feature_importances = pipeline_cv.best_estimator_[\"model\"].feature_importances_\n",
    "# feature_importances = pd.DataFrame(\n",
    "#     {\"feature\": X_train.columns, \"importance\": feature_importances}\n",
    "# ).sort_values(\"importance\", ascending=False)\n",
    "# feature_importances"
   ]
  }
 ],
 "metadata": {
  "kernelspec": {
   "display_name": "Python 3",
   "language": "python",
   "name": "python3"
  },
  "language_info": {
   "codemirror_mode": {
    "name": "ipython",
    "version": 3
   },
   "file_extension": ".py",
   "mimetype": "text/x-python",
   "name": "python",
   "nbconvert_exporter": "python",
   "pygments_lexer": "ipython3",
   "version": "3.8.5"
  },
  "toc": {
   "base_numbering": 1,
   "nav_menu": {},
   "number_sections": true,
   "sideBar": true,
   "skip_h1_title": true,
   "title_cell": "Table of Contents",
   "title_sidebar": "Contents",
   "toc_cell": false,
   "toc_position": {
    "height": "calc(100% - 180px)",
    "left": "10px",
    "top": "150px",
    "width": "247.188px"
   },
   "toc_section_display": true,
   "toc_window_display": true
  },
  "varInspector": {
   "cols": {
    "lenName": 16,
    "lenType": 16,
    "lenVar": 40
   },
   "kernels_config": {
    "python": {
     "delete_cmd_postfix": "",
     "delete_cmd_prefix": "del ",
     "library": "var_list.py",
     "varRefreshCmd": "print(var_dic_list())"
    },
    "r": {
     "delete_cmd_postfix": ") ",
     "delete_cmd_prefix": "rm(",
     "library": "var_list.r",
     "varRefreshCmd": "cat(var_dic_list()) "
    }
   },
   "types_to_exclude": [
    "module",
    "function",
    "builtin_function_or_method",
    "instance",
    "_Feature"
   ],
   "window_display": false
  }
 },
 "nbformat": 4,
 "nbformat_minor": 4
}
