{
 "cells": [
  {
   "cell_type": "markdown",
   "metadata": {},
   "source": [
    "# Predicting Cardiovascular Disease\n",
    "---\n",
    "\n",
    "By: Cassie Nutter"
   ]
  },
  {
   "cell_type": "markdown",
   "metadata": {},
   "source": [
    "The purpose of this notebook is to find the model that best predicts if a patient has cardiovascular disease.\n",
    "\n",
    "This notebook follows the data science process OSEMN (Obtain, Scrub, Explore, Model, iNterpret)"
   ]
  },
  {
   "cell_type": "markdown",
   "metadata": {},
   "source": [
    "### Import libraries that will be used:"
   ]
  },
  {
   "cell_type": "code",
   "execution_count": 1,
   "metadata": {
    "ExecuteTime": {
     "end_time": "2021-02-11T23:53:29.215233Z",
     "start_time": "2021-02-11T23:53:28.192182Z"
    }
   },
   "outputs": [],
   "source": [
    "import pandas as pd\n",
    "import numpy as np\n",
    "import matplotlib.pyplot as plt\n",
    "%matplotlib inline\n",
    "import seaborn as sns\n",
    "sns.set_style('whitegrid')\n",
    "from pywaffle import Waffle\n",
    "import plotly.express as px\n",
    "\n",
    "import warnings\n",
    "warnings.filterwarnings('ignore')\n",
    "\n",
    "from sklearn.model_selection import train_test_split, GridSearchCV, \\\n",
    "RandomizedSearchCV, cross_val_predict\n",
    "from sklearn.preprocessing import MinMaxScaler, StandardScaler, OneHotEncoder\n",
    "\n",
    "from sklearn.linear_model import LogisticRegression\n",
    "from sklearn.ensemble import RandomForestClassifier\n",
    "from sklearn.svm import SVC\n",
    "from sklearn.neighbors import KNeighborsClassifier\n",
    "from sklearn.tree import DecisionTreeClassifier\n",
    "from sklearn import tree\n",
    "from xgboost import XGBClassifier\n",
    "from sklearn.metrics import f1_score, accuracy_score, classification_report,\\\n",
    "confusion_matrix, roc_auc_score, plot_confusion_matrix, plot_roc_curve"
   ]
  },
  {
   "cell_type": "markdown",
   "metadata": {},
   "source": [
    "## Obtain data\n",
    "---\n",
    "The data was obtained from [Kaggle](https://www.kaggle.com/sulianova/cardiovascular-disease-dataset)."
   ]
  },
  {
   "cell_type": "code",
   "execution_count": 2,
   "metadata": {
    "ExecuteTime": {
     "end_time": "2021-02-11T23:53:29.273909Z",
     "start_time": "2021-02-11T23:53:29.217284Z"
    }
   },
   "outputs": [],
   "source": [
    "df = pd.read_csv('data/cardio_train.csv', sep= ';')"
   ]
  },
  {
   "cell_type": "code",
   "execution_count": 3,
   "metadata": {
    "ExecuteTime": {
     "end_time": "2021-02-11T23:53:29.288907Z",
     "start_time": "2021-02-11T23:53:29.278199Z"
    }
   },
   "outputs": [
    {
     "data": {
      "text/html": [
       "<div>\n",
       "<style scoped>\n",
       "    .dataframe tbody tr th:only-of-type {\n",
       "        vertical-align: middle;\n",
       "    }\n",
       "\n",
       "    .dataframe tbody tr th {\n",
       "        vertical-align: top;\n",
       "    }\n",
       "\n",
       "    .dataframe thead th {\n",
       "        text-align: right;\n",
       "    }\n",
       "</style>\n",
       "<table border=\"1\" class=\"dataframe\">\n",
       "  <thead>\n",
       "    <tr style=\"text-align: right;\">\n",
       "      <th></th>\n",
       "      <th>id</th>\n",
       "      <th>age</th>\n",
       "      <th>gender</th>\n",
       "      <th>height</th>\n",
       "      <th>weight</th>\n",
       "      <th>ap_hi</th>\n",
       "      <th>ap_lo</th>\n",
       "      <th>cholesterol</th>\n",
       "      <th>gluc</th>\n",
       "      <th>smoke</th>\n",
       "      <th>alco</th>\n",
       "      <th>active</th>\n",
       "      <th>cardio</th>\n",
       "    </tr>\n",
       "  </thead>\n",
       "  <tbody>\n",
       "    <tr>\n",
       "      <th>0</th>\n",
       "      <td>0</td>\n",
       "      <td>18393</td>\n",
       "      <td>2</td>\n",
       "      <td>168</td>\n",
       "      <td>62.0</td>\n",
       "      <td>110</td>\n",
       "      <td>80</td>\n",
       "      <td>1</td>\n",
       "      <td>1</td>\n",
       "      <td>0</td>\n",
       "      <td>0</td>\n",
       "      <td>1</td>\n",
       "      <td>0</td>\n",
       "    </tr>\n",
       "    <tr>\n",
       "      <th>1</th>\n",
       "      <td>1</td>\n",
       "      <td>20228</td>\n",
       "      <td>1</td>\n",
       "      <td>156</td>\n",
       "      <td>85.0</td>\n",
       "      <td>140</td>\n",
       "      <td>90</td>\n",
       "      <td>3</td>\n",
       "      <td>1</td>\n",
       "      <td>0</td>\n",
       "      <td>0</td>\n",
       "      <td>1</td>\n",
       "      <td>1</td>\n",
       "    </tr>\n",
       "    <tr>\n",
       "      <th>2</th>\n",
       "      <td>2</td>\n",
       "      <td>18857</td>\n",
       "      <td>1</td>\n",
       "      <td>165</td>\n",
       "      <td>64.0</td>\n",
       "      <td>130</td>\n",
       "      <td>70</td>\n",
       "      <td>3</td>\n",
       "      <td>1</td>\n",
       "      <td>0</td>\n",
       "      <td>0</td>\n",
       "      <td>0</td>\n",
       "      <td>1</td>\n",
       "    </tr>\n",
       "    <tr>\n",
       "      <th>3</th>\n",
       "      <td>3</td>\n",
       "      <td>17623</td>\n",
       "      <td>2</td>\n",
       "      <td>169</td>\n",
       "      <td>82.0</td>\n",
       "      <td>150</td>\n",
       "      <td>100</td>\n",
       "      <td>1</td>\n",
       "      <td>1</td>\n",
       "      <td>0</td>\n",
       "      <td>0</td>\n",
       "      <td>1</td>\n",
       "      <td>1</td>\n",
       "    </tr>\n",
       "    <tr>\n",
       "      <th>4</th>\n",
       "      <td>4</td>\n",
       "      <td>17474</td>\n",
       "      <td>1</td>\n",
       "      <td>156</td>\n",
       "      <td>56.0</td>\n",
       "      <td>100</td>\n",
       "      <td>60</td>\n",
       "      <td>1</td>\n",
       "      <td>1</td>\n",
       "      <td>0</td>\n",
       "      <td>0</td>\n",
       "      <td>0</td>\n",
       "      <td>0</td>\n",
       "    </tr>\n",
       "  </tbody>\n",
       "</table>\n",
       "</div>"
      ],
      "text/plain": [
       "   id    age  gender  height  weight  ap_hi  ap_lo  cholesterol  gluc  smoke  \\\n",
       "0   0  18393       2     168    62.0    110     80            1     1      0   \n",
       "1   1  20228       1     156    85.0    140     90            3     1      0   \n",
       "2   2  18857       1     165    64.0    130     70            3     1      0   \n",
       "3   3  17623       2     169    82.0    150    100            1     1      0   \n",
       "4   4  17474       1     156    56.0    100     60            1     1      0   \n",
       "\n",
       "   alco  active  cardio  \n",
       "0     0       1       0  \n",
       "1     0       1       1  \n",
       "2     0       0       1  \n",
       "3     0       1       1  \n",
       "4     0       0       0  "
      ]
     },
     "execution_count": 3,
     "metadata": {},
     "output_type": "execute_result"
    }
   ],
   "source": [
    "df.head()"
   ]
  },
  {
   "cell_type": "code",
   "execution_count": 4,
   "metadata": {
    "ExecuteTime": {
     "end_time": "2021-02-11T23:53:29.299920Z",
     "start_time": "2021-02-11T23:53:29.290542Z"
    }
   },
   "outputs": [
    {
     "name": "stdout",
     "output_type": "stream",
     "text": [
      "<class 'pandas.core.frame.DataFrame'>\n",
      "RangeIndex: 70000 entries, 0 to 69999\n",
      "Data columns (total 13 columns):\n",
      " #   Column       Non-Null Count  Dtype  \n",
      "---  ------       --------------  -----  \n",
      " 0   id           70000 non-null  int64  \n",
      " 1   age          70000 non-null  int64  \n",
      " 2   gender       70000 non-null  int64  \n",
      " 3   height       70000 non-null  int64  \n",
      " 4   weight       70000 non-null  float64\n",
      " 5   ap_hi        70000 non-null  int64  \n",
      " 6   ap_lo        70000 non-null  int64  \n",
      " 7   cholesterol  70000 non-null  int64  \n",
      " 8   gluc         70000 non-null  int64  \n",
      " 9   smoke        70000 non-null  int64  \n",
      " 10  alco         70000 non-null  int64  \n",
      " 11  active       70000 non-null  int64  \n",
      " 12  cardio       70000 non-null  int64  \n",
      "dtypes: float64(1), int64(12)\n",
      "memory usage: 6.9 MB\n"
     ]
    }
   ],
   "source": [
    "df.info()"
   ]
  },
  {
   "cell_type": "code",
   "execution_count": 5,
   "metadata": {
    "ExecuteTime": {
     "end_time": "2021-02-11T23:53:29.352162Z",
     "start_time": "2021-02-11T23:53:29.302782Z"
    }
   },
   "outputs": [
    {
     "data": {
      "text/html": [
       "<div>\n",
       "<style scoped>\n",
       "    .dataframe tbody tr th:only-of-type {\n",
       "        vertical-align: middle;\n",
       "    }\n",
       "\n",
       "    .dataframe tbody tr th {\n",
       "        vertical-align: top;\n",
       "    }\n",
       "\n",
       "    .dataframe thead th {\n",
       "        text-align: right;\n",
       "    }\n",
       "</style>\n",
       "<table border=\"1\" class=\"dataframe\">\n",
       "  <thead>\n",
       "    <tr style=\"text-align: right;\">\n",
       "      <th></th>\n",
       "      <th>count</th>\n",
       "      <th>mean</th>\n",
       "      <th>std</th>\n",
       "      <th>min</th>\n",
       "      <th>25%</th>\n",
       "      <th>50%</th>\n",
       "      <th>75%</th>\n",
       "      <th>max</th>\n",
       "    </tr>\n",
       "  </thead>\n",
       "  <tbody>\n",
       "    <tr>\n",
       "      <th>id</th>\n",
       "      <td>70000.0</td>\n",
       "      <td>49972.419900</td>\n",
       "      <td>28851.302323</td>\n",
       "      <td>0.0</td>\n",
       "      <td>25006.75</td>\n",
       "      <td>50001.5</td>\n",
       "      <td>74889.25</td>\n",
       "      <td>99999.0</td>\n",
       "    </tr>\n",
       "    <tr>\n",
       "      <th>age</th>\n",
       "      <td>70000.0</td>\n",
       "      <td>19468.865814</td>\n",
       "      <td>2467.251667</td>\n",
       "      <td>10798.0</td>\n",
       "      <td>17664.00</td>\n",
       "      <td>19703.0</td>\n",
       "      <td>21327.00</td>\n",
       "      <td>23713.0</td>\n",
       "    </tr>\n",
       "    <tr>\n",
       "      <th>gender</th>\n",
       "      <td>70000.0</td>\n",
       "      <td>1.349571</td>\n",
       "      <td>0.476838</td>\n",
       "      <td>1.0</td>\n",
       "      <td>1.00</td>\n",
       "      <td>1.0</td>\n",
       "      <td>2.00</td>\n",
       "      <td>2.0</td>\n",
       "    </tr>\n",
       "    <tr>\n",
       "      <th>height</th>\n",
       "      <td>70000.0</td>\n",
       "      <td>164.359229</td>\n",
       "      <td>8.210126</td>\n",
       "      <td>55.0</td>\n",
       "      <td>159.00</td>\n",
       "      <td>165.0</td>\n",
       "      <td>170.00</td>\n",
       "      <td>250.0</td>\n",
       "    </tr>\n",
       "    <tr>\n",
       "      <th>weight</th>\n",
       "      <td>70000.0</td>\n",
       "      <td>74.205690</td>\n",
       "      <td>14.395757</td>\n",
       "      <td>10.0</td>\n",
       "      <td>65.00</td>\n",
       "      <td>72.0</td>\n",
       "      <td>82.00</td>\n",
       "      <td>200.0</td>\n",
       "    </tr>\n",
       "    <tr>\n",
       "      <th>ap_hi</th>\n",
       "      <td>70000.0</td>\n",
       "      <td>128.817286</td>\n",
       "      <td>154.011419</td>\n",
       "      <td>-150.0</td>\n",
       "      <td>120.00</td>\n",
       "      <td>120.0</td>\n",
       "      <td>140.00</td>\n",
       "      <td>16020.0</td>\n",
       "    </tr>\n",
       "    <tr>\n",
       "      <th>ap_lo</th>\n",
       "      <td>70000.0</td>\n",
       "      <td>96.630414</td>\n",
       "      <td>188.472530</td>\n",
       "      <td>-70.0</td>\n",
       "      <td>80.00</td>\n",
       "      <td>80.0</td>\n",
       "      <td>90.00</td>\n",
       "      <td>11000.0</td>\n",
       "    </tr>\n",
       "    <tr>\n",
       "      <th>cholesterol</th>\n",
       "      <td>70000.0</td>\n",
       "      <td>1.366871</td>\n",
       "      <td>0.680250</td>\n",
       "      <td>1.0</td>\n",
       "      <td>1.00</td>\n",
       "      <td>1.0</td>\n",
       "      <td>2.00</td>\n",
       "      <td>3.0</td>\n",
       "    </tr>\n",
       "    <tr>\n",
       "      <th>gluc</th>\n",
       "      <td>70000.0</td>\n",
       "      <td>1.226457</td>\n",
       "      <td>0.572270</td>\n",
       "      <td>1.0</td>\n",
       "      <td>1.00</td>\n",
       "      <td>1.0</td>\n",
       "      <td>1.00</td>\n",
       "      <td>3.0</td>\n",
       "    </tr>\n",
       "    <tr>\n",
       "      <th>smoke</th>\n",
       "      <td>70000.0</td>\n",
       "      <td>0.088129</td>\n",
       "      <td>0.283484</td>\n",
       "      <td>0.0</td>\n",
       "      <td>0.00</td>\n",
       "      <td>0.0</td>\n",
       "      <td>0.00</td>\n",
       "      <td>1.0</td>\n",
       "    </tr>\n",
       "    <tr>\n",
       "      <th>alco</th>\n",
       "      <td>70000.0</td>\n",
       "      <td>0.053771</td>\n",
       "      <td>0.225568</td>\n",
       "      <td>0.0</td>\n",
       "      <td>0.00</td>\n",
       "      <td>0.0</td>\n",
       "      <td>0.00</td>\n",
       "      <td>1.0</td>\n",
       "    </tr>\n",
       "    <tr>\n",
       "      <th>active</th>\n",
       "      <td>70000.0</td>\n",
       "      <td>0.803729</td>\n",
       "      <td>0.397179</td>\n",
       "      <td>0.0</td>\n",
       "      <td>1.00</td>\n",
       "      <td>1.0</td>\n",
       "      <td>1.00</td>\n",
       "      <td>1.0</td>\n",
       "    </tr>\n",
       "    <tr>\n",
       "      <th>cardio</th>\n",
       "      <td>70000.0</td>\n",
       "      <td>0.499700</td>\n",
       "      <td>0.500003</td>\n",
       "      <td>0.0</td>\n",
       "      <td>0.00</td>\n",
       "      <td>0.0</td>\n",
       "      <td>1.00</td>\n",
       "      <td>1.0</td>\n",
       "    </tr>\n",
       "  </tbody>\n",
       "</table>\n",
       "</div>"
      ],
      "text/plain": [
       "               count          mean           std      min       25%      50%  \\\n",
       "id           70000.0  49972.419900  28851.302323      0.0  25006.75  50001.5   \n",
       "age          70000.0  19468.865814   2467.251667  10798.0  17664.00  19703.0   \n",
       "gender       70000.0      1.349571      0.476838      1.0      1.00      1.0   \n",
       "height       70000.0    164.359229      8.210126     55.0    159.00    165.0   \n",
       "weight       70000.0     74.205690     14.395757     10.0     65.00     72.0   \n",
       "ap_hi        70000.0    128.817286    154.011419   -150.0    120.00    120.0   \n",
       "ap_lo        70000.0     96.630414    188.472530    -70.0     80.00     80.0   \n",
       "cholesterol  70000.0      1.366871      0.680250      1.0      1.00      1.0   \n",
       "gluc         70000.0      1.226457      0.572270      1.0      1.00      1.0   \n",
       "smoke        70000.0      0.088129      0.283484      0.0      0.00      0.0   \n",
       "alco         70000.0      0.053771      0.225568      0.0      0.00      0.0   \n",
       "active       70000.0      0.803729      0.397179      0.0      1.00      1.0   \n",
       "cardio       70000.0      0.499700      0.500003      0.0      0.00      0.0   \n",
       "\n",
       "                  75%      max  \n",
       "id           74889.25  99999.0  \n",
       "age          21327.00  23713.0  \n",
       "gender           2.00      2.0  \n",
       "height         170.00    250.0  \n",
       "weight          82.00    200.0  \n",
       "ap_hi          140.00  16020.0  \n",
       "ap_lo           90.00  11000.0  \n",
       "cholesterol      2.00      3.0  \n",
       "gluc             1.00      3.0  \n",
       "smoke            0.00      1.0  \n",
       "alco             0.00      1.0  \n",
       "active           1.00      1.0  \n",
       "cardio           1.00      1.0  "
      ]
     },
     "execution_count": 5,
     "metadata": {},
     "output_type": "execute_result"
    }
   ],
   "source": [
    "df.describe().T"
   ]
  },
  {
   "cell_type": "code",
   "execution_count": 6,
   "metadata": {
    "ExecuteTime": {
     "end_time": "2021-02-11T23:53:29.360246Z",
     "start_time": "2021-02-11T23:53:29.354854Z"
    }
   },
   "outputs": [
    {
     "data": {
      "text/plain": [
       "0    0.5003\n",
       "1    0.4997\n",
       "Name: cardio, dtype: float64"
      ]
     },
     "execution_count": 6,
     "metadata": {},
     "output_type": "execute_result"
    }
   ],
   "source": [
    "df.cardio.value_counts(normalize= True)"
   ]
  },
  {
   "cell_type": "markdown",
   "metadata": {},
   "source": [
    "### Data contents:\n",
    "\n",
    "* 70,000 data points\n",
    "* Almost equal counts of patients with and without cardiovascular disease\n",
    "* Six continuous features, six categorical features"
   ]
  },
  {
   "cell_type": "markdown",
   "metadata": {},
   "source": [
    "### Data feature descriptions:\n",
    "1. Age | Objective Feature | age | int (days)\n",
    "2. Height | Objective Feature | height | int (cm) |\n",
    "3. Weight | Objective Feature | weight | float (kg) |\n",
    "4. Gender | Objective Feature | gender | categorical code |\n",
    "5. Systolic blood pressure | Examination Feature | ap_hi | int |\n",
    "6. Diastolic blood pressure | Examination Feature | ap_lo | int |\n",
    "7. Cholesterol | Examination Feature | cholesterol | 1: normal, 2: above normal, 3: well above normal |\n",
    "8. Glucose | Examination Feature | gluc | 1: normal, 2: above normal, 3: well above normal |\n",
    "9. Smoking | Subjective Feature | smoke | binary |\n",
    "10. Alcohol intake | Subjective Feature | alco | binary |\n",
    "11. Physical activity | Subjective Feature | active | binary |\n",
    "12. Presence or absence of cardiovascular disease | Target Variable | cardio | binary |"
   ]
  },
  {
   "cell_type": "markdown",
   "metadata": {},
   "source": [
    "## Scrub\n",
    "Data cleaning"
   ]
  },
  {
   "cell_type": "code",
   "execution_count": 7,
   "metadata": {
    "ExecuteTime": {
     "end_time": "2021-02-11T23:53:29.367218Z",
     "start_time": "2021-02-11T23:53:29.361439Z"
    }
   },
   "outputs": [
    {
     "data": {
      "text/plain": [
       "id             0\n",
       "age            0\n",
       "gender         0\n",
       "height         0\n",
       "weight         0\n",
       "ap_hi          0\n",
       "ap_lo          0\n",
       "cholesterol    0\n",
       "gluc           0\n",
       "smoke          0\n",
       "alco           0\n",
       "active         0\n",
       "cardio         0\n",
       "dtype: int64"
      ]
     },
     "execution_count": 7,
     "metadata": {},
     "output_type": "execute_result"
    }
   ],
   "source": [
    "# Check for missing values\n",
    "df.isna().sum()"
   ]
  },
  {
   "cell_type": "code",
   "execution_count": 8,
   "metadata": {
    "ExecuteTime": {
     "end_time": "2021-02-11T23:53:29.387517Z",
     "start_time": "2021-02-11T23:53:29.369133Z"
    }
   },
   "outputs": [
    {
     "data": {
      "text/plain": [
       "0"
      ]
     },
     "execution_count": 8,
     "metadata": {},
     "output_type": "execute_result"
    }
   ],
   "source": [
    "# check for duplicate values\n",
    "df.duplicated().sum()"
   ]
  },
  {
   "cell_type": "code",
   "execution_count": 9,
   "metadata": {
    "ExecuteTime": {
     "end_time": "2021-02-11T23:53:29.401615Z",
     "start_time": "2021-02-11T23:53:29.389517Z"
    }
   },
   "outputs": [],
   "source": [
    "# drop id column\n",
    "df.drop('id', axis= 1, inplace= True)\n",
    "\n",
    "# change gender from 1 or 2 to 0 or 1\n",
    "df['gender'].replace(2, 0, inplace= True)\n",
    "\n",
    "# change age from days to years\n",
    "df['age'] = round(df['age'] / 365, 1)"
   ]
  },
  {
   "cell_type": "code",
   "execution_count": 10,
   "metadata": {
    "ExecuteTime": {
     "end_time": "2021-02-11T23:53:29.408310Z",
     "start_time": "2021-02-11T23:53:29.403060Z"
    }
   },
   "outputs": [
    {
     "name": "stdout",
     "output_type": "stream",
     "text": [
      "29.6\n"
     ]
    },
    {
     "data": {
      "text/plain": [
       "65.0"
      ]
     },
     "execution_count": 10,
     "metadata": {},
     "output_type": "execute_result"
    }
   ],
   "source": [
    "print(df.age.min())\n",
    "df.age.max()"
   ]
  },
  {
   "cell_type": "markdown",
   "metadata": {},
   "source": [
    "Our data contains adults from ages 29 - 65 years old.\n",
    "\n",
    "Some of the heights seemed suspicious so we will check them out."
   ]
  },
  {
   "cell_type": "code",
   "execution_count": 11,
   "metadata": {
    "ExecuteTime": {
     "end_time": "2021-02-11T23:53:29.424240Z",
     "start_time": "2021-02-11T23:53:29.409482Z"
    },
    "scrolled": false
   },
   "outputs": [
    {
     "data": {
      "text/html": [
       "<div>\n",
       "<style scoped>\n",
       "    .dataframe tbody tr th:only-of-type {\n",
       "        vertical-align: middle;\n",
       "    }\n",
       "\n",
       "    .dataframe tbody tr th {\n",
       "        vertical-align: top;\n",
       "    }\n",
       "\n",
       "    .dataframe thead th {\n",
       "        text-align: right;\n",
       "    }\n",
       "</style>\n",
       "<table border=\"1\" class=\"dataframe\">\n",
       "  <thead>\n",
       "    <tr style=\"text-align: right;\">\n",
       "      <th></th>\n",
       "      <th>age</th>\n",
       "      <th>gender</th>\n",
       "      <th>height</th>\n",
       "      <th>weight</th>\n",
       "      <th>ap_hi</th>\n",
       "      <th>ap_lo</th>\n",
       "      <th>cholesterol</th>\n",
       "      <th>gluc</th>\n",
       "      <th>smoke</th>\n",
       "      <th>alco</th>\n",
       "      <th>active</th>\n",
       "      <th>cardio</th>\n",
       "    </tr>\n",
       "  </thead>\n",
       "  <tbody>\n",
       "    <tr>\n",
       "      <th>224</th>\n",
       "      <td>59.7</td>\n",
       "      <td>0</td>\n",
       "      <td>76</td>\n",
       "      <td>55.0</td>\n",
       "      <td>120</td>\n",
       "      <td>80</td>\n",
       "      <td>1</td>\n",
       "      <td>1</td>\n",
       "      <td>0</td>\n",
       "      <td>0</td>\n",
       "      <td>1</td>\n",
       "      <td>0</td>\n",
       "    </tr>\n",
       "    <tr>\n",
       "      <th>3420</th>\n",
       "      <td>39.8</td>\n",
       "      <td>1</td>\n",
       "      <td>100</td>\n",
       "      <td>70.0</td>\n",
       "      <td>100</td>\n",
       "      <td>70</td>\n",
       "      <td>1</td>\n",
       "      <td>1</td>\n",
       "      <td>0</td>\n",
       "      <td>0</td>\n",
       "      <td>1</td>\n",
       "      <td>0</td>\n",
       "    </tr>\n",
       "    <tr>\n",
       "      <th>3735</th>\n",
       "      <td>48.3</td>\n",
       "      <td>1</td>\n",
       "      <td>120</td>\n",
       "      <td>70.0</td>\n",
       "      <td>120</td>\n",
       "      <td>70</td>\n",
       "      <td>1</td>\n",
       "      <td>1</td>\n",
       "      <td>0</td>\n",
       "      <td>0</td>\n",
       "      <td>1</td>\n",
       "      <td>0</td>\n",
       "    </tr>\n",
       "    <tr>\n",
       "      <th>3752</th>\n",
       "      <td>42.2</td>\n",
       "      <td>1</td>\n",
       "      <td>120</td>\n",
       "      <td>30.0</td>\n",
       "      <td>110</td>\n",
       "      <td>70</td>\n",
       "      <td>1</td>\n",
       "      <td>1</td>\n",
       "      <td>0</td>\n",
       "      <td>0</td>\n",
       "      <td>1</td>\n",
       "      <td>0</td>\n",
       "    </tr>\n",
       "    <tr>\n",
       "      <th>4212</th>\n",
       "      <td>44.1</td>\n",
       "      <td>1</td>\n",
       "      <td>120</td>\n",
       "      <td>80.0</td>\n",
       "      <td>120</td>\n",
       "      <td>80</td>\n",
       "      <td>1</td>\n",
       "      <td>1</td>\n",
       "      <td>0</td>\n",
       "      <td>0</td>\n",
       "      <td>1</td>\n",
       "      <td>0</td>\n",
       "    </tr>\n",
       "    <tr>\n",
       "      <th>...</th>\n",
       "      <td>...</td>\n",
       "      <td>...</td>\n",
       "      <td>...</td>\n",
       "      <td>...</td>\n",
       "      <td>...</td>\n",
       "      <td>...</td>\n",
       "      <td>...</td>\n",
       "      <td>...</td>\n",
       "      <td>...</td>\n",
       "      <td>...</td>\n",
       "      <td>...</td>\n",
       "      <td>...</td>\n",
       "    </tr>\n",
       "    <tr>\n",
       "      <th>65302</th>\n",
       "      <td>50.6</td>\n",
       "      <td>1</td>\n",
       "      <td>99</td>\n",
       "      <td>60.0</td>\n",
       "      <td>90</td>\n",
       "      <td>60</td>\n",
       "      <td>1</td>\n",
       "      <td>1</td>\n",
       "      <td>0</td>\n",
       "      <td>0</td>\n",
       "      <td>1</td>\n",
       "      <td>0</td>\n",
       "    </tr>\n",
       "    <tr>\n",
       "      <th>66023</th>\n",
       "      <td>40.0</td>\n",
       "      <td>1</td>\n",
       "      <td>120</td>\n",
       "      <td>80.0</td>\n",
       "      <td>120</td>\n",
       "      <td>70</td>\n",
       "      <td>2</td>\n",
       "      <td>1</td>\n",
       "      <td>0</td>\n",
       "      <td>0</td>\n",
       "      <td>1</td>\n",
       "      <td>0</td>\n",
       "    </tr>\n",
       "    <tr>\n",
       "      <th>66479</th>\n",
       "      <td>46.4</td>\n",
       "      <td>0</td>\n",
       "      <td>110</td>\n",
       "      <td>90.0</td>\n",
       "      <td>110</td>\n",
       "      <td>90</td>\n",
       "      <td>1</td>\n",
       "      <td>1</td>\n",
       "      <td>0</td>\n",
       "      <td>0</td>\n",
       "      <td>1</td>\n",
       "      <td>0</td>\n",
       "    </tr>\n",
       "    <tr>\n",
       "      <th>66643</th>\n",
       "      <td>51.6</td>\n",
       "      <td>1</td>\n",
       "      <td>57</td>\n",
       "      <td>61.0</td>\n",
       "      <td>130</td>\n",
       "      <td>90</td>\n",
       "      <td>1</td>\n",
       "      <td>1</td>\n",
       "      <td>0</td>\n",
       "      <td>0</td>\n",
       "      <td>1</td>\n",
       "      <td>1</td>\n",
       "    </tr>\n",
       "    <tr>\n",
       "      <th>69052</th>\n",
       "      <td>55.9</td>\n",
       "      <td>0</td>\n",
       "      <td>120</td>\n",
       "      <td>80.0</td>\n",
       "      <td>140</td>\n",
       "      <td>90</td>\n",
       "      <td>1</td>\n",
       "      <td>2</td>\n",
       "      <td>0</td>\n",
       "      <td>0</td>\n",
       "      <td>1</td>\n",
       "      <td>1</td>\n",
       "    </tr>\n",
       "  </tbody>\n",
       "</table>\n",
       "<p>87 rows × 12 columns</p>\n",
       "</div>"
      ],
      "text/plain": [
       "        age  gender  height  weight  ap_hi  ap_lo  cholesterol  gluc  smoke  \\\n",
       "224    59.7       0      76    55.0    120     80            1     1      0   \n",
       "3420   39.8       1     100    70.0    100     70            1     1      0   \n",
       "3735   48.3       1     120    70.0    120     70            1     1      0   \n",
       "3752   42.2       1     120    30.0    110     70            1     1      0   \n",
       "4212   44.1       1     120    80.0    120     80            1     1      0   \n",
       "...     ...     ...     ...     ...    ...    ...          ...   ...    ...   \n",
       "65302  50.6       1      99    60.0     90     60            1     1      0   \n",
       "66023  40.0       1     120    80.0    120     70            2     1      0   \n",
       "66479  46.4       0     110    90.0    110     90            1     1      0   \n",
       "66643  51.6       1      57    61.0    130     90            1     1      0   \n",
       "69052  55.9       0     120    80.0    140     90            1     2      0   \n",
       "\n",
       "       alco  active  cardio  \n",
       "224       0       1       0  \n",
       "3420      0       1       0  \n",
       "3735      0       1       0  \n",
       "3752      0       1       0  \n",
       "4212      0       1       0  \n",
       "...     ...     ...     ...  \n",
       "65302     0       1       0  \n",
       "66023     0       1       0  \n",
       "66479     0       1       0  \n",
       "66643     0       1       1  \n",
       "69052     0       1       1  \n",
       "\n",
       "[87 rows x 12 columns]"
      ]
     },
     "execution_count": 11,
     "metadata": {},
     "output_type": "execute_result"
    }
   ],
   "source": [
    "# check heights \n",
    "df[df['height'] < 125]"
   ]
  },
  {
   "cell_type": "code",
   "execution_count": 12,
   "metadata": {
    "ExecuteTime": {
     "end_time": "2021-02-11T23:53:29.430817Z",
     "start_time": "2021-02-11T23:53:29.425660Z"
    }
   },
   "outputs": [],
   "source": [
    "# 125cm (4') seems short for the weights that are associated with them\n",
    "# so we'll drop them\n",
    "df = df[df['height'] >= 125]"
   ]
  },
  {
   "cell_type": "code",
   "execution_count": 13,
   "metadata": {
    "ExecuteTime": {
     "end_time": "2021-02-11T23:53:29.441710Z",
     "start_time": "2021-02-11T23:53:29.432089Z"
    },
    "scrolled": true
   },
   "outputs": [
    {
     "data": {
      "text/html": [
       "<div>\n",
       "<style scoped>\n",
       "    .dataframe tbody tr th:only-of-type {\n",
       "        vertical-align: middle;\n",
       "    }\n",
       "\n",
       "    .dataframe tbody tr th {\n",
       "        vertical-align: top;\n",
       "    }\n",
       "\n",
       "    .dataframe thead th {\n",
       "        text-align: right;\n",
       "    }\n",
       "</style>\n",
       "<table border=\"1\" class=\"dataframe\">\n",
       "  <thead>\n",
       "    <tr style=\"text-align: right;\">\n",
       "      <th></th>\n",
       "      <th>age</th>\n",
       "      <th>gender</th>\n",
       "      <th>height</th>\n",
       "      <th>weight</th>\n",
       "      <th>ap_hi</th>\n",
       "      <th>ap_lo</th>\n",
       "      <th>cholesterol</th>\n",
       "      <th>gluc</th>\n",
       "      <th>smoke</th>\n",
       "      <th>alco</th>\n",
       "      <th>active</th>\n",
       "      <th>cardio</th>\n",
       "    </tr>\n",
       "  </thead>\n",
       "  <tbody>\n",
       "    <tr>\n",
       "      <th>6486</th>\n",
       "      <td>58.1</td>\n",
       "      <td>1</td>\n",
       "      <td>250</td>\n",
       "      <td>86.0</td>\n",
       "      <td>140</td>\n",
       "      <td>100</td>\n",
       "      <td>3</td>\n",
       "      <td>1</td>\n",
       "      <td>0</td>\n",
       "      <td>0</td>\n",
       "      <td>1</td>\n",
       "      <td>1</td>\n",
       "    </tr>\n",
       "    <tr>\n",
       "      <th>21628</th>\n",
       "      <td>52.2</td>\n",
       "      <td>0</td>\n",
       "      <td>207</td>\n",
       "      <td>78.0</td>\n",
       "      <td>100</td>\n",
       "      <td>70</td>\n",
       "      <td>1</td>\n",
       "      <td>1</td>\n",
       "      <td>0</td>\n",
       "      <td>1</td>\n",
       "      <td>1</td>\n",
       "      <td>0</td>\n",
       "    </tr>\n",
       "  </tbody>\n",
       "</table>\n",
       "</div>"
      ],
      "text/plain": [
       "        age  gender  height  weight  ap_hi  ap_lo  cholesterol  gluc  smoke  \\\n",
       "6486   58.1       1     250    86.0    140    100            3     1      0   \n",
       "21628  52.2       0     207    78.0    100     70            1     1      0   \n",
       "\n",
       "       alco  active  cardio  \n",
       "6486      0       1       1  \n",
       "21628     1       1       0  "
      ]
     },
     "execution_count": 13,
     "metadata": {},
     "output_type": "execute_result"
    }
   ],
   "source": [
    "df[df['height'] > 200]"
   ]
  },
  {
   "cell_type": "code",
   "execution_count": 14,
   "metadata": {
    "ExecuteTime": {
     "end_time": "2021-02-11T23:53:29.449878Z",
     "start_time": "2021-02-11T23:53:29.443340Z"
    }
   },
   "outputs": [],
   "source": [
    "# a height of 250cm (8'2\") and a weight of 86kg (190lbs) seems suspicious\n",
    "df.drop(index=6486, inplace= True)"
   ]
  },
  {
   "cell_type": "markdown",
   "metadata": {
    "ExecuteTime": {
     "end_time": "2021-02-06T20:48:54.719965Z",
     "start_time": "2021-02-06T20:48:54.709955Z"
    }
   },
   "source": [
    "Now we will check out the odd numbers on ap_hi and ap_lo\n",
    "\n",
    "A quick note about ap_hi and ap_lo:\n",
    "Systolic and diastolic are the readings on blood pressure. "
   ]
  },
  {
   "cell_type": "code",
   "execution_count": 15,
   "metadata": {
    "ExecuteTime": {
     "end_time": "2021-02-11T23:53:29.455267Z",
     "start_time": "2021-02-11T23:53:29.451282Z"
    }
   },
   "outputs": [],
   "source": [
    "# find where ap_lo is higher than ap_hi\n",
    "df = df[df['ap_hi'] > df['ap_lo']]"
   ]
  },
  {
   "cell_type": "code",
   "execution_count": 16,
   "metadata": {
    "ExecuteTime": {
     "end_time": "2021-02-11T23:53:29.462125Z",
     "start_time": "2021-02-11T23:53:29.456518Z"
    }
   },
   "outputs": [],
   "source": [
    "# remove ap_hi and ap_lo with negative and extremely low numbers\n",
    "# anything with systolic < 80 and diastolic < 50 is considered abnormally low\n",
    "df = df[df['ap_hi'] > 80]\n",
    "df = df[df['ap_lo'] > 50]"
   ]
  },
  {
   "cell_type": "code",
   "execution_count": 17,
   "metadata": {
    "ExecuteTime": {
     "end_time": "2021-02-11T23:53:29.472068Z",
     "start_time": "2021-02-11T23:53:29.467402Z"
    }
   },
   "outputs": [],
   "source": [
    "# remove any ap_hi an ap_lo readings that are abnormally high\n",
    "df = df[df['ap_hi'] < 250]"
   ]
  },
  {
   "cell_type": "code",
   "execution_count": 18,
   "metadata": {
    "ExecuteTime": {
     "end_time": "2021-02-11T23:53:29.484964Z",
     "start_time": "2021-02-11T23:53:29.475826Z"
    }
   },
   "outputs": [
    {
     "data": {
      "text/html": [
       "<div>\n",
       "<style scoped>\n",
       "    .dataframe tbody tr th:only-of-type {\n",
       "        vertical-align: middle;\n",
       "    }\n",
       "\n",
       "    .dataframe tbody tr th {\n",
       "        vertical-align: top;\n",
       "    }\n",
       "\n",
       "    .dataframe thead th {\n",
       "        text-align: right;\n",
       "    }\n",
       "</style>\n",
       "<table border=\"1\" class=\"dataframe\">\n",
       "  <thead>\n",
       "    <tr style=\"text-align: right;\">\n",
       "      <th></th>\n",
       "      <th>age</th>\n",
       "      <th>gender</th>\n",
       "      <th>height</th>\n",
       "      <th>weight</th>\n",
       "      <th>ap_hi</th>\n",
       "      <th>ap_lo</th>\n",
       "      <th>cholesterol</th>\n",
       "      <th>gluc</th>\n",
       "      <th>smoke</th>\n",
       "      <th>alco</th>\n",
       "      <th>active</th>\n",
       "      <th>cardio</th>\n",
       "    </tr>\n",
       "  </thead>\n",
       "  <tbody>\n",
       "    <tr>\n",
       "      <th>4781</th>\n",
       "      <td>51.9</td>\n",
       "      <td>1</td>\n",
       "      <td>158</td>\n",
       "      <td>74.0</td>\n",
       "      <td>200</td>\n",
       "      <td>170</td>\n",
       "      <td>1</td>\n",
       "      <td>1</td>\n",
       "      <td>0</td>\n",
       "      <td>0</td>\n",
       "      <td>1</td>\n",
       "      <td>1</td>\n",
       "    </tr>\n",
       "    <tr>\n",
       "      <th>4981</th>\n",
       "      <td>62.3</td>\n",
       "      <td>0</td>\n",
       "      <td>173</td>\n",
       "      <td>74.0</td>\n",
       "      <td>220</td>\n",
       "      <td>160</td>\n",
       "      <td>2</td>\n",
       "      <td>2</td>\n",
       "      <td>0</td>\n",
       "      <td>0</td>\n",
       "      <td>1</td>\n",
       "      <td>1</td>\n",
       "    </tr>\n",
       "    <tr>\n",
       "      <th>38022</th>\n",
       "      <td>59.6</td>\n",
       "      <td>1</td>\n",
       "      <td>161</td>\n",
       "      <td>84.0</td>\n",
       "      <td>196</td>\n",
       "      <td>182</td>\n",
       "      <td>2</td>\n",
       "      <td>2</td>\n",
       "      <td>0</td>\n",
       "      <td>0</td>\n",
       "      <td>1</td>\n",
       "      <td>1</td>\n",
       "    </tr>\n",
       "    <tr>\n",
       "      <th>43998</th>\n",
       "      <td>62.1</td>\n",
       "      <td>0</td>\n",
       "      <td>163</td>\n",
       "      <td>70.0</td>\n",
       "      <td>200</td>\n",
       "      <td>180</td>\n",
       "      <td>1</td>\n",
       "      <td>1</td>\n",
       "      <td>0</td>\n",
       "      <td>0</td>\n",
       "      <td>0</td>\n",
       "      <td>1</td>\n",
       "    </tr>\n",
       "    <tr>\n",
       "      <th>54987</th>\n",
       "      <td>53.4</td>\n",
       "      <td>1</td>\n",
       "      <td>169</td>\n",
       "      <td>80.0</td>\n",
       "      <td>200</td>\n",
       "      <td>160</td>\n",
       "      <td>3</td>\n",
       "      <td>3</td>\n",
       "      <td>0</td>\n",
       "      <td>0</td>\n",
       "      <td>1</td>\n",
       "      <td>0</td>\n",
       "    </tr>\n",
       "  </tbody>\n",
       "</table>\n",
       "</div>"
      ],
      "text/plain": [
       "        age  gender  height  weight  ap_hi  ap_lo  cholesterol  gluc  smoke  \\\n",
       "4781   51.9       1     158    74.0    200    170            1     1      0   \n",
       "4981   62.3       0     173    74.0    220    160            2     2      0   \n",
       "38022  59.6       1     161    84.0    196    182            2     2      0   \n",
       "43998  62.1       0     163    70.0    200    180            1     1      0   \n",
       "54987  53.4       1     169    80.0    200    160            3     3      0   \n",
       "\n",
       "       alco  active  cardio  \n",
       "4781      0       1       1  \n",
       "4981      0       1       1  \n",
       "38022     0       1       1  \n",
       "43998     0       0       1  \n",
       "54987     0       1       0  "
      ]
     },
     "execution_count": 18,
     "metadata": {},
     "output_type": "execute_result"
    }
   ],
   "source": [
    "# while these diastolic readings are very high, \n",
    "# they are still lower than the systolic and match other features\n",
    "df[df['ap_lo'] > 150]"
   ]
  },
  {
   "cell_type": "markdown",
   "metadata": {},
   "source": [
    "Time to remove the incredibly low values for \"weight\""
   ]
  },
  {
   "cell_type": "code",
   "execution_count": 19,
   "metadata": {
    "ExecuteTime": {
     "end_time": "2021-02-11T23:53:29.490860Z",
     "start_time": "2021-02-11T23:53:29.486499Z"
    }
   },
   "outputs": [],
   "source": [
    "#40kg = 88lbs, this would indicate a underweight person, or a typo in the data\n",
    "df = df[df['weight'] >= 40]"
   ]
  },
  {
   "cell_type": "code",
   "execution_count": 20,
   "metadata": {
    "ExecuteTime": {
     "end_time": "2021-02-11T23:53:29.494065Z",
     "start_time": "2021-02-11T23:53:29.492193Z"
    }
   },
   "outputs": [],
   "source": [
    "# reset index\n",
    "df.reset_index(inplace= True, drop= True)"
   ]
  },
  {
   "cell_type": "code",
   "execution_count": 21,
   "metadata": {
    "ExecuteTime": {
     "end_time": "2021-02-11T23:53:29.497802Z",
     "start_time": "2021-02-11T23:53:29.495651Z"
    }
   },
   "outputs": [],
   "source": [
    "# change feature names\n",
    "new_names = {'ap_hi' : 'systolic', \n",
    "             'ap_lo' : 'diastolic', \n",
    "             'gluc' : 'glucose', \n",
    "             'alco': 'alcohol', \n",
    "             'cardio': 'disease'\n",
    "            }"
   ]
  },
  {
   "cell_type": "code",
   "execution_count": 22,
   "metadata": {
    "ExecuteTime": {
     "end_time": "2021-02-11T23:53:29.502116Z",
     "start_time": "2021-02-11T23:53:29.499124Z"
    }
   },
   "outputs": [],
   "source": [
    "df = df.rename(columns= new_names)"
   ]
  },
  {
   "cell_type": "code",
   "execution_count": 23,
   "metadata": {
    "ExecuteTime": {
     "end_time": "2021-02-11T23:53:29.505908Z",
     "start_time": "2021-02-11T23:53:29.503355Z"
    }
   },
   "outputs": [
    {
     "data": {
      "text/plain": [
       "(68413, 12)"
      ]
     },
     "execution_count": 23,
     "metadata": {},
     "output_type": "execute_result"
    }
   ],
   "source": [
    "df.shape"
   ]
  },
  {
   "cell_type": "code",
   "execution_count": 24,
   "metadata": {
    "ExecuteTime": {
     "end_time": "2021-02-11T23:53:29.512234Z",
     "start_time": "2021-02-11T23:53:29.507397Z"
    }
   },
   "outputs": [
    {
     "data": {
      "text/plain": [
       "0    0.504729\n",
       "1    0.495271\n",
       "Name: disease, dtype: float64"
      ]
     },
     "execution_count": 24,
     "metadata": {},
     "output_type": "execute_result"
    }
   ],
   "source": [
    "df.disease.value_counts(normalize= True)"
   ]
  },
  {
   "cell_type": "markdown",
   "metadata": {},
   "source": [
    "Data cleaning removed 1,488 data points from our original 70,000 and we still have an even number of patients with and without cardiovascular disease (CVD)."
   ]
  },
  {
   "cell_type": "markdown",
   "metadata": {},
   "source": [
    "## Explore"
   ]
  },
  {
   "cell_type": "markdown",
   "metadata": {},
   "source": [
    "### BMI analysis\n",
    "\n",
    "Body mass index (BMI) is a measure of body fat based on height and weight that applies to adult men and women. BMI is defined as the body mass divided by the square of the body height, and is universally expressed in units of kg/m², resulting from mass in kilograms and height in meters."
   ]
  },
  {
   "cell_type": "code",
   "execution_count": 25,
   "metadata": {
    "ExecuteTime": {
     "end_time": "2021-02-11T23:53:29.516145Z",
     "start_time": "2021-02-11T23:53:29.513745Z"
    }
   },
   "outputs": [],
   "source": [
    "df_eda = df.copy()"
   ]
  },
  {
   "cell_type": "code",
   "execution_count": 26,
   "metadata": {
    "ExecuteTime": {
     "end_time": "2021-02-11T23:53:30.947050Z",
     "start_time": "2021-02-11T23:53:29.517399Z"
    }
   },
   "outputs": [
    {
     "data": {
      "text/plain": [
       "<AxesSubplot:xlabel='height', ylabel='weight'>"
      ]
     },
     "execution_count": 26,
     "metadata": {},
     "output_type": "execute_result"
    },
    {
     "data": {
      "image/png": "[encoded data removed]",
      "text/plain": [
       "<Figure size 432x288 with 1 Axes>"
      ]
     },
     "metadata": {},
     "output_type": "display_data"
    }
   ],
   "source": [
    "sns.scatterplot(x= 'height', y= 'weight', hue= 'disease', data= df_eda)"
   ]
  },
  {
   "cell_type": "markdown",
   "metadata": {},
   "source": [
    "Looking at height and weight in this manner isn't very helpful."
   ]
  },
  {
   "cell_type": "code",
   "execution_count": 27,
   "metadata": {
    "ExecuteTime": {
     "end_time": "2021-02-11T23:53:31.958059Z",
     "start_time": "2021-02-11T23:53:30.948280Z"
    }
   },
   "outputs": [],
   "source": [
    "# create BMI feature\n",
    "def BMI (data):\n",
    "    return round(data['weight'] / (data['height'] / 100) **2, 2)\n",
    "\n",
    "df_eda['BMI'] = df_eda.apply(BMI, axis= 1)"
   ]
  },
  {
   "cell_type": "code",
   "execution_count": 28,
   "metadata": {
    "ExecuteTime": {
     "end_time": "2021-02-11T23:53:32.009753Z",
     "start_time": "2021-02-11T23:53:31.959826Z"
    }
   },
   "outputs": [
    {
     "data": {
      "text/html": [
       "<div>\n",
       "<style scoped>\n",
       "    .dataframe tbody tr th:only-of-type {\n",
       "        vertical-align: middle;\n",
       "    }\n",
       "\n",
       "    .dataframe tbody tr th {\n",
       "        vertical-align: top;\n",
       "    }\n",
       "\n",
       "    .dataframe thead th {\n",
       "        text-align: right;\n",
       "    }\n",
       "</style>\n",
       "<table border=\"1\" class=\"dataframe\">\n",
       "  <thead>\n",
       "    <tr style=\"text-align: right;\">\n",
       "      <th></th>\n",
       "      <th>count</th>\n",
       "      <th>mean</th>\n",
       "      <th>std</th>\n",
       "      <th>min</th>\n",
       "      <th>25%</th>\n",
       "      <th>50%</th>\n",
       "      <th>75%</th>\n",
       "      <th>max</th>\n",
       "    </tr>\n",
       "  </thead>\n",
       "  <tbody>\n",
       "    <tr>\n",
       "      <th>age</th>\n",
       "      <td>68413.0</td>\n",
       "      <td>53.333130</td>\n",
       "      <td>6.759749</td>\n",
       "      <td>29.60</td>\n",
       "      <td>48.40</td>\n",
       "      <td>54.00</td>\n",
       "      <td>58.40</td>\n",
       "      <td>65.00</td>\n",
       "    </tr>\n",
       "    <tr>\n",
       "      <th>gender</th>\n",
       "      <td>68413.0</td>\n",
       "      <td>0.650973</td>\n",
       "      <td>0.476666</td>\n",
       "      <td>0.00</td>\n",
       "      <td>0.00</td>\n",
       "      <td>1.00</td>\n",
       "      <td>1.00</td>\n",
       "      <td>1.00</td>\n",
       "    </tr>\n",
       "    <tr>\n",
       "      <th>height</th>\n",
       "      <td>68413.0</td>\n",
       "      <td>164.450835</td>\n",
       "      <td>7.842102</td>\n",
       "      <td>125.00</td>\n",
       "      <td>159.00</td>\n",
       "      <td>165.00</td>\n",
       "      <td>170.00</td>\n",
       "      <td>207.00</td>\n",
       "    </tr>\n",
       "    <tr>\n",
       "      <th>weight</th>\n",
       "      <td>68413.0</td>\n",
       "      <td>74.153387</td>\n",
       "      <td>14.259347</td>\n",
       "      <td>40.00</td>\n",
       "      <td>65.00</td>\n",
       "      <td>72.00</td>\n",
       "      <td>82.00</td>\n",
       "      <td>200.00</td>\n",
       "    </tr>\n",
       "    <tr>\n",
       "      <th>systolic</th>\n",
       "      <td>68413.0</td>\n",
       "      <td>126.744961</td>\n",
       "      <td>16.620734</td>\n",
       "      <td>85.00</td>\n",
       "      <td>120.00</td>\n",
       "      <td>120.00</td>\n",
       "      <td>140.00</td>\n",
       "      <td>240.00</td>\n",
       "    </tr>\n",
       "    <tr>\n",
       "      <th>diastolic</th>\n",
       "      <td>68413.0</td>\n",
       "      <td>81.366188</td>\n",
       "      <td>9.376343</td>\n",
       "      <td>52.00</td>\n",
       "      <td>80.00</td>\n",
       "      <td>80.00</td>\n",
       "      <td>90.00</td>\n",
       "      <td>182.00</td>\n",
       "    </tr>\n",
       "    <tr>\n",
       "      <th>cholesterol</th>\n",
       "      <td>68413.0</td>\n",
       "      <td>1.364931</td>\n",
       "      <td>0.679155</td>\n",
       "      <td>1.00</td>\n",
       "      <td>1.00</td>\n",
       "      <td>1.00</td>\n",
       "      <td>2.00</td>\n",
       "      <td>3.00</td>\n",
       "    </tr>\n",
       "    <tr>\n",
       "      <th>glucose</th>\n",
       "      <td>68413.0</td>\n",
       "      <td>1.225864</td>\n",
       "      <td>0.571804</td>\n",
       "      <td>1.00</td>\n",
       "      <td>1.00</td>\n",
       "      <td>1.00</td>\n",
       "      <td>1.00</td>\n",
       "      <td>3.00</td>\n",
       "    </tr>\n",
       "    <tr>\n",
       "      <th>smoke</th>\n",
       "      <td>68413.0</td>\n",
       "      <td>0.087966</td>\n",
       "      <td>0.283247</td>\n",
       "      <td>0.00</td>\n",
       "      <td>0.00</td>\n",
       "      <td>0.00</td>\n",
       "      <td>0.00</td>\n",
       "      <td>1.00</td>\n",
       "    </tr>\n",
       "    <tr>\n",
       "      <th>alcohol</th>\n",
       "      <td>68413.0</td>\n",
       "      <td>0.053396</td>\n",
       "      <td>0.224824</td>\n",
       "      <td>0.00</td>\n",
       "      <td>0.00</td>\n",
       "      <td>0.00</td>\n",
       "      <td>0.00</td>\n",
       "      <td>1.00</td>\n",
       "    </tr>\n",
       "    <tr>\n",
       "      <th>active</th>\n",
       "      <td>68413.0</td>\n",
       "      <td>0.803458</td>\n",
       "      <td>0.397386</td>\n",
       "      <td>0.00</td>\n",
       "      <td>1.00</td>\n",
       "      <td>1.00</td>\n",
       "      <td>1.00</td>\n",
       "      <td>1.00</td>\n",
       "    </tr>\n",
       "    <tr>\n",
       "      <th>disease</th>\n",
       "      <td>68413.0</td>\n",
       "      <td>0.495271</td>\n",
       "      <td>0.499981</td>\n",
       "      <td>0.00</td>\n",
       "      <td>0.00</td>\n",
       "      <td>0.00</td>\n",
       "      <td>1.00</td>\n",
       "      <td>1.00</td>\n",
       "    </tr>\n",
       "    <tr>\n",
       "      <th>BMI</th>\n",
       "      <td>68413.0</td>\n",
       "      <td>27.455421</td>\n",
       "      <td>5.207657</td>\n",
       "      <td>13.52</td>\n",
       "      <td>23.88</td>\n",
       "      <td>26.35</td>\n",
       "      <td>30.12</td>\n",
       "      <td>106.88</td>\n",
       "    </tr>\n",
       "  </tbody>\n",
       "</table>\n",
       "</div>"
      ],
      "text/plain": [
       "               count        mean        std     min     25%     50%     75%  \\\n",
       "age          68413.0   53.333130   6.759749   29.60   48.40   54.00   58.40   \n",
       "gender       68413.0    0.650973   0.476666    0.00    0.00    1.00    1.00   \n",
       "height       68413.0  164.450835   7.842102  125.00  159.00  165.00  170.00   \n",
       "weight       68413.0   74.153387  14.259347   40.00   65.00   72.00   82.00   \n",
       "systolic     68413.0  126.744961  16.620734   85.00  120.00  120.00  140.00   \n",
       "diastolic    68413.0   81.366188   9.376343   52.00   80.00   80.00   90.00   \n",
       "cholesterol  68413.0    1.364931   0.679155    1.00    1.00    1.00    2.00   \n",
       "glucose      68413.0    1.225864   0.571804    1.00    1.00    1.00    1.00   \n",
       "smoke        68413.0    0.087966   0.283247    0.00    0.00    0.00    0.00   \n",
       "alcohol      68413.0    0.053396   0.224824    0.00    0.00    0.00    0.00   \n",
       "active       68413.0    0.803458   0.397386    0.00    1.00    1.00    1.00   \n",
       "disease      68413.0    0.495271   0.499981    0.00    0.00    0.00    1.00   \n",
       "BMI          68413.0   27.455421   5.207657   13.52   23.88   26.35   30.12   \n",
       "\n",
       "                max  \n",
       "age           65.00  \n",
       "gender         1.00  \n",
       "height       207.00  \n",
       "weight       200.00  \n",
       "systolic     240.00  \n",
       "diastolic    182.00  \n",
       "cholesterol    3.00  \n",
       "glucose        3.00  \n",
       "smoke          1.00  \n",
       "alcohol        1.00  \n",
       "active         1.00  \n",
       "disease        1.00  \n",
       "BMI          106.88  "
      ]
     },
     "execution_count": 28,
     "metadata": {},
     "output_type": "execute_result"
    }
   ],
   "source": [
    "df_eda.describe().T"
   ]
  },
  {
   "cell_type": "markdown",
   "metadata": {},
   "source": [
    "![BMI chart](images/BMI.jpg)\n",
    "\n",
    "<center> We can see that there are some BMI readings that don't make sense."
   ]
  },
  {
   "cell_type": "code",
   "execution_count": 29,
   "metadata": {
    "ExecuteTime": {
     "end_time": "2021-02-11T23:53:32.134835Z",
     "start_time": "2021-02-11T23:53:32.011461Z"
    }
   },
   "outputs": [
    {
     "data": {
      "text/plain": [
       "Text(0, 0.5, 'BMI')"
      ]
     },
     "execution_count": 29,
     "metadata": {},
     "output_type": "execute_result"
    },
    {
     "data": {
      "image/png": "[encoded data removed]",
      "text/plain": [
       "<Figure size 720x1080 with 1 Axes>"
      ]
     },
     "metadata": {},
     "output_type": "display_data"
    }
   ],
   "source": [
    "pal = ['#008ae6' , '#ec1313']\n",
    "\n",
    "plt.figure(figsize= (10,15))\n",
    "sns.boxplot(x = 'disease', y= 'BMI', data= df_eda, palette= pal)\n",
    "plt.title('Body Mass Index and Cardiovascular Disease', fontsize= 20)\n",
    "plt.xlabel('Disease Presence')\n",
    "plt.ylabel('BMI')"
   ]
  },
  {
   "cell_type": "markdown",
   "metadata": {},
   "source": [
    "A quick boxplot shows that individuals with CVD have, on average, higher body mass indexes than those that do not have CVD."
   ]
  },
  {
   "cell_type": "markdown",
   "metadata": {},
   "source": [
    "### Blood Pressure Category analysis\n",
    "\n",
    "Blood pressure is the pressure of circulating blood against the walls of blood vessels. Most of this pressure results from the heart pumping blood through the circulatory system."
   ]
  },
  {
   "cell_type": "markdown",
   "metadata": {},
   "source": [
    "Here are the most recent guidelines established by the American Heart Association (as of Feb.2021)\n",
    "\n",
    "![AHA hypertension](images/BP_chart.jpg)"
   ]
  },
  {
   "cell_type": "code",
   "execution_count": 30,
   "metadata": {
    "ExecuteTime": {
     "end_time": "2021-02-11T23:53:32.140082Z",
     "start_time": "2021-02-11T23:53:32.136922Z"
    }
   },
   "outputs": [],
   "source": [
    "#function to categorize blood pressure\n",
    "def bp_categories(systolic, diastolic):\n",
    "    if systolic > 180 or diastolic > 120:\n",
    "        return 'Crisis'\n",
    "    elif (140 <= systolic < 180) or (90 <= diastolic < 120):\n",
    "        return 'HBP_stage2'\n",
    "    elif (130 <= systolic < 140) or (80 <= diastolic < 90) :\n",
    "        return 'HBP_stage1'\n",
    "    elif (120 <= systolic < 130) and diastolic < 80:\n",
    "        return 'Elevated'\n",
    "    else:\n",
    "        return 'Normal'"
   ]
  },
  {
   "cell_type": "code",
   "execution_count": 31,
   "metadata": {
    "ExecuteTime": {
     "end_time": "2021-02-11T23:53:32.508626Z",
     "start_time": "2021-02-11T23:53:32.141747Z"
    }
   },
   "outputs": [],
   "source": [
    "# HTN is abbreviation for hypertension\n",
    "df_eda['HTN_stage'] = df_eda[['systolic', 'diastolic']].apply\\\n",
    "(lambda x: bp_categories(*x), axis= 1)"
   ]
  },
  {
   "cell_type": "code",
   "execution_count": 32,
   "metadata": {
    "ExecuteTime": {
     "end_time": "2021-02-11T23:53:32.519449Z",
     "start_time": "2021-02-11T23:53:32.510277Z"
    },
    "scrolled": false
   },
   "outputs": [
    {
     "data": {
      "text/plain": [
       "HBP_stage1    32429\n",
       "HBP_stage2    23120\n",
       "Normal         9471\n",
       "Elevated       3097\n",
       "Crisis          296\n",
       "Name: HTN_stage, dtype: int64"
      ]
     },
     "execution_count": 32,
     "metadata": {},
     "output_type": "execute_result"
    }
   ],
   "source": [
    "df_eda.HTN_stage.value_counts()"
   ]
  },
  {
   "cell_type": "code",
   "execution_count": 33,
   "metadata": {
    "ExecuteTime": {
     "end_time": "2021-02-11T23:53:32.723582Z",
     "start_time": "2021-02-11T23:53:32.520711Z"
    },
    "scrolled": false
   },
   "outputs": [
    {
     "data": {
      "text/plain": [
       "Text(0, 0.5, '# of Patients')"
      ]
     },
     "execution_count": 33,
     "metadata": {},
     "output_type": "execute_result"
    },
    {
     "data": {
      "image/png": "[encoded data removed]",
      "text/plain": [
       "<Figure size 1080x1080 with 1 Axes>"
      ]
     },
     "metadata": {},
     "output_type": "display_data"
    }
   ],
   "source": [
    "pal = ['#008ae6' , '#ec1313']\n",
    "\n",
    "plt.figure(figsize= (15,15))\n",
    "sns.countplot(x= 'HTN_stage', hue= 'disease', data= df_eda, palette= pal)\n",
    "plt.title('Blood Pressure Categories and Presence of Cardiovascular Disease', \n",
    "          fontweight= 'bold', fontsize= 20)\n",
    "plt.xlabel('Blood Pressure Category')\n",
    "plt.legend( ['No disease', 'Disease present'])\n",
    "plt.ylabel('# of Patients')"
   ]
  },
  {
   "cell_type": "markdown",
   "metadata": {},
   "source": [
    "Groups that have a higher prevalence of cardiovascular disease have blood pressure that could be classified as Hypertension Stage 2 or Hypertensive Crisis.\n",
    "\n",
    "The other categories, Normal, Elevated, and Hypertension Stage 1 have a higher prevalence of patients without cardiovascular disease, though it is still present."
   ]
  },
  {
   "cell_type": "markdown",
   "metadata": {},
   "source": [
    "### Age analysis"
   ]
  },
  {
   "cell_type": "code",
   "execution_count": 34,
   "metadata": {
    "ExecuteTime": {
     "end_time": "2021-02-11T23:53:32.737194Z",
     "start_time": "2021-02-11T23:53:32.725197Z"
    },
    "scrolled": true
   },
   "outputs": [
    {
     "name": "stdout",
     "output_type": "stream",
     "text": [
      "29.6\n",
      "65.0\n"
     ]
    },
    {
     "data": {
      "text/html": [
       "<div>\n",
       "<style scoped>\n",
       "    .dataframe tbody tr th:only-of-type {\n",
       "        vertical-align: middle;\n",
       "    }\n",
       "\n",
       "    .dataframe tbody tr th {\n",
       "        vertical-align: top;\n",
       "    }\n",
       "\n",
       "    .dataframe thead th {\n",
       "        text-align: right;\n",
       "    }\n",
       "</style>\n",
       "<table border=\"1\" class=\"dataframe\">\n",
       "  <thead>\n",
       "    <tr style=\"text-align: right;\">\n",
       "      <th></th>\n",
       "      <th>age</th>\n",
       "      <th>gender</th>\n",
       "      <th>height</th>\n",
       "      <th>weight</th>\n",
       "      <th>systolic</th>\n",
       "      <th>diastolic</th>\n",
       "      <th>cholesterol</th>\n",
       "      <th>glucose</th>\n",
       "      <th>smoke</th>\n",
       "      <th>alcohol</th>\n",
       "      <th>active</th>\n",
       "      <th>disease</th>\n",
       "      <th>BMI</th>\n",
       "      <th>HTN_stage</th>\n",
       "    </tr>\n",
       "  </thead>\n",
       "  <tbody>\n",
       "    <tr>\n",
       "      <th>6072</th>\n",
       "      <td>29.8</td>\n",
       "      <td>1</td>\n",
       "      <td>175</td>\n",
       "      <td>59.0</td>\n",
       "      <td>120</td>\n",
       "      <td>80</td>\n",
       "      <td>1</td>\n",
       "      <td>1</td>\n",
       "      <td>0</td>\n",
       "      <td>0</td>\n",
       "      <td>1</td>\n",
       "      <td>0</td>\n",
       "      <td>19.27</td>\n",
       "      <td>HBP_stage1</td>\n",
       "    </tr>\n",
       "    <tr>\n",
       "      <th>21837</th>\n",
       "      <td>29.6</td>\n",
       "      <td>0</td>\n",
       "      <td>175</td>\n",
       "      <td>92.0</td>\n",
       "      <td>100</td>\n",
       "      <td>60</td>\n",
       "      <td>1</td>\n",
       "      <td>1</td>\n",
       "      <td>0</td>\n",
       "      <td>0</td>\n",
       "      <td>1</td>\n",
       "      <td>0</td>\n",
       "      <td>30.04</td>\n",
       "      <td>Normal</td>\n",
       "    </tr>\n",
       "    <tr>\n",
       "      <th>29970</th>\n",
       "      <td>29.8</td>\n",
       "      <td>1</td>\n",
       "      <td>159</td>\n",
       "      <td>59.0</td>\n",
       "      <td>120</td>\n",
       "      <td>80</td>\n",
       "      <td>1</td>\n",
       "      <td>1</td>\n",
       "      <td>0</td>\n",
       "      <td>0</td>\n",
       "      <td>1</td>\n",
       "      <td>0</td>\n",
       "      <td>23.34</td>\n",
       "      <td>HBP_stage1</td>\n",
       "    </tr>\n",
       "  </tbody>\n",
       "</table>\n",
       "</div>"
      ],
      "text/plain": [
       "        age  gender  height  weight  systolic  diastolic  cholesterol  \\\n",
       "6072   29.8       1     175    59.0       120         80            1   \n",
       "21837  29.6       0     175    92.0       100         60            1   \n",
       "29970  29.8       1     159    59.0       120         80            1   \n",
       "\n",
       "       glucose  smoke  alcohol  active  disease    BMI   HTN_stage  \n",
       "6072         1      0        0       1        0  19.27  HBP_stage1  \n",
       "21837        1      0        0       1        0  30.04      Normal  \n",
       "29970        1      0        0       1        0  23.34  HBP_stage1  "
      ]
     },
     "execution_count": 34,
     "metadata": {},
     "output_type": "execute_result"
    }
   ],
   "source": [
    "print(df_eda.age.min())\n",
    "print(df_eda.age.max())\n",
    "df_eda[df_eda['age'] < 30]"
   ]
  },
  {
   "cell_type": "code",
   "execution_count": 35,
   "metadata": {
    "ExecuteTime": {
     "end_time": "2021-02-11T23:53:32.749448Z",
     "start_time": "2021-02-11T23:53:32.738830Z"
    }
   },
   "outputs": [],
   "source": [
    "# bin ages into categories\n",
    "df_eda.loc[(df_eda['age'] < 40), 'age_range'] = 30\n",
    "df_eda.loc[(df_eda['age'] >= 40) & (df_eda['age'] < 50), 'age_range'] = 40\n",
    "df_eda.loc[(df_eda['age'] >= 50) & (df_eda['age'] < 60), 'age_range'] = 50\n",
    "df_eda.loc[(df_eda['age'] >= 60) & (df_eda['age'] < 70), 'age_range'] = 60\n"
   ]
  },
  {
   "cell_type": "code",
   "execution_count": 36,
   "metadata": {
    "ExecuteTime": {
     "end_time": "2021-02-11T23:53:32.756493Z",
     "start_time": "2021-02-11T23:53:32.751192Z"
    }
   },
   "outputs": [
    {
     "data": {
      "text/plain": [
       "50.0    0.507082\n",
       "40.0    0.278427\n",
       "60.0    0.191528\n",
       "30.0    0.022963\n",
       "Name: age_range, dtype: float64"
      ]
     },
     "execution_count": 36,
     "metadata": {},
     "output_type": "execute_result"
    }
   ],
   "source": [
    "df_eda.age_range.value_counts(normalize= True)"
   ]
  },
  {
   "cell_type": "code",
   "execution_count": 37,
   "metadata": {
    "ExecuteTime": {
     "end_time": "2021-02-11T23:53:32.907150Z",
     "start_time": "2021-02-11T23:53:32.757672Z"
    }
   },
   "outputs": [
    {
     "data": {
      "text/plain": [
       "Text(0, 0.5, 'Patients')"
      ]
     },
     "execution_count": 37,
     "metadata": {},
     "output_type": "execute_result"
    },
    {
     "data": {
      "image/png": "[encoded data removed]",
      "text/plain": [
       "<Figure size 432x288 with 1 Axes>"
      ]
     },
     "metadata": {},
     "output_type": "display_data"
    }
   ],
   "source": [
    "sns.countplot(x= 'age_range', hue= 'disease', data= df_eda)\n",
    "plt.title('Age Ranges and Cardiovascular Disease')\n",
    "plt.xlabel('Age Range')\n",
    "plt.legend( ['No disease', 'Disease present'])\n",
    "plt.ylabel('Patients')"
   ]
  },
  {
   "cell_type": "code",
   "execution_count": 67,
   "metadata": {
    "ExecuteTime": {
     "end_time": "2021-02-11T23:55:33.690006Z",
     "start_time": "2021-02-11T23:55:32.338448Z"
    }
   },
   "outputs": [
    {
     "data": {
      "text/plain": [
       "<matplotlib.legend.Legend at 0x7fc22f3fcdf0>"
      ]
     },
     "execution_count": 67,
     "metadata": {},
     "output_type": "execute_result"
    },
    {
     "data": {
      "image/png": "[encoded data removed]",
      "text/plain": [
       "<Figure size 432x432 with 1 Axes>"
      ]
     },
     "metadata": {},
     "output_type": "display_data"
    }
   ],
   "source": [
    "plt.figure(figsize= (6,6))\n",
    "pal = ['#1ac6ff', '#e65c00']\n",
    "\n",
    "sns.scatterplot(x= 'age_range', y= 'weight', hue= 'disease', data= df_eda, palette= pal)\n",
    "plt.title('Age Ranges, Weights, and Presence of Cardiovascular Disease', \n",
    "          fontweight= 'bold', fontsize= 15)\n",
    "plt.xlabel('Age Range')\n",
    "plt.ylabel('Weight')\n",
    "plt.legend()"
   ]
  },
  {
   "cell_type": "markdown",
   "metadata": {},
   "source": [
    "Here we can see that as a person gets older, their chances of being diagnosed with cardiovascular disease increase. We can also see that weight doesn't really have an impact as much as age does. "
   ]
  },
  {
   "cell_type": "markdown",
   "metadata": {},
   "source": [
    "### Gender analysis"
   ]
  },
  {
   "cell_type": "code",
   "execution_count": 39,
   "metadata": {
    "ExecuteTime": {
     "end_time": "2021-02-11T23:53:34.300875Z",
     "start_time": "2021-02-11T23:53:34.294825Z"
    }
   },
   "outputs": [
    {
     "data": {
      "text/plain": [
       "gender\n",
       "0    170.030279\n",
       "1    161.459347\n",
       "Name: height, dtype: float64"
      ]
     },
     "execution_count": 39,
     "metadata": {},
     "output_type": "execute_result"
    }
   ],
   "source": [
    "# determine which is male/female\n",
    "df_eda.groupby('gender')['height'].mean()"
   ]
  },
  {
   "cell_type": "code",
   "execution_count": 40,
   "metadata": {
    "ExecuteTime": {
     "end_time": "2021-02-11T23:53:34.306560Z",
     "start_time": "2021-02-11T23:53:34.302389Z"
    },
    "scrolled": false
   },
   "outputs": [
    {
     "data": {
      "text/plain": [
       "gender\n",
       "0    77.191369\n",
       "1    72.524535\n",
       "Name: weight, dtype: float64"
      ]
     },
     "execution_count": 40,
     "metadata": {},
     "output_type": "execute_result"
    }
   ],
   "source": [
    "df_eda.groupby('gender')['weight'].mean()"
   ]
  },
  {
   "cell_type": "code",
   "execution_count": 41,
   "metadata": {
    "ExecuteTime": {
     "end_time": "2021-02-11T23:53:34.312702Z",
     "start_time": "2021-02-11T23:53:34.308253Z"
    }
   },
   "outputs": [
    {
     "data": {
      "text/plain": [
       "1    0.650973\n",
       "0    0.349027\n",
       "Name: gender, dtype: float64"
      ]
     },
     "execution_count": 41,
     "metadata": {},
     "output_type": "execute_result"
    }
   ],
   "source": [
    "df_eda.gender.value_counts(normalize= True)"
   ]
  },
  {
   "cell_type": "markdown",
   "metadata": {},
   "source": [
    "\"0\" in both analyses have the higher number. Historically, men are taller than women. We can assume that the \"0\" refers to male and \"1\" refers to females. However, it is improtant to note that the data is imbalanced (almost $1/3$ to $2/3$)."
   ]
  },
  {
   "cell_type": "code",
   "execution_count": 42,
   "metadata": {
    "ExecuteTime": {
     "end_time": "2021-02-11T23:53:34.442827Z",
     "start_time": "2021-02-11T23:53:34.314013Z"
    },
    "scrolled": false
   },
   "outputs": [
    {
     "data": {
      "text/plain": [
       "Text(0, 0.5, 'Patients')"
      ]
     },
     "execution_count": 42,
     "metadata": {},
     "output_type": "execute_result"
    },
    {
     "data": {
      "image/png": "[encoded data removed]",
      "text/plain": [
       "<Figure size 720x576 with 1 Axes>"
      ]
     },
     "metadata": {},
     "output_type": "display_data"
    }
   ],
   "source": [
    "legend_labels = ['male', 'female']\n",
    "\n",
    "plt.figure(figsize= (10, 8))\n",
    "plt.title('Counts of Males and Females With & Without CV Disease', fontsize= 20)\n",
    "sns.countplot(x= 'gender', hue= 'disease', data= df_eda, palette= 'cubehelix')\n",
    "plt.xlabel('Absence/Presence of Cardiovascular Disease')\n",
    "plt.legend(legend_labels)\n",
    "plt.ylabel('Patients')"
   ]
  },
  {
   "cell_type": "markdown",
   "metadata": {},
   "source": [
    "This graph shows that even though there is almost double the amount of women in the data, there are even amounts of disease present within each gender."
   ]
  },
  {
   "cell_type": "code",
   "execution_count": 43,
   "metadata": {
    "ExecuteTime": {
     "end_time": "2021-02-11T23:53:34.450885Z",
     "start_time": "2021-02-11T23:53:34.444864Z"
    },
    "scrolled": true
   },
   "outputs": [
    {
     "data": {
      "text/plain": [
       "gender\n",
       "0    0.499832\n",
       "1    0.492826\n",
       "Name: disease, dtype: float64"
      ]
     },
     "execution_count": 43,
     "metadata": {},
     "output_type": "execute_result"
    }
   ],
   "source": [
    "df_eda.groupby('gender')['disease'].mean()"
   ]
  },
  {
   "cell_type": "markdown",
   "metadata": {},
   "source": [
    "### Other quick checks"
   ]
  },
  {
   "cell_type": "markdown",
   "metadata": {},
   "source": [
    "#### Cholesterol"
   ]
  },
  {
   "cell_type": "code",
   "execution_count": 44,
   "metadata": {
    "ExecuteTime": {
     "end_time": "2021-02-11T23:53:34.456449Z",
     "start_time": "2021-02-11T23:53:34.452157Z"
    }
   },
   "outputs": [
    {
     "data": {
      "text/plain": [
       "1    0.749814\n",
       "2    0.135442\n",
       "3    0.114744\n",
       "Name: cholesterol, dtype: float64"
      ]
     },
     "execution_count": 44,
     "metadata": {},
     "output_type": "execute_result"
    }
   ],
   "source": [
    "df_eda.cholesterol.value_counts(normalize= True)"
   ]
  },
  {
   "cell_type": "code",
   "execution_count": 45,
   "metadata": {
    "ExecuteTime": {
     "end_time": "2021-02-11T23:53:34.593511Z",
     "start_time": "2021-02-11T23:53:34.457788Z"
    }
   },
   "outputs": [
    {
     "data": {
      "text/plain": [
       "Text(0, 0.5, '# of Patients')"
      ]
     },
     "execution_count": 45,
     "metadata": {},
     "output_type": "execute_result"
    },
    {
     "data": {
      "image/png": "[encoded data removed]",
      "text/plain": [
       "<Figure size 576x432 with 1 Axes>"
      ]
     },
     "metadata": {},
     "output_type": "display_data"
    }
   ],
   "source": [
    "plt.figure(figsize= (8,6))\n",
    "sns.countplot(x= 'cholesterol', hue= 'disease', data= df_eda)\n",
    "plt.legend( ['No disease', 'Disease present'])\n",
    "plt.title('Cholesterol and Disease')\n",
    "plt.xlabel('Cholesterol Rank')\n",
    "plt.ylabel('# of Patients')"
   ]
  },
  {
   "cell_type": "code",
   "execution_count": 46,
   "metadata": {
    "ExecuteTime": {
     "end_time": "2021-02-11T23:53:35.164435Z",
     "start_time": "2021-02-11T23:53:34.595260Z"
    },
    "scrolled": false
   },
   "outputs": [
    {
     "data": {
      "text/plain": [
       "Text(6.800000000000004, 0.5, 'Has Disease')"
      ]
     },
     "execution_count": 46,
     "metadata": {},
     "output_type": "execute_result"
    },
    {
     "data": {
      "image/png": "[encoded data removed]",
      "text/plain": [
       "<Figure size 360x360 with 1 Axes>"
      ]
     },
     "metadata": {},
     "output_type": "display_data"
    }
   ],
   "source": [
    "pal = ['#1a75ff', '#cc6699', '#ff9900']\n",
    "sns.catplot(x= 'cholesterol', y= 'disease', data= df_eda, kind= 'bar', \n",
    "            palette= pal)\n",
    "plt.title('Average Risk of Having Disease vs Rank of Cholesterol')\n",
    "plt.xlabel('Cholesterol Rank')\n",
    "plt.ylabel('Has Disease')"
   ]
  },
  {
   "cell_type": "markdown",
   "metadata": {},
   "source": [
    "Having cholesterol levels \"above normal\" and \"well above normal\" increase an individuals chances of being diagnosed with cardiovascular disease. However, having \"normal\" cholesterol levels does not decrease your chances. There are many individuals with normal cholesterol levels and CVD.\n",
    "\n",
    "76% of patients with cholesterol \"well above normal\" also have cardiovascular disease."
   ]
  },
  {
   "cell_type": "code",
   "execution_count": 47,
   "metadata": {
    "ExecuteTime": {
     "end_time": "2021-02-11T23:53:35.171531Z",
     "start_time": "2021-02-11T23:53:35.166099Z"
    }
   },
   "outputs": [
    {
     "data": {
      "text/plain": [
       "cholesterol\n",
       "1    0.435971\n",
       "2    0.597237\n",
       "3    0.762420\n",
       "Name: disease, dtype: float64"
      ]
     },
     "execution_count": 47,
     "metadata": {},
     "output_type": "execute_result"
    }
   ],
   "source": [
    "df_eda.groupby('cholesterol')['disease'].mean()"
   ]
  },
  {
   "cell_type": "markdown",
   "metadata": {},
   "source": [
    "#### Activity"
   ]
  },
  {
   "cell_type": "code",
   "execution_count": 48,
   "metadata": {
    "ExecuteTime": {
     "end_time": "2021-02-11T23:53:35.177140Z",
     "start_time": "2021-02-11T23:53:35.172750Z"
    }
   },
   "outputs": [
    {
     "data": {
      "text/plain": [
       "1    0.803458\n",
       "0    0.196542\n",
       "Name: active, dtype: float64"
      ]
     },
     "execution_count": 48,
     "metadata": {},
     "output_type": "execute_result"
    }
   ],
   "source": [
    "df_eda.active.value_counts(normalize= True)"
   ]
  },
  {
   "cell_type": "code",
   "execution_count": 49,
   "metadata": {
    "ExecuteTime": {
     "end_time": "2021-02-11T23:53:35.483001Z",
     "start_time": "2021-02-11T23:53:35.178546Z"
    },
    "scrolled": false
   },
   "outputs": [
    {
     "data": {
      "text/plain": [
       "<seaborn.axisgrid.FacetGrid at 0x7fc22e425a30>"
      ]
     },
     "execution_count": 49,
     "metadata": {},
     "output_type": "execute_result"
    },
    {
     "data": {
      "text/plain": [
       "<Figure size 864x720 with 0 Axes>"
      ]
     },
     "metadata": {},
     "output_type": "display_data"
    },
    {
     "data": {
      "image/png": "[encoded data removed]",
      "text/plain": [
       "<Figure size 720x360 with 2 Axes>"
      ]
     },
     "metadata": {},
     "output_type": "display_data"
    }
   ],
   "source": [
    "plt.figure(figsize= (12, 10))\n",
    "sns.catplot(x='active', y='BMI', col='disease', data=df_eda, kind='boxen', \n",
    "            palette='Set1')"
   ]
  },
  {
   "cell_type": "markdown",
   "metadata": {},
   "source": [
    "This visualization shows that patients without cardiovascular disease have similar body mass indexes, regardless of whether they classify themselves as active or not.\n",
    "\n",
    "There is a slightly higher BMI for individuals that do have cardiovascular disease, but again, does not really differ if the patient is / is not active."
   ]
  },
  {
   "cell_type": "code",
   "execution_count": 50,
   "metadata": {
    "ExecuteTime": {
     "end_time": "2021-02-11T23:53:35.492733Z",
     "start_time": "2021-02-11T23:53:35.484733Z"
    },
    "scrolled": false
   },
   "outputs": [
    {
     "data": {
      "text/plain": [
       "disease  active\n",
       "0        0         26.521442\n",
       "         1         26.460297\n",
       "1        0         28.540764\n",
       "         1         28.436058\n",
       "Name: BMI, dtype: float64"
      ]
     },
     "execution_count": 50,
     "metadata": {},
     "output_type": "execute_result"
    }
   ],
   "source": [
    "df_eda.groupby(['disease', 'active'])['BMI'].mean()"
   ]
  },
  {
   "cell_type": "markdown",
   "metadata": {},
   "source": [
    "#### Glucose"
   ]
  },
  {
   "cell_type": "code",
   "execution_count": 51,
   "metadata": {
    "ExecuteTime": {
     "end_time": "2021-02-11T23:53:35.671696Z",
     "start_time": "2021-02-11T23:53:35.494394Z"
    },
    "scrolled": true
   },
   "outputs": [
    {
     "data": {
      "text/plain": [
       "<matplotlib.legend.Legend at 0x7fc24b2da970>"
      ]
     },
     "execution_count": 51,
     "metadata": {},
     "output_type": "execute_result"
    },
    {
     "data": {
      "image/png": "[encoded data removed]",
      "text/plain": [
       "<Figure size 432x288 with 1 Axes>"
      ]
     },
     "metadata": {},
     "output_type": "display_data"
    }
   ],
   "source": [
    "pal = ['#008ae6' , '#ec1313']\n",
    "sns.countplot(x= 'glucose', hue= 'disease', data= df_eda, palette= pal)\n",
    "plt.legend( ['No disease', 'Disease present'])"
   ]
  },
  {
   "cell_type": "markdown",
   "metadata": {},
   "source": [
    "Glucose levels that are \"normal\" do not seem to have any relationship to having the disease or not. In fact, a patient has almost a 50% chance of having cardiovascular disease even with a normal glucose measurement. The risk of being diagnosed with cardiovascular disease increases with increasing levels of glucose."
   ]
  },
  {
   "cell_type": "code",
   "execution_count": 52,
   "metadata": {
    "ExecuteTime": {
     "end_time": "2021-02-11T23:53:35.680236Z",
     "start_time": "2021-02-11T23:53:35.673477Z"
    },
    "scrolled": true
   },
   "outputs": [
    {
     "data": {
      "text/plain": [
       "glucose\n",
       "1    0.476171\n",
       "2    0.589378\n",
       "3    0.617528\n",
       "Name: disease, dtype: float64"
      ]
     },
     "execution_count": 52,
     "metadata": {},
     "output_type": "execute_result"
    }
   ],
   "source": [
    "df_eda.groupby('glucose')['disease'].mean()"
   ]
  },
  {
   "cell_type": "markdown",
   "metadata": {},
   "source": [
    "#### Drink alcohol and smoke"
   ]
  },
  {
   "cell_type": "code",
   "execution_count": 53,
   "metadata": {
    "ExecuteTime": {
     "end_time": "2021-02-11T23:53:35.699299Z",
     "start_time": "2021-02-11T23:53:35.691290Z"
    },
    "scrolled": false
   },
   "outputs": [
    {
     "data": {
      "text/plain": [
       "alcohol  smoke\n",
       "0        0        0.497266\n",
       "         1        0.481851\n",
       "1        0        0.514054\n",
       "         1        0.440377\n",
       "Name: disease, dtype: float64"
      ]
     },
     "execution_count": 53,
     "metadata": {},
     "output_type": "execute_result"
    }
   ],
   "source": [
    "df_eda.groupby(['alcohol', 'smoke'])['disease'].mean()"
   ]
  },
  {
   "cell_type": "code",
   "execution_count": 54,
   "metadata": {
    "ExecuteTime": {
     "end_time": "2021-02-11T23:53:35.714212Z",
     "start_time": "2021-02-11T23:53:35.706206Z"
    }
   },
   "outputs": [
    {
     "data": {
      "text/plain": [
       "alcohol  smoke\n",
       "0        0        60545\n",
       "         1         4215\n",
       "1        0         1850\n",
       "         1         1803\n",
       "Name: disease, dtype: int64"
      ]
     },
     "execution_count": 54,
     "metadata": {},
     "output_type": "execute_result"
    }
   ],
   "source": [
    "df_eda.groupby(['alcohol', 'smoke'])['disease'].count()"
   ]
  },
  {
   "cell_type": "code",
   "execution_count": 55,
   "metadata": {
    "ExecuteTime": {
     "end_time": "2021-02-11T23:53:35.839513Z",
     "start_time": "2021-02-11T23:53:35.716385Z"
    }
   },
   "outputs": [
    {
     "data": {
      "image/png": "[encoded data removed]",
      "text/plain": [
       "<Figure size 432x432 with 1 Axes>"
      ]
     },
     "metadata": {},
     "output_type": "display_data"
    }
   ],
   "source": [
    "fig= plt.figure(figsize= (6,6))\n",
    "al_smo = df_eda.groupby(['alcohol', 'smoke'])['disease'].mean().plot()"
   ]
  },
  {
   "cell_type": "markdown",
   "metadata": {},
   "source": [
    "This graph shows that an individual that claims to drink alcohol and smoke has the lowest risk of being diagnosed with cardiovascular disease. However, because these features are subjective and vague (drink how much, smoke what?), it is unwise to definitively say that drinking and smoking is better for your heart.\n",
    "\n",
    "It is also interesting that risk of having cardiovascular disease decreases when looking at drinking OR smoking. Again, this should lead one to consider subjective information to be potentially less accurate."
   ]
  },
  {
   "cell_type": "markdown",
   "metadata": {},
   "source": [
    "### Heatmap"
   ]
  },
  {
   "cell_type": "code",
   "execution_count": 56,
   "metadata": {
    "ExecuteTime": {
     "end_time": "2021-02-11T23:53:36.316049Z",
     "start_time": "2021-02-11T23:53:35.841493Z"
    }
   },
   "outputs": [
    {
     "data": {
      "image/png": "[encoded data removed]",
      "text/plain": [
       "<Figure size 720x576 with 2 Axes>"
      ]
     },
     "metadata": {},
     "output_type": "display_data"
    }
   ],
   "source": [
    "corr = df.corr()\n",
    "\n",
    "plt.figure(figsize= (10,8))\n",
    "mask = np.triu(np.ones_like(corr, dtype=np.bool))\n",
    "sns.heatmap(df.corr(), cmap= 'coolwarm', mask= mask, linewidths= 1, annot= True)\n",
    "plt.title('Correlation between Features', fontsize= 15)\n",
    "plt.show()"
   ]
  },
  {
   "cell_type": "markdown",
   "metadata": {},
   "source": [
    "The highest correlation (positive or negative) is between systolic and diastolic. The second highest is between height and gender.\n",
    "\n",
    "The features with the highest correlation on disease are systolic, diastolic, age, and cholesterol."
   ]
  },
  {
   "cell_type": "markdown",
   "metadata": {},
   "source": [
    "The systolic reading is by far the most important feature in predicting cardiovascular disease. Having a cholesterol well above normal, and a person's age are the second and third most important features, respectively.\n",
    "\n",
    "Activity is the highest subjective feature, followed closely by smoking as the next subjective feature."
   ]
  },
  {
   "cell_type": "markdown",
   "metadata": {},
   "source": [
    "# GRAPHS FOR PRESENTATION\n",
    "\n",
    "HEX CODES:\n",
    "PINK   #f0d1e0\n",
    "PURPLE  #694c84\n",
    "PINK-PURPLE #925775"
   ]
  },
  {
   "cell_type": "code",
   "execution_count": 69,
   "metadata": {
    "ExecuteTime": {
     "end_time": "2021-02-11T23:57:08.676056Z",
     "start_time": "2021-02-11T23:57:08.458311Z"
    },
    "scrolled": false
   },
   "outputs": [
    {
     "data": {
      "text/plain": [
       "Text(0, 0.5, '# of Patients')"
      ]
     },
     "execution_count": 69,
     "metadata": {},
     "output_type": "execute_result"
    },
    {
     "data": {
      "image/png": "[encoded data removed]",
      "text/plain": [
       "<Figure size 1080x1080 with 1 Axes>"
      ]
     },
     "metadata": {},
     "output_type": "display_data"
    }
   ],
   "source": [
    "pal = ['#925775','#f0d1e0']\n",
    "\n",
    "plt.figure(figsize= (15,15))\n",
    "sns.countplot(x= 'HTN_stage', hue= 'disease', data= df_eda, palette= pal)\n",
    "plt.title('Blood Pressure Categories and Presence of Cardiovascular Disease', \n",
    "          fontweight= 'bold', fontsize= 20)\n",
    "plt.xlabel('Blood Pressure Category')\n",
    "plt.legend( ['No disease', 'Disease present'])\n",
    "plt.ylabel('# of Patients')"
   ]
  },
  {
   "cell_type": "code",
   "execution_count": 70,
   "metadata": {
    "ExecuteTime": {
     "end_time": "2021-02-11T23:57:33.499990Z",
     "start_time": "2021-02-11T23:57:32.162781Z"
    }
   },
   "outputs": [
    {
     "data": {
      "text/plain": [
       "<matplotlib.legend.Legend at 0x7fc22f7e0fd0>"
      ]
     },
     "execution_count": 70,
     "metadata": {},
     "output_type": "execute_result"
    },
    {
     "data": {
      "image/png": "[encoded data removed]",
      "text/plain": [
       "<Figure size 432x432 with 1 Axes>"
      ]
     },
     "metadata": {},
     "output_type": "display_data"
    }
   ],
   "source": [
    "plt.figure(figsize= (6,6))\n",
    "pal = ['#f0d1e0', '#694c84']\n",
    "\n",
    "sns.scatterplot(x= 'age_range', y= 'weight', hue= 'disease', data= df_eda, palette= pal)\n",
    "plt.title('Age Ranges, Weights, and Presence of Cardiovascular Disease', \n",
    "          fontweight= 'bold', fontsize= 15)\n",
    "plt.xlabel('Age Range')\n",
    "plt.ylabel('Weight')\n",
    "plt.legend()"
   ]
  },
  {
   "cell_type": "code",
   "execution_count": 71,
   "metadata": {
    "ExecuteTime": {
     "end_time": "2021-02-11T23:59:15.816072Z",
     "start_time": "2021-02-11T23:59:15.269714Z"
    }
   },
   "outputs": [
    {
     "data": {
      "text/plain": [
       "Text(6.800000000000004, 0.5, 'Has Disease')"
      ]
     },
     "execution_count": 71,
     "metadata": {},
     "output_type": "execute_result"
    },
    {
     "data": {
      "image/png": "[encoded data removed]",
      "text/plain": [
       "<Figure size 360x360 with 1 Axes>"
      ]
     },
     "metadata": {},
     "output_type": "display_data"
    }
   ],
   "source": [
    "pal = ['#f0d1e0', '#925775', '#694c84']\n",
    "sns.catplot(x= 'cholesterol', y= 'disease', data= df_eda, kind= 'bar', \n",
    "            palette= pal)\n",
    "plt.title('Average Risk of Having Disease vs Rank of Cholesterol')\n",
    "plt.xlabel('Cholesterol Rank')\n",
    "plt.ylabel('Has Disease')"
   ]
  },
  {
   "cell_type": "code",
   "execution_count": 73,
   "metadata": {
    "ExecuteTime": {
     "end_time": "2021-02-12T00:00:21.078554Z",
     "start_time": "2021-02-12T00:00:20.745427Z"
    }
   },
   "outputs": [
    {
     "data": {
      "text/plain": [
       "<seaborn.axisgrid.FacetGrid at 0x7fc22f346d60>"
      ]
     },
     "execution_count": 73,
     "metadata": {},
     "output_type": "execute_result"
    },
    {
     "data": {
      "text/plain": [
       "<Figure size 864x720 with 0 Axes>"
      ]
     },
     "metadata": {},
     "output_type": "display_data"
    },
    {
     "data": {
      "image/png": "[encoded data removed]",
      "text/plain": [
       "<Figure size 720x360 with 2 Axes>"
      ]
     },
     "metadata": {},
     "output_type": "display_data"
    }
   ],
   "source": [
    "pal = ['#925775', '#694c84']\n",
    "\n",
    "plt.figure(figsize= (12, 10))\n",
    "sns.catplot(x='active', y='BMI', col='disease', data=df_eda, kind='boxen', \n",
    "            palette= pal, b)"
   ]
  },
  {
   "cell_type": "markdown",
   "metadata": {},
   "source": [
    "### Conclusion"
   ]
  },
  {
   "cell_type": "markdown",
   "metadata": {},
   "source": [
    "The model that performed the best overall was XGBoost with tuned hyperparameters. \n",
    "\n",
    "Due to it's highest false negative and true positive rates as well as the highest F1 score. It may not have been the most accurate model that was made, but was fairly close (by less than 2%). This model also had the highest AUC (Area Under the Curve) score showing us it was the most accurate.\n",
    "\n",
    "From the model, we can conclude that having a low blood pressure, low cholesterol, being young, and being active are the best ways to avoid cardiovascular disease."
   ]
  },
  {
   "cell_type": "code",
   "execution_count": null,
   "metadata": {},
   "outputs": [],
   "source": [
    "\n",
    "##Notes!\n",
    "\n",
    "\n",
    "\n",
    "# len (df_eda[df_eda['gender'] == 0] & df_eda[df_eda['disease'] == 1])\n",
    "# df_male = df.loc[(df['gender'] == 0) & (df['disease'] == 1)]\n",
    "# # Separate areas into quadrants by latitude and longitude\n",
    "# df.loc[(df['lat'] >= 47.5) & (df['long'] >= -122.2), 'quadrant' ] = 'NW'\n",
    "# df.loc[(df['lat'] > 47.5) & (df['long'] < -122.2), 'quadrant' ] = 'NE'\n",
    "# df.loc[(df['lat'] <= 47.5) & (df['long'] <= -122.2), 'quadrant' ] = 'SW'\n",
    "# df.loc[(df['lat'] < 47.5) & (df['long'] > -122.2), 'quadrant' ] = 'SE'\n",
    "\n",
    "# # A house shouldn't have 0 bathrooms. Let's change the zeros to ones.\n",
    "# df1['bathrooms'] = df1['bathrooms'].map(lambda x: 1 if x == 0 else x)\n",
    "\n",
    "# df['age_range'] = df['age'].apply(lambda x: 'young' if (x >=30 and x <= 40) \\\n",
    "#                                   else ('middle_age' if (x>40 and x<=45) else 'Elderly'))\n",
    "\n",
    "\n",
    "# waffle chart\n",
    "# data = {'Male': 49.98, 'Female': 49.28}\n",
    "\n",
    "# fig = plt.figure( \n",
    "#     FigureClass = Waffle, \n",
    "#     rows = 10, \n",
    "#     values = data, \n",
    "#     labels = ['{0} ({1}%)'.format(k, v) for k, v in data.items()],\n",
    "#     legend={'loc': 'lower left', 'bbox_to_anchor': (0, -0.4), 'ncol': len(data), 'framealpha': 0}\n",
    "    \n",
    "# ) \n",
    "\n",
    "# plt.figure(figsize= (6,6))\n",
    "# fig1 = df_eda.groupby('gender')['disease'].mean().plot(kind= 'barh')\n",
    "# plt.xlim(0, 1)\n",
    "# plt.title('Proportion of Those With and Without Cardiovascular Disease')\n",
    "# plt.ylabel('Gender')\n",
    "# plt.xlabel('Proportion')\n",
    "\n",
    "# legend_labels = ['male', 'female']\n",
    "\n",
    "# plt.figure(figsize= (8,8))\n",
    "# sns.catplot(x='gender', y='disease', kind='bar', data=df, palette= 'cubehelix')\n",
    "# plt.ylim(0, 1)\n",
    "# plt.title('Proportion of Disease per Gender')\n",
    "# plt.xlabel('Gender')\n",
    "# plt.ylabel('Proportion')\n",
    "# plt.legend(legend_labels)\n",
    "\n",
    "# feature_importances = pipeline_cv.best_estimator_[\"model\"].feature_importances_\n",
    "# feature_importances = pd.DataFrame(\n",
    "#     {\"feature\": X_train.columns, \"importance\": feature_importances}\n",
    "# ).sort_values(\"importance\", ascending=False)\n",
    "# feature_importances\n",
    "\n",
    "# # plot feature importance\n",
    "# n_features = X_train.shape[1]\n",
    "\n",
    "# plt.figure(figsize= (6, 5))\n",
    "# plt.barh(range(n_features), RS_xgb.best_estimator_.feature_importances_, align= 'center')\n",
    "# plt.yticks(np.arange(n_features), X.columns.values)\n",
    "# plt.title('Feature Importance of Tuned XGBoost')\n",
    "# plt.xlabel('Feature Importance')\n",
    "# plt.ylabel('Feature')\n",
    "\n",
    "# from pylab import rcParams\n",
    "# rcParams['figure.figsize'] = 15, 10\n",
    "# y_pred = RS_xgb.predict(X_test)\n",
    "\n",
    "# plt.plot(y_pred, marker= 'o', label= 'predictions')\n",
    "# plt.plot(y_test, marker= 'o', label= 'actual values')\n",
    "# plt.title('Actual vs. Predicted')\n",
    "# plt.legend()\n",
    "# plt.show()"
   ]
  },
  {
   "cell_type": "code",
   "execution_count": null,
   "metadata": {},
   "outputs": [],
   "source": []
  },
  {
   "cell_type": "code",
   "execution_count": null,
   "metadata": {},
   "outputs": [],
   "source": []
  },
  {
   "cell_type": "code",
   "execution_count": null,
   "metadata": {},
   "outputs": [],
   "source": []
  },
  {
   "cell_type": "code",
   "execution_count": null,
   "metadata": {},
   "outputs": [],
   "source": []
  },
  {
   "cell_type": "code",
   "execution_count": null,
   "metadata": {},
   "outputs": [],
   "source": []
  },
  {
   "cell_type": "code",
   "execution_count": null,
   "metadata": {},
   "outputs": [],
   "source": []
  },
  {
   "cell_type": "code",
   "execution_count": null,
   "metadata": {},
   "outputs": [],
   "source": []
  },
  {
   "cell_type": "code",
   "execution_count": null,
   "metadata": {},
   "outputs": [],
   "source": []
  },
  {
   "cell_type": "code",
   "execution_count": null,
   "metadata": {},
   "outputs": [],
   "source": []
  },
  {
   "cell_type": "code",
   "execution_count": 58,
   "metadata": {
    "ExecuteTime": {
     "end_time": "2021-02-11T23:53:36.523107Z",
     "start_time": "2021-02-11T23:53:36.520742Z"
    }
   },
   "outputs": [],
   "source": [
    "# len (df_eda[df_eda['gender'] == 0] & df_eda[df_eda['disease'] == 1])\n",
    "# df_male = df.loc[(df['gender'] == 0) & (df['disease'] == 1)]\n",
    "# # Separate areas into quadrants by latitude and longitude\n",
    "# df.loc[(df['lat'] >= 47.5) & (df['long'] >= -122.2), 'quadrant' ] = 'NW'\n",
    "# df.loc[(df['lat'] > 47.5) & (df['long'] < -122.2), 'quadrant' ] = 'NE'\n",
    "# df.loc[(df['lat'] <= 47.5) & (df['long'] <= -122.2), 'quadrant' ] = 'SW'\n",
    "# df.loc[(df['lat'] < 47.5) & (df['long'] > -122.2), 'quadrant' ] = 'SE'\n",
    "\n",
    "# # A house shouldn't have 0 bathrooms. Let's change the zeros to ones.\n",
    "# df1['bathrooms'] = df1['bathrooms'].map(lambda x: 1 if x == 0 else x)\n",
    "\n",
    "# df['age_range'] = df['age'].apply(lambda x: 'young' if (x >=30 and x <= 40) \\\n",
    "#                                   else ('middle_age' if (x>40 and x<=45) else 'Elderly'))"
   ]
  },
  {
   "cell_type": "code",
   "execution_count": 59,
   "metadata": {
    "ExecuteTime": {
     "end_time": "2021-02-11T23:53:36.527015Z",
     "start_time": "2021-02-11T23:53:36.524939Z"
    }
   },
   "outputs": [],
   "source": [
    "\n",
    "# waffle chart\n",
    "# data = {'Male': 49.98, 'Female': 49.28}\n",
    "\n",
    "# fig = plt.figure( \n",
    "#     FigureClass = Waffle, \n",
    "#     rows = 10, \n",
    "#     values = data, \n",
    "#     labels = ['{0} ({1}%)'.format(k, v) for k, v in data.items()],\n",
    "#     legend={'loc': 'lower left', 'bbox_to_anchor': (0, -0.4), 'ncol': len(data), 'framealpha': 0}\n",
    "    \n",
    "# ) "
   ]
  },
  {
   "cell_type": "code",
   "execution_count": 60,
   "metadata": {
    "ExecuteTime": {
     "end_time": "2021-02-11T23:53:36.530749Z",
     "start_time": "2021-02-11T23:53:36.528769Z"
    }
   },
   "outputs": [],
   "source": [
    "# plt.figure(figsize= (6,6))\n",
    "# fig1 = df_eda.groupby('gender')['disease'].mean().plot(kind= 'barh')\n",
    "# plt.xlim(0, 1)\n",
    "# plt.title('Proportion of Those With and Without Cardiovascular Disease')\n",
    "# plt.ylabel('Gender')\n",
    "# plt.xlabel('Proportion')"
   ]
  },
  {
   "cell_type": "code",
   "execution_count": 61,
   "metadata": {
    "ExecuteTime": {
     "end_time": "2021-02-11T23:53:36.534064Z",
     "start_time": "2021-02-11T23:53:36.532376Z"
    }
   },
   "outputs": [],
   "source": [
    "# legend_labels = ['male', 'female']\n",
    "\n",
    "# plt.figure(figsize= (8,8))\n",
    "# sns.catplot(x='gender', y='disease', kind='bar', data=df, palette= 'cubehelix')\n",
    "# plt.ylim(0, 1)\n",
    "# plt.title('Proportion of Disease per Gender')\n",
    "# plt.xlabel('Gender')\n",
    "# plt.ylabel('Proportion')\n",
    "# plt.legend(legend_labels)"
   ]
  },
  {
   "cell_type": "code",
   "execution_count": 62,
   "metadata": {
    "ExecuteTime": {
     "end_time": "2021-02-11T23:53:36.537190Z",
     "start_time": "2021-02-11T23:53:36.535679Z"
    }
   },
   "outputs": [],
   "source": [
    "# feature_importances = pipeline_cv.best_estimator_[\"model\"].feature_importances_\n",
    "# feature_importances = pd.DataFrame(\n",
    "#     {\"feature\": X_train.columns, \"importance\": feature_importances}\n",
    "# ).sort_values(\"importance\", ascending=False)\n",
    "# feature_importances"
   ]
  },
  {
   "cell_type": "code",
   "execution_count": 63,
   "metadata": {
    "ExecuteTime": {
     "end_time": "2021-02-11T23:53:36.540424Z",
     "start_time": "2021-02-11T23:53:36.538761Z"
    }
   },
   "outputs": [],
   "source": [
    "# # plot feature importance\n",
    "# n_features = X_train.shape[1]\n",
    "\n",
    "# plt.figure(figsize= (6, 5))\n",
    "# plt.barh(range(n_features), RS_xgb.best_estimator_.feature_importances_, align= 'center')\n",
    "# plt.yticks(np.arange(n_features), X.columns.values)\n",
    "# plt.title('Feature Importance of Tuned XGBoost')\n",
    "# plt.xlabel('Feature Importance')\n",
    "# plt.ylabel('Feature')"
   ]
  },
  {
   "cell_type": "code",
   "execution_count": 64,
   "metadata": {
    "ExecuteTime": {
     "end_time": "2021-02-11T23:53:36.543344Z",
     "start_time": "2021-02-11T23:53:36.541786Z"
    }
   },
   "outputs": [],
   "source": [
    "# from pylab import rcParams\n",
    "# rcParams['figure.figsize'] = 15, 10\n",
    "# y_pred = RS_xgb.predict(X_test)\n",
    "\n",
    "# plt.plot(y_pred, marker= 'o', label= 'predictions')\n",
    "# plt.plot(y_test, marker= 'o', label= 'actual values')\n",
    "# plt.title('Actual vs. Predicted')\n",
    "# plt.legend()\n",
    "# plt.show()"
   ]
  }
 ],
 "metadata": {
  "kernelspec": {
   "display_name": "Python 3",
   "language": "python",
   "name": "python3"
  },
  "language_info": {
   "codemirror_mode": {
    "name": "ipython",
    "version": 3
   },
   "file_extension": ".py",
   "mimetype": "text/x-python",
   "name": "python",
   "nbconvert_exporter": "python",
   "pygments_lexer": "ipython3",
   "version": "3.8.5"
  },
  "toc": {
   "base_numbering": 1,
   "nav_menu": {},
   "number_sections": true,
   "sideBar": true,
   "skip_h1_title": true,
   "title_cell": "Table of Contents",
   "title_sidebar": "Contents",
   "toc_cell": false,
   "toc_position": {
    "height": "calc(100% - 180px)",
    "left": "10px",
    "top": "150px",
    "width": "247.188px"
   },
   "toc_section_display": true,
   "toc_window_display": true
  },
  "varInspector": {
   "cols": {
    "lenName": 16,
    "lenType": 16,
    "lenVar": 40
   },
   "kernels_config": {
    "python": {
     "delete_cmd_postfix": "",
     "delete_cmd_prefix": "del ",
     "library": "var_list.py",
     "varRefreshCmd": "print(var_dic_list())"
    },
    "r": {
     "delete_cmd_postfix": ") ",
     "delete_cmd_prefix": "rm(",
     "library": "var_list.r",
     "varRefreshCmd": "cat(var_dic_list()) "
    }
   },
   "types_to_exclude": [
    "module",
    "function",
    "builtin_function_or_method",
    "instance",
    "_Feature"
   ],
   "window_display": false
  }
 },
 "nbformat": 4,
 "nbformat_minor": 4
}
